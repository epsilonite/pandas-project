{
 "cells": [
  {
   "cell_type": "markdown",
   "id": "8b063637-2841-46ac-869a-d2b73c2a12ca",
   "metadata": {},
   "source": [
    "# NOAA NCEI Parse Station Data\n",
    "---\n",
    "List of stations and their metadata (e.g., coordinates) is available: ftp://ftp.ncdc.noaa.gov/pub/data/ghcn/daily/ghcnd-stations.txt"
   ]
  },
  {
   "cell_type": "code",
   "execution_count": 1,
   "id": "ff0d156f-1651-4214-b1ce-5ce1644f3c42",
   "metadata": {},
   "outputs": [],
   "source": [
    "# Dependencies\n",
    "import pandas as pd"
   ]
  },
  {
   "cell_type": "markdown",
   "id": "38b58fd6-ff19-495e-aa91-0d097be3d2cb",
   "metadata": {},
   "source": [
    "## 1 Load File\n",
    "---"
   ]
  },
  {
   "cell_type": "code",
   "execution_count": 2,
   "id": "b21bac3a-4931-4f39-b68d-e449fab6763e",
   "metadata": {},
   "outputs": [
    {
     "data": {
      "text/plain": [
       "'ZI000067991 -22.2170   30.0000  457.0    BEITBRIDGE                             67991\\n'"
      ]
     },
     "execution_count": 2,
     "metadata": {},
     "output_type": "execute_result"
    }
   ],
   "source": [
    "# Open .txt file from NOAA with all weather stations for daily summaries\n",
    "stns_txt = open('../resources/ghcnd-stations.txt', 'r') # https://www.ncei.noaa.gov/pub/data/ghcn/daily/ghcnd-stations.txt\n",
    "lines = stns_txt.readlines()\n",
    "lines[-1]"
   ]
  },
  {
   "cell_type": "code",
   "execution_count": null,
   "id": "34ef3a98-1e34-43d5-8b39-0d1c487910e3",
   "metadata": {},
   "outputs": [],
   "source": []
  },
  {
   "cell_type": "markdown",
   "id": "fda37179-9436-4d39-9841-7b21456a1121",
   "metadata": {},
   "source": [
    "## 2 Parse File and Create DataFrame\n",
    "---"
   ]
  },
  {
   "cell_type": "code",
   "execution_count": 4,
   "id": "e6e44558-22c8-46ab-9e54-e25f55b57fbd",
   "metadata": {},
   "outputs": [
    {
     "data": {
      "text/html": [
       "<div>\n",
       "<style scoped>\n",
       "    .dataframe tbody tr th:only-of-type {\n",
       "        vertical-align: middle;\n",
       "    }\n",
       "\n",
       "    .dataframe tbody tr th {\n",
       "        vertical-align: top;\n",
       "    }\n",
       "\n",
       "    .dataframe thead th {\n",
       "        text-align: right;\n",
       "    }\n",
       "</style>\n",
       "<table border=\"1\" class=\"dataframe\">\n",
       "  <thead>\n",
       "    <tr style=\"text-align: right;\">\n",
       "      <th></th>\n",
       "      <th>station</th>\n",
       "      <th>lat</th>\n",
       "      <th>lon</th>\n",
       "      <th>elev</th>\n",
       "      <th>name</th>\n",
       "    </tr>\n",
       "  </thead>\n",
       "  <tbody>\n",
       "    <tr>\n",
       "      <th>125987</th>\n",
       "      <td>ZI000067991</td>\n",
       "      <td>-22.2170</td>\n",
       "      <td>30.0000</td>\n",
       "      <td>457.0</td>\n",
       "      <td>BEITBRIDGE                             67991</td>\n",
       "    </tr>\n",
       "  </tbody>\n",
       "</table>\n",
       "</div>"
      ],
      "text/plain": [
       "            station       lat      lon   elev  \\\n",
       "125987  ZI000067991  -22.2170  30.0000  457.0   \n",
       "\n",
       "                                                name  \n",
       "125987  BEITBRIDGE                             67991  "
      ]
     },
     "execution_count": 4,
     "metadata": {},
     "output_type": "execute_result"
    }
   ],
   "source": [
    "# Parse .txt file into a dataframe and do some string cleanup\n",
    "df = pd.DataFrame([x.split(maxsplit=4) for x in lines], columns=['station','lat','lon','elev','name'])\n",
    "df['name'] = df['name'].str.rstrip(to_strip='\\n')\n",
    "df = df.sort_values(by=['station'])\n",
    "df.tail(1)"
   ]
  },
  {
   "cell_type": "markdown",
   "id": "1c73997a-ab91-4d95-b625-095286cb2cc7",
   "metadata": {},
   "source": [
    "## 3 Export Data\n",
    "---"
   ]
  },
  {
   "cell_type": "code",
   "execution_count": 25,
   "id": "d65dcf80-63a9-48f3-bf8c-7026fa246e57",
   "metadata": {},
   "outputs": [],
   "source": [
    "# Output dataframe to csv\n",
    "df.to_csv('../outputs/noaa-ncei/ghcnd-stations.csv',index=False)"
   ]
  }
 ],
 "metadata": {
  "kernelspec": {
   "display_name": "Python 3 (ipykernel)",
   "language": "python",
   "name": "python3"
  },
  "language_info": {
   "codemirror_mode": {
    "name": "ipython",
    "version": 3
   },
   "file_extension": ".py",
   "mimetype": "text/x-python",
   "name": "python",
   "nbconvert_exporter": "python",
   "pygments_lexer": "ipython3",
   "version": "3.10.14"
  }
 },
 "nbformat": 4,
 "nbformat_minor": 5
}
