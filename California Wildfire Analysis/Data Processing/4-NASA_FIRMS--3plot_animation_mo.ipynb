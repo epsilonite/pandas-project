{
 "cells": [
  {
   "cell_type": "markdown",
   "id": "fdb0b427-04c1-49c6-92f6-3abaf65d09e8",
   "metadata": {},
   "source": [
    "# NASA FRIMS Fire Data Visualization\n",
    "---"
   ]
  },
  {
   "cell_type": "markdown",
   "id": "80cb99ff-2500-46d4-90b5-e46db109aaae",
   "metadata": {},
   "source": [
    "Dataset retreived from NRT VIIRS 375 m Active Fire product VNP14IMGT distributed from NASA FIRMS.\n",
    ">Please see `NASA-FIRMS_fetch.ipynb` for data scraping and `NASA_FIRMS_merge.ipynb` for data scrubbing\n"
   ]
  },
  {
   "cell_type": "code",
   "execution_count": 89,
   "id": "c37b4739-c985-444f-81a5-a3de9ea4773a",
   "metadata": {},
   "outputs": [],
   "source": [
    "# Dependencies\n",
    "import pandas as pd\n",
    "import geopandas as gpd\n",
    "import numpy as np\n",
    "import matplotlib.pyplot as plt\n",
    "from matplotlib import cm\n",
    "from matplotlib import colormaps as cmaps\n",
    "from matplotlib.colors import ListedColormap as lcmap\n",
    "from matplotlib.colors import Normalize as norm\n",
    "from matplotlib.colors import LogNorm as logn"
   ]
  },
  {
   "cell_type": "markdown",
   "id": "7b204f09-b074-4288-9bfc-54cfa50d7f4a",
   "metadata": {},
   "source": [
    "## 1 Set Variables and Load Data\n",
    "---"
   ]
  },
  {
   "cell_type": "markdown",
   "id": "962b041c-a928-41c0-9886-f5b91ce37209",
   "metadata": {},
   "source": [
    "### 1.1 Set Fixed Notebook Variables and Create Daterange"
   ]
  },
  {
   "cell_type": "code",
   "execution_count": 90,
   "id": "81b877f2-a4d5-4934-a3b5-1eecc8493a83",
   "metadata": {},
   "outputs": [],
   "source": [
    "# global variables\n",
    "crs = 4326 # coordinate reference system - EPSG:4326 WGS84 - World Geodetic System 1984, used in GPS\n",
    "# month list as %Y-%m\n",
    "dt = [f'{str(x.date())}'[0:7] for x in pd.date_range(\"2013-01-01\", \"2024-07-09\", freq=\"ME\")]"
   ]
  },
  {
   "cell_type": "markdown",
   "id": "5b4a063e-31a6-49b8-bfac-0257cc84439f",
   "metadata": {},
   "source": [
    "### 1.2 Load Shapes"
   ]
  },
  {
   "cell_type": "code",
   "execution_count": 91,
   "id": "c3eaf420-4b07-45a2-ad8d-4ff3703b7140",
   "metadata": {},
   "outputs": [],
   "source": [
    "# Load ca boundary/bounding box/grid shape file\n",
    "ca_bd = gpd.read_file('../data/shapes/ca_shape.geojson')\n",
    "ca_bbox = gpd.read_file('../data/shapes/ca_bbox.geojson')\n",
    "ca_gdf = gpd.read_file('../data/shapes/ca_grid.geojson')"
   ]
  },
  {
   "cell_type": "markdown",
   "id": "7a3e18c6-6025-46c9-9da7-1e65556acc4a",
   "metadata": {},
   "source": [
    "### 1.3 Load Fire Data"
   ]
  },
  {
   "cell_type": "code",
   "execution_count": 92,
   "id": "57437851-2081-4856-8e40-133e8cbd97de",
   "metadata": {},
   "outputs": [],
   "source": [
    "# Read NASA FIRMS fire data for year\n",
    "fire_df = pd.read_csv(f'../data/nasa-firms/all.csv')[['acq_date','latitude','longitude','frp']]"
   ]
  },
  {
   "cell_type": "markdown",
   "id": "c0fccfcd-216b-4a99-b37c-dbf5803ea371",
   "metadata": {},
   "source": [
    "## 2 Parse Data\n",
    "---"
   ]
  },
  {
   "cell_type": "markdown",
   "id": "5ee25e62-7dc6-48b6-b54f-b41979ded018",
   "metadata": {},
   "source": [
    "### 2.1 Parse Fire Data"
   ]
  },
  {
   "cell_type": "code",
   "execution_count": 97,
   "id": "3a80c1d3-84f6-457d-860a-2a3f26588f43",
   "metadata": {},
   "outputs": [],
   "source": [
    "# Create GeoDataframe from Dataframe and add count column\n",
    "fire_gdf = gpd.GeoDataFrame(fire_df[['acq_date','frp']], geometry = gpd.points_from_xy(fire_df.longitude,fire_df.latitude), crs=crs)\n",
    "fire_gdf.insert(2,'cnt',1)"
   ]
  },
  {
   "cell_type": "code",
   "execution_count": 98,
   "id": "5b965449-679f-43ed-8b8c-3e60ad7f2a2a",
   "metadata": {},
   "outputs": [
    {
     "data": {
      "text/html": [
       "<div>\n",
       "<style scoped>\n",
       "    .dataframe tbody tr th:only-of-type {\n",
       "        vertical-align: middle;\n",
       "    }\n",
       "\n",
       "    .dataframe tbody tr th {\n",
       "        vertical-align: top;\n",
       "    }\n",
       "\n",
       "    .dataframe thead th {\n",
       "        text-align: right;\n",
       "    }\n",
       "</style>\n",
       "<table border=\"1\" class=\"dataframe\">\n",
       "  <thead>\n",
       "    <tr style=\"text-align: right;\">\n",
       "      <th></th>\n",
       "      <th>acq_date</th>\n",
       "      <th>frp</th>\n",
       "      <th>cnt</th>\n",
       "      <th>geometry</th>\n",
       "    </tr>\n",
       "  </thead>\n",
       "  <tbody>\n",
       "    <tr>\n",
       "      <th>918265</th>\n",
       "      <td>2024-07-09</td>\n",
       "      <td>4.64</td>\n",
       "      <td>1</td>\n",
       "      <td>POINT (-123.01070 41.53033)</td>\n",
       "    </tr>\n",
       "  </tbody>\n",
       "</table>\n",
       "</div>"
      ],
      "text/plain": [
       "          acq_date   frp  cnt                     geometry\n",
       "918265  2024-07-09  4.64    1  POINT (-123.01070 41.53033)"
      ]
     },
     "execution_count": 98,
     "metadata": {},
     "output_type": "execute_result"
    }
   ],
   "source": [
    "fire_gdf.tail(1)"
   ]
  },
  {
   "cell_type": "code",
   "execution_count": 99,
   "id": "e101a907-544e-47d8-8151-47a24dc9ec5a",
   "metadata": {},
   "outputs": [],
   "source": [
    "# sjoin to filter fire data points within ca state boundary\n",
    "ca_fire_gdf = gpd.sjoin(fire_gdf,ca_gdf, how='left', predicate='within').dropna()"
   ]
  },
  {
   "cell_type": "code",
   "execution_count": 100,
   "id": "6567f3c2-363b-44cf-9da8-3ebdb1d008d8",
   "metadata": {},
   "outputs": [],
   "source": [
    "filter = ca_fire_gdf['index_right'].unique().astype('int')"
   ]
  },
  {
   "cell_type": "code",
   "execution_count": 15,
   "id": "d3b6e04f-3123-43c2-b356-61680466efcf",
   "metadata": {},
   "outputs": [],
   "source": [
    "ca_gdf.loc[filter,:].to_file('../data/nasa-firms/geojson/ca_fire_GES_grids.geojson', driver='GeoJSON')"
   ]
  },
  {
   "cell_type": "code",
   "execution_count": 16,
   "id": "ac597942-0047-4d48-bcb8-8b722a209ea3",
   "metadata": {},
   "outputs": [],
   "source": [
    "ca_fire_gdf[['acq_date','frp','cnt','index_right']].to_csv('../data/nasa-firms/geojson/ca_fire_GES_data.csv')"
   ]
  },
  {
   "cell_type": "markdown",
   "id": "971ec5ab-1d65-4983-8b2b-317e6cf03861",
   "metadata": {},
   "source": [
    "### 2.2 Bin Fire Data by Month"
   ]
  },
  {
   "cell_type": "code",
   "execution_count": 101,
   "id": "cc80faf9-f33f-4ab9-a31e-eaf43fd08d42",
   "metadata": {},
   "outputs": [],
   "source": [
    "# variables to store\n",
    "ca_fire_dict = {}\n",
    "ca_gdf_dict ={}\n",
    "# Loop through months and output fire plots\n",
    "for d in dt:\n",
    "    # Group Fire by month\n",
    "    fire_mo_gdf = ca_fire_gdf.loc[ca_fire_gdf['acq_date'].str[0:7] == d][['index_right','frp','cnt','geometry']] #length is ttl incidents in set\n",
    "    # Dissolve on sum of values\n",
    "    dissolve = fire_mo_gdf.dissolve(by='index_right', aggfunc='sum') #grouped points in active fire grids of incidents in ca\n",
    "    # Store ca geodataframe to dict\n",
    "    ca_fire_dict[d] = dissolve\n",
    "    ca_gdf_dict[d] = gpd.GeoDataFrame({'grid_index':[int(x) for x in dissolve.index], 'frp':dissolve.frp.values, 'cnt':dissolve.cnt.values},\n",
    "                         geometry = ca_gdf.geometry[dissolve.index].to_list(), crs=crs)"
   ]
  },
  {
   "cell_type": "markdown",
   "id": "d9fe0677-ec92-4a10-94c8-1edf9710210c",
   "metadata": {},
   "source": [
    "## 2 Plot Data\n",
    "---"
   ]
  },
  {
   "cell_type": "code",
   "execution_count": 106,
   "id": "de80f7fb-21fa-4c9a-bbf3-73b19163a2be",
   "metadata": {},
   "outputs": [],
   "source": [
    "# set custom colomap\n",
    "afmhot = cmaps['afmhot']\n",
    "afmhot2 = lcmap(afmhot(np.linspace(0.1, 0.7, 256)))\n",
    "n1 = logn(vmin=0.07, vmax=52558.2)"
   ]
  },
  {
   "cell_type": "code",
   "execution_count": 107,
   "id": "ebdea328-e5af-42f6-aba0-cc45d274cebd",
   "metadata": {},
   "outputs": [],
   "source": [
    "# Create Plots\n",
    "for d in dt:\n",
    "    for c in ['frp']: #,'cnt','frp/cnt']\n",
    "        # Plot ca cells\n",
    "        ax = ca_fire_dict[d].plot(figsize=(11,10), column=c, cmap=afmhot2, alpha=0.8,\n",
    "                                 markersize=1, vmin=0.07, vmax=52558.2, norm=n1, zorder=3)\n",
    "        ax.axis('off')\n",
    "        ca = ca_bd.to_crs(crs=4326).plot(ax=ax, color='#333', zorder=2) # Plot state boundary\n",
    "        bbox = ca_bbox.to_crs(crs=4326).plot(ax=ax, color='#fff', zorder=1) # Plot bounding box\n",
    "        plt.colorbar(cm.ScalarMappable(norm=n1, cmap=afmhot2), ax=ax, \n",
    "                     location='right', anchor=(0, 0.3), shrink=0.5) # Configure colorbar\n",
    "        v = ca_gdf_dict[d][c]\n",
    "        plt.title(f'{d}: min={v.min():.{2}f} median={np.median(v):.{1}f} max={v.max():.{0}f}', loc='left')\n",
    "        plt.savefig(f'../images/nasa-firms/{c}/{c}_{d}.png')\n",
    "        plt.close()"
   ]
  }
 ],
 "metadata": {
  "kernelspec": {
   "display_name": "Python 3 (ipykernel)",
   "language": "python",
   "name": "python3"
  },
  "language_info": {
   "codemirror_mode": {
    "name": "ipython",
    "version": 3
   },
   "file_extension": ".py",
   "mimetype": "text/x-python",
   "name": "python",
   "nbconvert_exporter": "python",
   "pygments_lexer": "ipython3",
   "version": "3.10.14"
  }
 },
 "nbformat": 4,
 "nbformat_minor": 5
}
