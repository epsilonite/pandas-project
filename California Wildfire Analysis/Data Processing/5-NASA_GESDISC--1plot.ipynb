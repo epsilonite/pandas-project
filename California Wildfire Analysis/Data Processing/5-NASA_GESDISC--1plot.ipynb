{
 "cells": [
  {
   "cell_type": "markdown",
   "id": "22cf5465-add3-4d30-8ac7-adf52ad6215f",
   "metadata": {},
   "source": [
    "# NASA GES DISC Precipitation"
   ]
  },
  {
   "cell_type": "code",
   "execution_count": 1,
   "id": "d67f9dd8-787c-4b97-b9c2-8782876afce5",
   "metadata": {},
   "outputs": [],
   "source": [
    "# Dependencies\n",
    "import pandas as pd\n",
    "import geopandas as gpd\n",
    "import numpy as np\n",
    "import matplotlib.pyplot as plt\n",
    "from matplotlib import cm\n",
    "from matplotlib import colormaps as cmaps\n",
    "from matplotlib.colors import ListedColormap as lcmap\n",
    "from matplotlib.colors import Normalize as norm\n",
    "from matplotlib.colors import LogNorm as logn\n",
    "import matplotlib.animation as animation\n",
    "import fns as f"
   ]
  },
  {
   "cell_type": "code",
   "execution_count": 2,
   "id": "fbf659d9-a1d3-4da6-bedb-5efd2cedc855",
   "metadata": {},
   "outputs": [],
   "source": [
    "ca_shape = gpd.read_file('../outputs/shapes/ca_shape.geojson')\n",
    "ca_bbox = gpd.read_file('../outputs/shapes/ca_bbox.geojson')\n",
    "ca_grid = gpd.read_file('../outputs/shapes/ca_grid.geojson')"
   ]
  },
  {
   "cell_type": "code",
   "execution_count": 3,
   "id": "87cd042d-5215-49f3-bbf3-99fe0a7748cb",
   "metadata": {},
   "outputs": [],
   "source": [
    "# Get dates to pull fire data\n",
    "dt = [f'{str(x.date())[0:7]}' for x in pd.date_range(\"2013-01-01\", \"2024-02-29\", freq=\"ME\")]"
   ]
  },
  {
   "cell_type": "code",
   "execution_count": 4,
   "id": "926324ef-0495-4df6-b3d5-ddb4c042eab4",
   "metadata": {},
   "outputs": [],
   "source": [
    "ca_fire_grid = gpd.read_file('../outputs/nasa-firms/geojson/ca_fire_GES_grids.geojson')"
   ]
  },
  {
   "cell_type": "code",
   "execution_count": 5,
   "id": "02e687e2-8acf-43ca-b672-18888866a1ff",
   "metadata": {},
   "outputs": [],
   "source": [
    "rain_gdf_dict = {}\n",
    "for d in dt:\n",
    "    df = pd.read_csv(f'../outputs/nasa-gesdisc/{d}.csv').set_index('lon')\n",
    "    rain = []\n",
    "    for i in ca_grid.index:\n",
    "        x = round(ca_grid.loc[i,'geometry'].centroid.x,2)\n",
    "        y = round(ca_grid.loc[i,'geometry'].centroid.y,2)\n",
    "        rain.append(df.loc[x,str(y)])\n",
    "    rain_gdf_dict[d] = gpd.GeoDataFrame({'rain':rain},geometry=ca_grid.geometry,crs=4326)"
   ]
  },
  {
   "cell_type": "code",
   "execution_count": 6,
   "id": "7a7a4175-4cb4-4774-9f0a-2ec346c83247",
   "metadata": {},
   "outputs": [
    {
     "data": {
      "text/html": [
       "<div>\n",
       "<style scoped>\n",
       "    .dataframe tbody tr th:only-of-type {\n",
       "        vertical-align: middle;\n",
       "    }\n",
       "\n",
       "    .dataframe tbody tr th {\n",
       "        vertical-align: top;\n",
       "    }\n",
       "\n",
       "    .dataframe thead th {\n",
       "        text-align: right;\n",
       "    }\n",
       "</style>\n",
       "<table border=\"1\" class=\"dataframe\">\n",
       "  <thead>\n",
       "    <tr style=\"text-align: right;\">\n",
       "      <th></th>\n",
       "      <th>rain</th>\n",
       "      <th>geometry</th>\n",
       "    </tr>\n",
       "  </thead>\n",
       "  <tbody>\n",
       "    <tr>\n",
       "      <th>0</th>\n",
       "      <td>354.849430</td>\n",
       "      <td>POLYGON ((-124.40000 40.20000, -124.40000 40.3...</td>\n",
       "    </tr>\n",
       "    <tr>\n",
       "      <th>1</th>\n",
       "      <td>331.331970</td>\n",
       "      <td>POLYGON ((-124.40000 40.30000, -124.40000 40.4...</td>\n",
       "    </tr>\n",
       "    <tr>\n",
       "      <th>2</th>\n",
       "      <td>335.432250</td>\n",
       "      <td>POLYGON ((-124.40000 40.40000, -124.40000 40.5...</td>\n",
       "    </tr>\n",
       "    <tr>\n",
       "      <th>3</th>\n",
       "      <td>259.690670</td>\n",
       "      <td>POLYGON ((-124.40000 40.50000, -124.40000 40.6...</td>\n",
       "    </tr>\n",
       "    <tr>\n",
       "      <th>4</th>\n",
       "      <td>265.494300</td>\n",
       "      <td>POLYGON ((-124.40000 40.60000, -124.40000 40.7...</td>\n",
       "    </tr>\n",
       "    <tr>\n",
       "      <th>...</th>\n",
       "      <td>...</td>\n",
       "      <td>...</td>\n",
       "    </tr>\n",
       "    <tr>\n",
       "      <th>4552</th>\n",
       "      <td>33.241314</td>\n",
       "      <td>POLYGON ((-114.20000 34.20000, -114.20000 34.3...</td>\n",
       "    </tr>\n",
       "    <tr>\n",
       "      <th>4553</th>\n",
       "      <td>30.697727</td>\n",
       "      <td>POLYGON ((-114.20000 34.30000, -114.20000 34.4...</td>\n",
       "    </tr>\n",
       "    <tr>\n",
       "      <th>4554</th>\n",
       "      <td>30.373266</td>\n",
       "      <td>POLYGON ((-114.20000 34.40000, -114.20000 34.5...</td>\n",
       "    </tr>\n",
       "    <tr>\n",
       "      <th>4555</th>\n",
       "      <td>24.893406</td>\n",
       "      <td>POLYGON ((-114.10000 34.20000, -114.10000 34.3...</td>\n",
       "    </tr>\n",
       "    <tr>\n",
       "      <th>4556</th>\n",
       "      <td>25.846704</td>\n",
       "      <td>POLYGON ((-114.10000 34.30000, -114.10000 34.4...</td>\n",
       "    </tr>\n",
       "  </tbody>\n",
       "</table>\n",
       "<p>4557 rows × 2 columns</p>\n",
       "</div>"
      ],
      "text/plain": [
       "            rain                                           geometry\n",
       "0     354.849430  POLYGON ((-124.40000 40.20000, -124.40000 40.3...\n",
       "1     331.331970  POLYGON ((-124.40000 40.30000, -124.40000 40.4...\n",
       "2     335.432250  POLYGON ((-124.40000 40.40000, -124.40000 40.5...\n",
       "3     259.690670  POLYGON ((-124.40000 40.50000, -124.40000 40.6...\n",
       "4     265.494300  POLYGON ((-124.40000 40.60000, -124.40000 40.7...\n",
       "...          ...                                                ...\n",
       "4552   33.241314  POLYGON ((-114.20000 34.20000, -114.20000 34.3...\n",
       "4553   30.697727  POLYGON ((-114.20000 34.30000, -114.20000 34.4...\n",
       "4554   30.373266  POLYGON ((-114.20000 34.40000, -114.20000 34.5...\n",
       "4555   24.893406  POLYGON ((-114.10000 34.20000, -114.10000 34.3...\n",
       "4556   25.846704  POLYGON ((-114.10000 34.30000, -114.10000 34.4...\n",
       "\n",
       "[4557 rows x 2 columns]"
      ]
     },
     "execution_count": 6,
     "metadata": {},
     "output_type": "execute_result"
    }
   ],
   "source": [
    "rain_gdf_dict[d]"
   ]
  },
  {
   "cell_type": "code",
   "execution_count": 7,
   "id": "9b5d425f-1932-48c9-996e-468da3c54dc4",
   "metadata": {},
   "outputs": [],
   "source": [
    "# set custom colomap\n",
    "viridis = cmaps['viridis']\n",
    "viridis2 = lcmap(viridis(np.linspace(0.3, 0.8, 256)))"
   ]
  },
  {
   "cell_type": "code",
   "execution_count": 8,
   "id": "4165e332-3437-4d1b-b16a-16c2487b6369",
   "metadata": {},
   "outputs": [
    {
     "ename": "NameError",
     "evalue": "name 'ca_bd' is not defined",
     "output_type": "error",
     "traceback": [
      "\u001b[1;31m---------------------------------------------------------------------------\u001b[0m",
      "\u001b[1;31mNameError\u001b[0m                                 Traceback (most recent call last)",
      "Cell \u001b[1;32mIn[8], line 8\u001b[0m\n\u001b[0;32m      5\u001b[0m ax \u001b[38;5;241m=\u001b[39m rain_gdf_dict[d]\u001b[38;5;241m.\u001b[39mplot(figsize\u001b[38;5;241m=\u001b[39m(\u001b[38;5;241m11\u001b[39m,\u001b[38;5;241m10\u001b[39m), column\u001b[38;5;241m=\u001b[39mc, cmap\u001b[38;5;241m=\u001b[39mviridis, alpha\u001b[38;5;241m=\u001b[39m\u001b[38;5;241m0.8\u001b[39m,\n\u001b[0;32m      6\u001b[0m                          markersize\u001b[38;5;241m=\u001b[39m\u001b[38;5;241m1\u001b[39m, vmin\u001b[38;5;241m=\u001b[39m\u001b[38;5;241m0\u001b[39m, vmax\u001b[38;5;241m=\u001b[39m\u001b[38;5;241m300\u001b[39m, zorder\u001b[38;5;241m=\u001b[39m\u001b[38;5;241m3\u001b[39m)\n\u001b[0;32m      7\u001b[0m ax\u001b[38;5;241m.\u001b[39maxis(\u001b[38;5;124m'\u001b[39m\u001b[38;5;124moff\u001b[39m\u001b[38;5;124m'\u001b[39m)\n\u001b[1;32m----> 8\u001b[0m ca \u001b[38;5;241m=\u001b[39m \u001b[43mca_bd\u001b[49m\u001b[38;5;241m.\u001b[39mto_crs(crs\u001b[38;5;241m=\u001b[39m\u001b[38;5;241m4326\u001b[39m)\u001b[38;5;241m.\u001b[39mplot(ax\u001b[38;5;241m=\u001b[39max, color\u001b[38;5;241m=\u001b[39m\u001b[38;5;124m'\u001b[39m\u001b[38;5;124m#333\u001b[39m\u001b[38;5;124m'\u001b[39m, zorder\u001b[38;5;241m=\u001b[39m\u001b[38;5;241m2\u001b[39m) \u001b[38;5;66;03m# Plot state boundary\u001b[39;00m\n\u001b[0;32m      9\u001b[0m bbox \u001b[38;5;241m=\u001b[39m ca_bbox\u001b[38;5;241m.\u001b[39mto_crs(crs\u001b[38;5;241m=\u001b[39m\u001b[38;5;241m4326\u001b[39m)\u001b[38;5;241m.\u001b[39mplot(ax\u001b[38;5;241m=\u001b[39max, color\u001b[38;5;241m=\u001b[39m\u001b[38;5;124m'\u001b[39m\u001b[38;5;124m#fff\u001b[39m\u001b[38;5;124m'\u001b[39m, zorder\u001b[38;5;241m=\u001b[39m\u001b[38;5;241m1\u001b[39m) \u001b[38;5;66;03m# Plot bounding box\u001b[39;00m\n\u001b[0;32m     10\u001b[0m plt\u001b[38;5;241m.\u001b[39mcolorbar(cm\u001b[38;5;241m.\u001b[39mScalarMappable(cmap\u001b[38;5;241m=\u001b[39mviridis2), ax\u001b[38;5;241m=\u001b[39max, \n\u001b[0;32m     11\u001b[0m              location\u001b[38;5;241m=\u001b[39m\u001b[38;5;124m'\u001b[39m\u001b[38;5;124mright\u001b[39m\u001b[38;5;124m'\u001b[39m, anchor\u001b[38;5;241m=\u001b[39m(\u001b[38;5;241m0\u001b[39m, \u001b[38;5;241m0.3\u001b[39m), shrink\u001b[38;5;241m=\u001b[39m\u001b[38;5;241m0.5\u001b[39m) \u001b[38;5;66;03m# Configure colorbar\u001b[39;00m\n",
      "\u001b[1;31mNameError\u001b[0m: name 'ca_bd' is not defined"
     ]
    },
    {
     "data": {
      "image/png": "[encoded data removed]",
      "text/plain": [
       "<Figure size 1100x1000 with 1 Axes>"
      ]
     },
     "metadata": {},
     "output_type": "display_data"
    }
   ],
   "source": [
    "# Create Plots\n",
    "for d in dt:\n",
    "    for c in ['rain']: #,'cnt','frp/cnt']\n",
    "        # Plot ca cells\n",
    "        ax = rain_gdf_dict[d].plot(figsize=(11,10), column=c, cmap=viridis, alpha=0.8,\n",
    "                                 markersize=1, vmin=0, vmax=300, zorder=3)\n",
    "        ax.axis('off')\n",
    "        ca = ca_shape.to_crs(crs=4326).plot(ax=ax, color='#333', zorder=2) # Plot state boundary\n",
    "        bbox = ca_bbox.to_crs(crs=4326).plot(ax=ax, color='#fff', zorder=1) # Plot bounding box\n",
    "        plt.colorbar(cm.ScalarMappable(cmap=viridis2), ax=ax, \n",
    "                     location='right', anchor=(0, 0.3), shrink=0.5) # Configure colorbar\n",
    "        v = rain_gdf_dict[d][c]\n",
    "        plt.title(f'{d}: min={v.min():.{2}f} median={np.median(v):.{1}f} max={v.max():.{0}f}', loc='left')\n",
    "        plt.savefig(f'../outputs/nasa-gesdisc/{c}_{d}.png')\n",
    "        plt.close()"
   ]
  },
  {
   "cell_type": "code",
   "execution_count": null,
   "id": "29875731-9d5a-434f-b711-f7ba1c2d1045",
   "metadata": {},
   "outputs": [],
   "source": [
    "df1 = pd.DataFrame(columns=dt)\n",
    "for d in dt:\n",
    "    df1[d] = rain_gdf_dict[d]['rain']"
   ]
  },
  {
   "cell_type": "code",
   "execution_count": null,
   "id": "f9d704dc-9d20-4da0-864f-7514e4f8ce74",
   "metadata": {},
   "outputs": [],
   "source": [
    "boxprops = dict(linestyle='-', linewidth=0.5, color='#999', facecolor=\"#eee\")\n",
    "flierprops = dict(marker='o', markerfacecolor='#999', markersize=3, markeredgecolor='none', alpha=0.4)\n",
    "medianprops = dict(linestyle='-', linewidth=2.5, color='green')\n",
    "meanprops = dict(marker='D', markeredgecolor='none',markerfacecolor='#ffa425')\n",
    "capprops = dict(color=\"#666\", linewidth = 2.5)"
   ]
  },
  {
   "cell_type": "code",
   "execution_count": null,
   "id": "cfa45366-e35c-46b0-a3a3-fc5c467a40ae",
   "metadata": {},
   "outputs": [],
   "source": [
    "df1.T.plot.bar(ylabel='precipitation mm/mo', \n",
    "            figsize=(55,18), grid=False, stacked=True)\n",
    "plt.title('Total Monthly Precipitation in 0.1° Grid')\n",
    "plt.xticks(rotation='vertical')\n",
    "plt.grid(axis='y',color='#eee')\n",
    "# plt.yscale('log')\n",
    "# plt.savefig(f'../outputs/nasa-gesdisc/boxplot_log.png')\n",
    "plt.show()"
   ]
  },
  {
   "cell_type": "code",
   "execution_count": null,
   "id": "65f70cab-6d64-46f6-8e99-08500887a491",
   "metadata": {},
   "outputs": [],
   "source": []
  }
 ],
 "metadata": {
  "kernelspec": {
   "display_name": "Python 3 (ipykernel)",
   "language": "python",
   "name": "python3"
  },
  "language_info": {
   "codemirror_mode": {
    "name": "ipython",
    "version": 3
   },
   "file_extension": ".py",
   "mimetype": "text/x-python",
   "name": "python",
   "nbconvert_exporter": "python",
   "pygments_lexer": "ipython3",
   "version": "3.10.14"
  }
 },
 "nbformat": 4,
 "nbformat_minor": 5
}
