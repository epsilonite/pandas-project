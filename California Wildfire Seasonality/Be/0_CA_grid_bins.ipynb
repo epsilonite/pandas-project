{
 "cells": [
  {
   "cell_type": "code",
   "execution_count": 1,
   "id": "2b155ce7-ca04-4c5e-bf37-b27fa2263460",
   "metadata": {},
   "outputs": [],
   "source": [
    "# Dependencies\n",
    "import pandas as pd\n",
    "import geopandas as gpd\n",
    "import shapely as shp\n",
    "import matplotlib.pyplot as plt\n",
    "import fns as f"
   ]
  },
  {
   "cell_type": "code",
   "execution_count": 2,
   "id": "73897150-e902-471f-b902-d1b8c6f57f09",
   "metadata": {},
   "outputs": [
    {
     "data": {
      "text/html": [
       "<div>\n",
       "<style scoped>\n",
       "    .dataframe tbody tr th:only-of-type {\n",
       "        vertical-align: middle;\n",
       "    }\n",
       "\n",
       "    .dataframe tbody tr th {\n",
       "        vertical-align: top;\n",
       "    }\n",
       "\n",
       "    .dataframe thead th {\n",
       "        text-align: right;\n",
       "    }\n",
       "</style>\n",
       "<table border=\"1\" class=\"dataframe\">\n",
       "  <thead>\n",
       "    <tr style=\"text-align: right;\">\n",
       "      <th></th>\n",
       "      <th>gid</th>\n",
       "      <th>arealand</th>\n",
       "      <th>division</th>\n",
       "      <th>intptlat</th>\n",
       "      <th>name</th>\n",
       "      <th>objectid</th>\n",
       "      <th>areawater</th>\n",
       "      <th>intptlon</th>\n",
       "      <th>oid</th>\n",
       "      <th>funcstat</th>\n",
       "      <th>...</th>\n",
       "      <th>state</th>\n",
       "      <th>statens</th>\n",
       "      <th>centlat</th>\n",
       "      <th>basename</th>\n",
       "      <th>mtfcc</th>\n",
       "      <th>region</th>\n",
       "      <th>lsadc</th>\n",
       "      <th>geoid</th>\n",
       "      <th>geo_point_2d</th>\n",
       "      <th>geometry</th>\n",
       "    </tr>\n",
       "  </thead>\n",
       "  <tbody>\n",
       "    <tr>\n",
       "      <th>0</th>\n",
       "      <td>48</td>\n",
       "      <td>-222385618</td>\n",
       "      <td>9</td>\n",
       "      <td>37.155177</td>\n",
       "      <td>California</td>\n",
       "      <td>14</td>\n",
       "      <td>-1011556647</td>\n",
       "      <td>-119.543418</td>\n",
       "      <td>239405626</td>\n",
       "      <td>A</td>\n",
       "      <td>...</td>\n",
       "      <td>06</td>\n",
       "      <td>01779778</td>\n",
       "      <td>37.154735</td>\n",
       "      <td>California</td>\n",
       "      <td>G4000</td>\n",
       "      <td>4</td>\n",
       "      <td>00</td>\n",
       "      <td>06</td>\n",
       "      <td>{'lon': -119.663749804, 'lat': 37.2153570137}</td>\n",
       "      <td>MULTIPOLYGON (((-124.13656 41.46445, -124.1441...</td>\n",
       "    </tr>\n",
       "  </tbody>\n",
       "</table>\n",
       "<p>1 rows × 22 columns</p>\n",
       "</div>"
      ],
      "text/plain": [
       "   gid    arealand  division   intptlat        name  objectid    areawater  \\\n",
       "0   48  -222385618         9  37.155177  California        14  -1011556647   \n",
       "\n",
       "     intptlon        oid funcstat  ...  state   statens    centlat  \\\n",
       "0 -119.543418  239405626        A  ...     06  01779778  37.154735   \n",
       "\n",
       "     basename  mtfcc region lsadc  geoid  \\\n",
       "0  California  G4000      4    00     06   \n",
       "\n",
       "                                    geo_point_2d  \\\n",
       "0  {'lon': -119.663749804, 'lat': 37.2153570137}   \n",
       "\n",
       "                                            geometry  \n",
       "0  MULTIPOLYGON (((-124.13656 41.46445, -124.1441...  \n",
       "\n",
       "[1 rows x 22 columns]"
      ]
     },
     "execution_count": 2,
     "metadata": {},
     "output_type": "execute_result"
    }
   ],
   "source": [
    "# Read California state boundary geojson\n",
    "gdf = gpd.read_file('../outputs/geojson/ca_boundary.geojson')\n",
    "gdf"
   ]
  },
  {
   "cell_type": "code",
   "execution_count": 3,
   "id": "77ced3d9-df9c-461c-a03e-7836d4e3811f",
   "metadata": {},
   "outputs": [
    {
     "data": {
      "text/plain": [
       "<Axes: >"
      ]
     },
     "execution_count": 3,
     "metadata": {},
     "output_type": "execute_result"
    },
    {
     "data": {
      "image/png": "[encoded data removed]",
      "text/plain": [
       "<Figure size 640x480 with 1 Axes>"
      ]
     },
     "metadata": {},
     "output_type": "display_data"
    }
   ],
   "source": [
    "# Show shape\n",
    "gdf.plot()"
   ]
  },
  {
   "cell_type": "code",
   "execution_count": 38,
   "id": "61635662-3e9b-4627-a4c8-b021756c4a5a",
   "metadata": {},
   "outputs": [
    {
     "data": {
      "text/html": [
       "<div>\n",
       "<style scoped>\n",
       "    .dataframe tbody tr th:only-of-type {\n",
       "        vertical-align: middle;\n",
       "    }\n",
       "\n",
       "    .dataframe tbody tr th {\n",
       "        vertical-align: top;\n",
       "    }\n",
       "\n",
       "    .dataframe thead th {\n",
       "        text-align: right;\n",
       "    }\n",
       "</style>\n",
       "<table border=\"1\" class=\"dataframe\">\n",
       "  <thead>\n",
       "    <tr style=\"text-align: right;\">\n",
       "      <th></th>\n",
       "      <th>geometry</th>\n",
       "    </tr>\n",
       "  </thead>\n",
       "  <tbody>\n",
       "    <tr>\n",
       "      <th>0</th>\n",
       "      <td>POLYGON ((-124.40000 32.40000, -124.40000 32.5...</td>\n",
       "    </tr>\n",
       "    <tr>\n",
       "      <th>1</th>\n",
       "      <td>POLYGON ((-124.40000 32.50000, -124.40000 32.6...</td>\n",
       "    </tr>\n",
       "    <tr>\n",
       "      <th>2</th>\n",
       "      <td>POLYGON ((-124.40000 32.60000, -124.40000 32.7...</td>\n",
       "    </tr>\n",
       "    <tr>\n",
       "      <th>3</th>\n",
       "      <td>POLYGON ((-124.40000 32.70000, -124.40000 32.8...</td>\n",
       "    </tr>\n",
       "    <tr>\n",
       "      <th>4</th>\n",
       "      <td>POLYGON ((-124.40000 32.80000, -124.40000 32.9...</td>\n",
       "    </tr>\n",
       "    <tr>\n",
       "      <th>...</th>\n",
       "      <td>...</td>\n",
       "    </tr>\n",
       "    <tr>\n",
       "      <th>10075</th>\n",
       "      <td>POLYGON ((-114.00000 41.50000, -114.00000 41.6...</td>\n",
       "    </tr>\n",
       "    <tr>\n",
       "      <th>10076</th>\n",
       "      <td>POLYGON ((-114.00000 41.60000, -114.00000 41.7...</td>\n",
       "    </tr>\n",
       "    <tr>\n",
       "      <th>10077</th>\n",
       "      <td>POLYGON ((-114.00000 41.70000, -114.00000 41.8...</td>\n",
       "    </tr>\n",
       "    <tr>\n",
       "      <th>10078</th>\n",
       "      <td>POLYGON ((-114.00000 41.80000, -114.00000 41.9...</td>\n",
       "    </tr>\n",
       "    <tr>\n",
       "      <th>10079</th>\n",
       "      <td>POLYGON ((-114.00000 41.90000, -114.00000 42.0...</td>\n",
       "    </tr>\n",
       "  </tbody>\n",
       "</table>\n",
       "<p>10080 rows × 1 columns</p>\n",
       "</div>"
      ],
      "text/plain": [
       "                                                geometry\n",
       "0      POLYGON ((-124.40000 32.40000, -124.40000 32.5...\n",
       "1      POLYGON ((-124.40000 32.50000, -124.40000 32.6...\n",
       "2      POLYGON ((-124.40000 32.60000, -124.40000 32.7...\n",
       "3      POLYGON ((-124.40000 32.70000, -124.40000 32.8...\n",
       "4      POLYGON ((-124.40000 32.80000, -124.40000 32.9...\n",
       "...                                                  ...\n",
       "10075  POLYGON ((-114.00000 41.50000, -114.00000 41.6...\n",
       "10076  POLYGON ((-114.00000 41.60000, -114.00000 41.7...\n",
       "10077  POLYGON ((-114.00000 41.70000, -114.00000 41.8...\n",
       "10078  POLYGON ((-114.00000 41.80000, -114.00000 41.9...\n",
       "10079  POLYGON ((-114.00000 41.90000, -114.00000 42.0...\n",
       "\n",
       "[10080 rows x 1 columns]"
      ]
     },
     "execution_count": 38,
     "metadata": {},
     "output_type": "execute_result"
    }
   ],
   "source": [
    "# Create grid size based on GPM IMERG cell size\n",
    "grid_cells = []\n",
    "grid_size = 0.1\n",
    "for x in range(-12445,-11405+10,10):\n",
    "    for y in range(3245, 4195+10,10):\n",
    "        grid_cells.append(f.polysquare(x,y,5,100))\n",
    "cells = gpd.GeoDataFrame(grid_cells, columns=['geometry'], crs=4326)\n",
    "cells"
   ]
  },
  {
   "cell_type": "code",
   "execution_count": 39,
   "id": "e8d32cb9-4e0d-413d-b9cc-64436f714b80",
   "metadata": {},
   "outputs": [
    {
     "data": {
      "text/plain": [
       "0        False\n",
       "1        False\n",
       "2        False\n",
       "3        False\n",
       "4        False\n",
       "         ...  \n",
       "10075    False\n",
       "10076    False\n",
       "10077    False\n",
       "10078    False\n",
       "10079    False\n",
       "Length: 10080, dtype: bool"
      ]
     },
     "execution_count": 39,
     "metadata": {},
     "output_type": "execute_result"
    }
   ],
   "source": [
    "# Creat boolean mask for grid cells based on intersect with CA boundary shape\n",
    "mask = cells.intersects(gdf['geometry'][0])\n",
    "mask"
   ]
  },
  {
   "cell_type": "code",
   "execution_count": 40,
   "id": "a47f3047-207a-4c59-872f-42b058394751",
   "metadata": {},
   "outputs": [],
   "source": [
    "# Create list of index for cells covering CA from mask\n",
    "index = [i for (i, v) in zip(range(0,len(mask)), mask) if v]"
   ]
  },
  {
   "cell_type": "code",
   "execution_count": 41,
   "id": "a1e9dc38-9f85-4046-89d4-8426a99dc70b",
   "metadata": {},
   "outputs": [],
   "source": [
    "# Write list of indices to csv file\n",
    "pd.Series(index,name='keep').to_csv('../outputs/geojson/ca_grid_index_keep.csv',index=False)"
   ]
  },
  {
   "cell_type": "code",
   "execution_count": 42,
   "id": "d9b4a9a0-86c0-4a8e-abb3-83ef3fcacb3c",
   "metadata": {},
   "outputs": [],
   "source": [
    "# Create list of index for cells to be dropped from mask\n",
    "drop = [i for (i, v) in zip(range(0,len(mask)), mask) if not v]"
   ]
  },
  {
   "cell_type": "code",
   "execution_count": 43,
   "id": "ddbf37f7-be4a-4d75-8e90-8ec3a854ba45",
   "metadata": {},
   "outputs": [],
   "source": [
    "# Write list of indices to csv file\n",
    "pd.Series(drop,name='drop').to_csv('../outputs/geojson/ca_grid_index_drop.csv',index=False)"
   ]
  },
  {
   "cell_type": "code",
   "execution_count": 44,
   "id": "001d0b96-e0c5-4a77-b61f-f6122440ff58",
   "metadata": {},
   "outputs": [
    {
     "data": {
      "text/plain": [
       "<Axes: >"
      ]
     },
     "execution_count": 44,
     "metadata": {},
     "output_type": "execute_result"
    },
    {
     "data": {
      "image/png": "[encoded data removed]",
      "text/plain": [
       "<Figure size 640x480 with 1 Axes>"
      ]
     },
     "metadata": {},
     "output_type": "display_data"
    }
   ],
   "source": [
    "# Filter grid cells by index using drop list\n",
    "ca_cells = cells.drop(index=drop)\n",
    "ca_cells.plot()"
   ]
  },
  {
   "cell_type": "code",
   "execution_count": 45,
   "id": "73886375-2cae-4925-affb-31aa11cf09d8",
   "metadata": {},
   "outputs": [],
   "source": [
    "# Write CA cells to geojson file\n",
    "ca_cells.to_file('../outputs/geojson/ca_grid.geojson', driver='GeoJSON')"
   ]
  },
  {
   "cell_type": "code",
   "execution_count": 46,
   "id": "e7873460-2b03-455a-a2a7-1fb347b52fe7",
   "metadata": {},
   "outputs": [],
   "source": [
    "# Read CA cells file to check\n",
    "ca_grid = gpd.read_file('../outputs/geojson/ca_grid.geojson')"
   ]
  },
  {
   "cell_type": "code",
   "execution_count": 47,
   "id": "644361d0-1ccb-4a3c-8e61-ec5a0a121889",
   "metadata": {},
   "outputs": [
    {
     "data": {
      "image/png": "[encoded data removed]",
      "text/plain": [
       "<Figure size 640x480 with 1 Axes>"
      ]
     },
     "metadata": {},
     "output_type": "display_data"
    }
   ],
   "source": [
    "ax=ca_grid.plot( zorder=2)\n",
    "gdf.plot(ax=ax, color='black', zorder=1)\n",
    "plt.show()"
   ]
  },
  {
   "cell_type": "code",
   "execution_count": 50,
   "id": "394f8ab8-c18b-4c6c-86e0-8b06468c1a65",
   "metadata": {},
   "outputs": [
    {
     "data": {
      "text/plain": [
       "[-124.482003000119, 32.5288320002052, -114.131210999644, 42.0095030001829]"
      ]
     },
     "execution_count": 50,
     "metadata": {},
     "output_type": "execute_result"
    }
   ],
   "source": [
    "f.CAbounds()"
   ]
  },
  {
   "cell_type": "code",
   "execution_count": 71,
   "id": "690b5222-4097-4d69-a4d3-24550cfff5ab",
   "metadata": {},
   "outputs": [
    {
     "data": {
      "text/plain": [
       "[-124.6, 32.4, -114.0, 42.1]"
      ]
     },
     "execution_count": 71,
     "metadata": {},
     "output_type": "execute_result"
    }
   ],
   "source": [
    "bd = [ca_cells['geometry'].bounds['minx'].min()-0.1,\n",
    "      ca_cells['geometry'].bounds['miny'].min()-0.1,\n",
    "      ca_cells['geometry'].bounds['maxx'].max()+0.1,\n",
    "      ca_cells['geometry'].bounds['maxy'].max()+0.1]\n",
    "bd"
   ]
  },
  {
   "cell_type": "code",
   "execution_count": 72,
   "id": "dc99d148-5ea3-4cea-9c6e-cfc69f8c5960",
   "metadata": {},
   "outputs": [],
   "source": [
    "bd_shp = shp.geometry.box(bd[0],bd[1],bd[2],bd[3])"
   ]
  },
  {
   "cell_type": "code",
   "execution_count": 73,
   "id": "7a51f80e-ebd2-4d4d-88f0-8030326d8fc2",
   "metadata": {},
   "outputs": [],
   "source": [
    "bd_gdf = gpd.GeoDataFrame([bd_shp], columns=['geometry'], crs=4326)"
   ]
  },
  {
   "cell_type": "code",
   "execution_count": 75,
   "id": "aee31fff-5130-4912-8fd3-c7f78d9add73",
   "metadata": {},
   "outputs": [],
   "source": [
    "bd_gdf.to_file('../outputs/geojson/ca_bbox.geojson', driver='GeoJSON')"
   ]
  }
 ],
 "metadata": {
  "kernelspec": {
   "display_name": "Python 3 (ipykernel)",
   "language": "python",
   "name": "python3"
  },
  "language_info": {
   "codemirror_mode": {
    "name": "ipython",
    "version": 3
   },
   "file_extension": ".py",
   "mimetype": "text/x-python",
   "name": "python",
   "nbconvert_exporter": "python",
   "pygments_lexer": "ipython3",
   "version": "3.10.14"
  }
 },
 "nbformat": 4,
 "nbformat_minor": 5
}
