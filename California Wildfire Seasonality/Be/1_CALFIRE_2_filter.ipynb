{
 "cells": [
  {
   "cell_type": "code",
   "execution_count": 2,
   "id": "6ea9a9c0-49c2-4019-a174-8acf89d9b0b8",
   "metadata": {},
   "outputs": [],
   "source": [
    "# Dependencies\n",
    "import pandas as pd\n",
    "import geopandas as gpd"
   ]
  },
  {
   "cell_type": "code",
   "execution_count": 3,
   "id": "04bb5a30-3364-4ac2-9f5c-ecf41d3429f1",
   "metadata": {},
   "outputs": [],
   "source": [
    "yr = 2013"
   ]
  },
  {
   "cell_type": "code",
   "execution_count": 8,
   "id": "ba15b097-3156-4934-b0da-ab081dd48517",
   "metadata": {},
   "outputs": [
    {
     "data": {
      "text/html": [
       "<div>\n",
       "<style scoped>\n",
       "    .dataframe tbody tr th:only-of-type {\n",
       "        vertical-align: middle;\n",
       "    }\n",
       "\n",
       "    .dataframe tbody tr th {\n",
       "        vertical-align: top;\n",
       "    }\n",
       "\n",
       "    .dataframe thead th {\n",
       "        text-align: right;\n",
       "    }\n",
       "</style>\n",
       "<table border=\"1\" class=\"dataframe\">\n",
       "  <thead>\n",
       "    <tr style=\"text-align: right;\">\n",
       "      <th></th>\n",
       "      <th>ALARM_DATE</th>\n",
       "      <th>CONT_DATE</th>\n",
       "      <th>CAUSE_ID</th>\n",
       "      <th>CAUSE</th>\n",
       "      <th>GIS_ACRES</th>\n",
       "      <th>AGENCY</th>\n",
       "      <th>FIRE_NAME</th>\n",
       "      <th>geometry</th>\n",
       "    </tr>\n",
       "  </thead>\n",
       "  <tbody>\n",
       "    <tr>\n",
       "      <th>296</th>\n",
       "      <td>2013-05-02</td>\n",
       "      <td>2013-05-11</td>\n",
       "      <td>14</td>\n",
       "      <td>Unknown/Unidentified</td>\n",
       "      <td>23676.66</td>\n",
       "      <td>CCO</td>\n",
       "      <td>SPRINGS</td>\n",
       "      <td>MULTIPOLYGON (((-119.02166 34.15128, -119.0219...</td>\n",
       "    </tr>\n",
       "  </tbody>\n",
       "</table>\n",
       "</div>"
      ],
      "text/plain": [
       "     ALARM_DATE   CONT_DATE  CAUSE_ID                 CAUSE  GIS_ACRES AGENCY  \\\n",
       "296  2013-05-02  2013-05-11        14  Unknown/Unidentified   23676.66    CCO   \n",
       "\n",
       "    FIRE_NAME                                           geometry  \n",
       "296   SPRINGS  MULTIPOLYGON (((-119.02166 34.15128, -119.0219...  "
      ]
     },
     "execution_count": 8,
     "metadata": {},
     "output_type": "execute_result"
    }
   ],
   "source": [
    "gdf = gpd.read_file(f'../outputs/calfire-geojson/ca_fire_{yr}.geojson')\n",
    "gdf.tail(1)"
   ]
  },
  {
   "cell_type": "code",
   "execution_count": 12,
   "id": "24dcf9e4-8f34-4fe0-93db-ec8bada4d158",
   "metadata": {},
   "outputs": [
    {
     "data": {
      "text/html": [
       "<div>\n",
       "<style scoped>\n",
       "    .dataframe tbody tr th:only-of-type {\n",
       "        vertical-align: middle;\n",
       "    }\n",
       "\n",
       "    .dataframe tbody tr th {\n",
       "        vertical-align: top;\n",
       "    }\n",
       "\n",
       "    .dataframe thead th {\n",
       "        text-align: right;\n",
       "    }\n",
       "</style>\n",
       "<table border=\"1\" class=\"dataframe\">\n",
       "  <thead>\n",
       "    <tr style=\"text-align: right;\">\n",
       "      <th></th>\n",
       "      <th>station</th>\n",
       "      <th>2013-01-01</th>\n",
       "      <th>2013-01-02</th>\n",
       "      <th>2013-01-03</th>\n",
       "      <th>2013-01-04</th>\n",
       "      <th>2013-01-05</th>\n",
       "      <th>2013-01-06</th>\n",
       "      <th>2013-01-07</th>\n",
       "      <th>2013-01-08</th>\n",
       "      <th>2013-01-09</th>\n",
       "      <th>...</th>\n",
       "      <th>2013-12-27</th>\n",
       "      <th>2013-12-28</th>\n",
       "      <th>2013-12-29</th>\n",
       "      <th>2013-12-30</th>\n",
       "      <th>2013-12-31</th>\n",
       "      <th>lat</th>\n",
       "      <th>lon</th>\n",
       "      <th>elev</th>\n",
       "      <th>name</th>\n",
       "      <th>geometry</th>\n",
       "    </tr>\n",
       "  </thead>\n",
       "  <tbody>\n",
       "    <tr>\n",
       "      <th>1047</th>\n",
       "      <td>USW00094299</td>\n",
       "      <td>0.0</td>\n",
       "      <td>0.0</td>\n",
       "      <td>0.0</td>\n",
       "      <td>0.0</td>\n",
       "      <td>0.0</td>\n",
       "      <td>0.0</td>\n",
       "      <td>0.3</td>\n",
       "      <td>0.0</td>\n",
       "      <td>5.1</td>\n",
       "      <td>...</td>\n",
       "      <td>0.0</td>\n",
       "      <td>0.0</td>\n",
       "      <td>0.0</td>\n",
       "      <td>0.0</td>\n",
       "      <td>0.0</td>\n",
       "      <td>41.4836</td>\n",
       "      <td>-120.5614</td>\n",
       "      <td>1335.9</td>\n",
       "      <td>CA ALTURAS MUNI AP</td>\n",
       "      <td>POINT (-120.56140 41.48360)</td>\n",
       "    </tr>\n",
       "  </tbody>\n",
       "</table>\n",
       "<p>1 rows × 371 columns</p>\n",
       "</div>"
      ],
      "text/plain": [
       "          station  2013-01-01  2013-01-02  2013-01-03  2013-01-04  2013-01-05  \\\n",
       "1047  USW00094299         0.0         0.0         0.0         0.0         0.0   \n",
       "\n",
       "      2013-01-06  2013-01-07  2013-01-08  2013-01-09  ...  2013-12-27  \\\n",
       "1047         0.0         0.3         0.0         5.1  ...         0.0   \n",
       "\n",
       "      2013-12-28  2013-12-29  2013-12-30  2013-12-31      lat       lon  \\\n",
       "1047         0.0         0.0         0.0         0.0  41.4836 -120.5614   \n",
       "\n",
       "        elev                                             name  \\\n",
       "1047  1335.9  CA ALTURAS MUNI AP                                \n",
       "\n",
       "                         geometry  \n",
       "1047  POINT (-120.56140 41.48360)  \n",
       "\n",
       "[1 rows x 371 columns]"
      ]
     },
     "execution_count": 12,
     "metadata": {},
     "output_type": "execute_result"
    }
   ],
   "source": [
    "prcp_df = pd.read_csv(f'../outputs/noaa-ncei/CA_{yr}_prcp_data.csv')\n",
    "stn_gdf = gpd.GeoDataFrame(prcp_df, geometry=gpd.points_from_xy(prcp_df.lon, prcp_df.lat), crs=4326)\n",
    "stn_gdf.tail(1)"
   ]
  },
  {
   "cell_type": "code",
   "execution_count": 17,
   "id": "318483c4-7ec7-40a6-b27d-66d0cc958c61",
   "metadata": {},
   "outputs": [
    {
     "ename": "MergeError",
     "evalue": "Passing 'suffixes' which cause duplicate columns {'2013-10-28_left', '2013-09-14_left', '2013-11-10_left', '2013-03-24_left', '2013-04-15_left', '2013-10-27_left', '2013-12-09_left', '2013-04-14_left', '2013-08-18_left', '2013-04-18_left', '2013-02-14_left', '2013-11-07_left', '2013-07-04_left', '2013-05-31_left', '2013-11-30_left', '2013-12-29_left', '2013-12-08_left', '2013-09-02_left', '2013-12-20_left', '2013-06-06_left', '2013-09-27_left', '2013-08-28_left', '2013-10-02_left', '2013-09-09_left', '2013-02-19_left', '2013-08-10_left', '2013-09-28_left', '2013-08-26_left', '2013-03-27_left', '2013-10-14_left', '2013-04-13_left', '2013-12-04_left', '2013-07-14_left', '2013-06-12_left', '2013-10-04_left', '2013-07-18_left', '2013-02-16_left', '2013-07-25_left', '2013-10-17_left', '2013-05-26_left', '2013-03-12_left', '2013-02-02_left', '2013-09-08_left', '2013-07-31_left', '2013-12-27_left', '2013-07-15_left', '2013-08-25_left', '2013-09-16_left', '2013-06-30_left', '2013-02-05_left', '2013-02-17_left', '2013-12-11_left', '2013-11-05_left', '2013-01-25_left', '2013-11-21_left', '2013-10-08_left', '2013-12-18_left', '2013-07-13_left', '2013-09-11_left', '2013-06-26_left', '2013-08-23_left', '2013-07-12_left', '2013-10-05_left', '2013-11-24_left', '2013-08-31_left', '2013-04-27_left', '2013-11-19_left', '2013-11-06_left', '2013-12-17_left', '2013-03-23_left', '2013-10-01_left', '2013-09-26_left', '2013-10-11_left', '2013-09-22_left', '2013-12-02_left', '2013-06-24_left', '2013-10-09_left', '2013-09-12_left', '2013-11-28_left', '2013-05-02_left', '2013-08-05_left', '2013-05-15_left', '2013-02-15_left', '2013-11-08_left', '2013-04-03_left', '2013-02-22_left', '2013-07-19_left', '2013-06-18_left', '2013-05-09_left', '2013-08-08_left', '2013-08-15_left', '2013-08-30_left', '2013-07-30_left', '2013-04-28_left', '2013-02-25_left', '2013-04-21_left', '2013-05-21_left', '2013-03-18_left', '2013-06-20_left', '2013-07-11_left', '2013-06-09_left', '2013-03-02_left', '2013-06-23_left', '2013-09-21_left', '2013-04-12_left', '2013-06-28_left', '2013-12-12_left', '2013-10-10_left', '2013-05-13_left', '2013-01-24_left', '2013-10-25_left', '2013-12-16_left', '2013-10-19_left', '2013-01-04_left', '2013-05-06_left', '2013-12-31_left', '2013-02-24_left', '2013-07-07_left', '2013-08-09_left', '2013-04-02_left', '2013-04-26_left', '2013-06-10_left', '2013-08-11_left', '2013-09-17_left', '2013-06-27_left', '2013-12-15_left', '2013-03-20_left', '2013-08-29_left', '2013-03-05_left', '2013-06-08_left', '2013-09-19_left', '2013-04-10_left', '2013-02-06_left', '2013-03-14_left', '2013-05-05_left', '2013-10-15_left', '2013-09-18_left', '2013-11-11_left', '2013-04-07_left', '2013-05-12_left', '2013-06-04_left', '2013-11-26_left', '2013-06-13_left', '2013-04-24_left', '2013-10-07_left', '2013-06-17_left', '2013-03-01_left', '2013-08-20_left', '2013-01-10_left', '2013-11-23_left', '2013-03-15_left', '2013-05-16_left', '2013-03-04_left', '2013-01-09_left', '2013-04-11_left', '2013-08-22_left', '2013-10-30_left', '2013-01-23_left', '2013-09-25_left', '2013-02-08_left', '2013-12-06_left', '2013-11-20_left', '2013-12-22_left', '2013-10-24_left', '2013-07-17_left', '2013-12-21_left', '2013-04-19_left', '2013-12-23_left', '2013-01-30_left', '2013-08-01_left', '2013-09-04_left', '2013-02-10_left', '2013-02-21_left', '2013-07-23_left', '2013-03-09_left', '2013-06-21_left', '2013-10-23_left', '2013-09-03_left', '2013-03-10_left', '2013-10-13_left', '2013-08-24_left', '2013-01-02_left', '2013-04-23_left', '2013-07-26_left', '2013-09-01_left', '2013-07-16_left', '2013-07-29_left', '2013-10-06_left', '2013-11-17_left', '2013-10-16_left', '2013-02-27_left', '2013-02-03_left', '2013-02-11_left', '2013-07-03_left', '2013-03-28_left', '2013-05-01_left', '2013-12-30_left', '2013-11-29_left', '2013-01-16_left', '2013-09-15_left', '2013-05-28_left', '2013-02-12_left', '2013-01-19_left', '2013-04-01_left', '2013-06-02_left', '2013-02-20_left', '2013-07-24_left', '2013-09-13_left', '2013-02-23_left', '2013-07-27_left', '2013-09-23_left', '2013-04-30_left', '2013-06-07_left', '2013-07-06_left', '2013-10-31_left', '2013-12-13_left', '2013-10-22_left', '2013-11-22_left', '2013-02-01_left', '2013-02-09_left', '2013-05-11_left', '2013-11-14_left', '2013-01-07_left', '2013-04-05_left', '2013-05-17_left', '2013-05-25_left', '2013-01-21_left', '2013-11-27_left', '2013-08-21_left', '2013-01-17_left', '2013-02-18_left', '2013-07-09_left', '2013-11-12_left', '2013-02-26_left', '2013-12-25_left', '2013-05-10_left', '2013-03-16_left', '2013-01-14_left', '2013-12-01_left', '2013-10-20_left', '2013-11-15_left', '2013-05-14_left', '2013-06-11_left', '2013-04-09_left', '2013-03-08_left', '2013-01-11_left', '2013-04-29_left', '2013-04-08_left', '2013-01-31_left', '2013-11-03_left', '2013-10-18_left', '2013-08-16_left', '2013-05-30_left', '2013-09-07_left', '2013-09-24_left', '2013-07-21_left', '2013-07-20_left', '2013-12-07_left', '2013-01-26_left', '2013-04-04_left', '2013-07-01_left', '2013-01-28_left', '2013-03-31_left', '2013-06-19_left', '2013-09-05_left', '2013-08-19_left', '2013-05-04_left', '2013-03-30_left', '2013-03-25_left', '2013-11-01_left', '2013-05-07_left', '2013-10-21_left', '2013-01-12_left', '2013-10-12_left', '2013-05-19_left', '2013-08-03_left', '2013-01-03_left', '2013-08-12_left', '2013-06-15_left', '2013-02-04_left', '2013-06-29_left', '2013-12-26_left', '2013-03-11_left', '2013-04-22_left', '2013-08-17_left', '2013-04-20_left', '2013-11-09_left', '2013-08-14_left', '2013-01-22_left', '2013-01-15_left', '2013-01-08_left', '2013-09-10_left', '2013-06-16_left', '2013-06-05_left', '2013-12-14_left', '2013-08-07_left', '2013-07-10_left', '2013-01-20_left', '2013-09-30_left', '2013-11-04_left', '2013-06-01_left', '2013-07-02_left', '2013-03-22_left', '2013-06-25_left', '2013-05-03_left', '2013-10-29_left', '2013-05-22_left', '2013-02-13_left', '2013-06-22_left', '2013-07-22_left', '2013-12-24_left', '2013-09-29_left', '2013-01-01_left', '2013-09-06_left', '2013-03-29_left', '2013-03-17_left', '2013-12-19_left', '2013-08-13_left', '2013-01-05_left', '2013-03-03_left', '2013-05-27_left', '2013-11-25_left', '2013-03-19_left', '2013-04-25_left', '2013-12-28_left', '2013-05-23_left', '2013-09-20_left', '2013-01-18_left', '2013-08-27_left', '2013-05-24_left', '2013-01-27_left', '2013-04-16_left', '2013-02-07_left', '2013-06-03_left', '2013-05-08_left', '2013-03-21_left', '2013-07-05_left', '2013-05-18_left', '2013-05-29_left', '2013-11-18_left', '2013-11-02_left', '2013-03-26_left', '2013-04-06_left', '2013-02-28_left', '2013-01-06_left', '2013-07-28_left', '2013-08-02_left', '2013-10-26_left', '2013-08-04_left', '2013-07-08_left', '2013-05-20_left', '2013-01-29_left', '2013-03-07_left', '2013-08-06_left', '2013-04-17_left', '2013-12-05_left', '2013-03-06_left', '2013-11-13_left', '2013-11-16_left', '2013-12-03_left', '2013-03-13_left', '2013-06-14_left', '2013-12-10_left', '2013-01-13_left', '2013-10-03_left'} is not allowed.",
     "output_type": "error",
     "traceback": [
      "\u001b[1;31m---------------------------------------------------------------------------\u001b[0m",
      "\u001b[1;31mMergeError\u001b[0m                                Traceback (most recent call last)",
      "Cell \u001b[1;32mIn[17], line 3\u001b[0m\n\u001b[0;32m      1\u001b[0m \u001b[38;5;28;01mfor\u001b[39;00m y \u001b[38;5;129;01min\u001b[39;00m [yr,yr\u001b[38;5;241m-\u001b[39m\u001b[38;5;241m1\u001b[39m]:\n\u001b[0;32m      2\u001b[0m     stn_gdf \u001b[38;5;241m=\u001b[39m gpd\u001b[38;5;241m.\u001b[39mGeoDataFrame(prcp_df, geometry\u001b[38;5;241m=\u001b[39mgpd\u001b[38;5;241m.\u001b[39mpoints_from_xy(prcp_df\u001b[38;5;241m.\u001b[39mlon, prcp_df\u001b[38;5;241m.\u001b[39mlat), crs\u001b[38;5;241m=\u001b[39m\u001b[38;5;241m4326\u001b[39m)\n\u001b[1;32m----> 3\u001b[0m     gdf \u001b[38;5;241m=\u001b[39m \u001b[43mgdf\u001b[49m\u001b[38;5;241;43m.\u001b[39;49m\u001b[43mto_crs\u001b[49m\u001b[43m(\u001b[49m\u001b[38;5;241;43m32610\u001b[39;49m\u001b[43m)\u001b[49m\u001b[38;5;241;43m.\u001b[39;49m\u001b[43msjoin_nearest\u001b[49m\u001b[43m(\u001b[49m\u001b[43mstn_gdf\u001b[49m\u001b[38;5;241;43m.\u001b[39;49m\u001b[43mto_crs\u001b[49m\u001b[43m(\u001b[49m\u001b[38;5;241;43m32610\u001b[39;49m\u001b[43m)\u001b[49m\u001b[43m)\u001b[49m\u001b[38;5;241m.\u001b[39mto_crs(\u001b[38;5;241m4326\u001b[39m)\n\u001b[0;32m      4\u001b[0m     gdf \u001b[38;5;241m=\u001b[39m gdf\u001b[38;5;241m.\u001b[39mdrop(columns\u001b[38;5;241m=\u001b[39m[\u001b[38;5;124m'\u001b[39m\u001b[38;5;124mindex_right\u001b[39m\u001b[38;5;124m'\u001b[39m,\u001b[38;5;124m'\u001b[39m\u001b[38;5;124melev\u001b[39m\u001b[38;5;124m'\u001b[39m,\u001b[38;5;124m'\u001b[39m\u001b[38;5;124mname\u001b[39m\u001b[38;5;124m'\u001b[39m,\u001b[38;5;124m'\u001b[39m\u001b[38;5;124mlat\u001b[39m\u001b[38;5;124m'\u001b[39m,\u001b[38;5;124m'\u001b[39m\u001b[38;5;124mlon\u001b[39m\u001b[38;5;124m'\u001b[39m])\u001b[38;5;241m.\u001b[39mrename(columns\u001b[38;5;241m=\u001b[39m{\u001b[38;5;124m'\u001b[39m\u001b[38;5;124mstation\u001b[39m\u001b[38;5;124m'\u001b[39m:\u001b[38;5;124mf\u001b[39m\u001b[38;5;124m'\u001b[39m\u001b[38;5;124mSTN\u001b[39m\u001b[38;5;132;01m{\u001b[39;00my\u001b[38;5;132;01m}\u001b[39;00m\u001b[38;5;124m'\u001b[39m})\n\u001b[0;32m      5\u001b[0m     gdf[\u001b[38;5;124mf\u001b[39m\u001b[38;5;124m'\u001b[39m\u001b[38;5;124mSTN\u001b[39m\u001b[38;5;132;01m{\u001b[39;00my\u001b[38;5;132;01m}\u001b[39;00m\u001b[38;5;124m'\u001b[39m]\u001b[38;5;241m.\u001b[39mto_csv(\u001b[38;5;124mf\u001b[39m\u001b[38;5;124m'\u001b[39m\u001b[38;5;124m../outputs/calfire-csv/\u001b[39m\u001b[38;5;132;01m{\u001b[39;00myr\u001b[38;5;132;01m}\u001b[39;00m\u001b[38;5;124m/stns_\u001b[39m\u001b[38;5;132;01m{\u001b[39;00my\u001b[38;5;132;01m}\u001b[39;00m\u001b[38;5;124m.csv\u001b[39m\u001b[38;5;124m'\u001b[39m,index\u001b[38;5;241m=\u001b[39m\u001b[38;5;28;01mFalse\u001b[39;00m)\n",
      "File \u001b[1;32m~\\anaconda3\\envs\\dev\\lib\\site-packages\\geopandas\\geodataframe.py:2315\u001b[0m, in \u001b[0;36mGeoDataFrame.sjoin_nearest\u001b[1;34m(self, right, how, max_distance, lsuffix, rsuffix, distance_col, exclusive)\u001b[0m\n\u001b[0;32m   2191\u001b[0m \u001b[38;5;28;01mdef\u001b[39;00m \u001b[38;5;21msjoin_nearest\u001b[39m(\n\u001b[0;32m   2192\u001b[0m     \u001b[38;5;28mself\u001b[39m,\n\u001b[0;32m   2193\u001b[0m     right,\n\u001b[1;32m   (...)\u001b[0m\n\u001b[0;32m   2199\u001b[0m     exclusive\u001b[38;5;241m=\u001b[39m\u001b[38;5;28;01mFalse\u001b[39;00m,\n\u001b[0;32m   2200\u001b[0m ):\n\u001b[0;32m   2201\u001b[0m \u001b[38;5;250m    \u001b[39m\u001b[38;5;124;03m\"\"\"\u001b[39;00m\n\u001b[0;32m   2202\u001b[0m \u001b[38;5;124;03m    Spatial join of two GeoDataFrames based on the distance between their\u001b[39;00m\n\u001b[0;32m   2203\u001b[0m \u001b[38;5;124;03m    geometries.\u001b[39;00m\n\u001b[1;32m   (...)\u001b[0m\n\u001b[0;32m   2313\u001b[0m \u001b[38;5;124;03m    dimension is not taken into account.\u001b[39;00m\n\u001b[0;32m   2314\u001b[0m \u001b[38;5;124;03m    \"\"\"\u001b[39;00m\n\u001b[1;32m-> 2315\u001b[0m     \u001b[38;5;28;01mreturn\u001b[39;00m \u001b[43mgeopandas\u001b[49m\u001b[38;5;241;43m.\u001b[39;49m\u001b[43msjoin_nearest\u001b[49m\u001b[43m(\u001b[49m\n\u001b[0;32m   2316\u001b[0m \u001b[43m        \u001b[49m\u001b[38;5;28;43mself\u001b[39;49m\u001b[43m,\u001b[49m\n\u001b[0;32m   2317\u001b[0m \u001b[43m        \u001b[49m\u001b[43mright\u001b[49m\u001b[43m,\u001b[49m\n\u001b[0;32m   2318\u001b[0m \u001b[43m        \u001b[49m\u001b[43mhow\u001b[49m\u001b[38;5;241;43m=\u001b[39;49m\u001b[43mhow\u001b[49m\u001b[43m,\u001b[49m\n\u001b[0;32m   2319\u001b[0m \u001b[43m        \u001b[49m\u001b[43mmax_distance\u001b[49m\u001b[38;5;241;43m=\u001b[39;49m\u001b[43mmax_distance\u001b[49m\u001b[43m,\u001b[49m\n\u001b[0;32m   2320\u001b[0m \u001b[43m        \u001b[49m\u001b[43mlsuffix\u001b[49m\u001b[38;5;241;43m=\u001b[39;49m\u001b[43mlsuffix\u001b[49m\u001b[43m,\u001b[49m\n\u001b[0;32m   2321\u001b[0m \u001b[43m        \u001b[49m\u001b[43mrsuffix\u001b[49m\u001b[38;5;241;43m=\u001b[39;49m\u001b[43mrsuffix\u001b[49m\u001b[43m,\u001b[49m\n\u001b[0;32m   2322\u001b[0m \u001b[43m        \u001b[49m\u001b[43mdistance_col\u001b[49m\u001b[38;5;241;43m=\u001b[39;49m\u001b[43mdistance_col\u001b[49m\u001b[43m,\u001b[49m\n\u001b[0;32m   2323\u001b[0m \u001b[43m        \u001b[49m\u001b[43mexclusive\u001b[49m\u001b[38;5;241;43m=\u001b[39;49m\u001b[43mexclusive\u001b[49m\u001b[43m,\u001b[49m\n\u001b[0;32m   2324\u001b[0m \u001b[43m    \u001b[49m\u001b[43m)\u001b[49m\n",
      "File \u001b[1;32m~\\anaconda3\\envs\\dev\\lib\\site-packages\\geopandas\\tools\\sjoin.py:547\u001b[0m, in \u001b[0;36msjoin_nearest\u001b[1;34m(left_df, right_df, how, max_distance, lsuffix, rsuffix, distance_col, exclusive)\u001b[0m\n\u001b[0;32m    544\u001b[0m \u001b[38;5;28;01melse\u001b[39;00m:\n\u001b[0;32m    545\u001b[0m     join_df\u001b[38;5;241m.\u001b[39mpop(\u001b[38;5;124m\"\u001b[39m\u001b[38;5;124mdistances\u001b[39m\u001b[38;5;124m\"\u001b[39m)\n\u001b[1;32m--> 547\u001b[0m joined \u001b[38;5;241m=\u001b[39m \u001b[43m_frame_join\u001b[49m\u001b[43m(\u001b[49m\u001b[43mjoin_df\u001b[49m\u001b[43m,\u001b[49m\u001b[43m \u001b[49m\u001b[43mleft_df\u001b[49m\u001b[43m,\u001b[49m\u001b[43m \u001b[49m\u001b[43mright_df\u001b[49m\u001b[43m,\u001b[49m\u001b[43m \u001b[49m\u001b[43mhow\u001b[49m\u001b[43m,\u001b[49m\u001b[43m \u001b[49m\u001b[43mlsuffix\u001b[49m\u001b[43m,\u001b[49m\u001b[43m \u001b[49m\u001b[43mrsuffix\u001b[49m\u001b[43m)\u001b[49m\n\u001b[0;32m    549\u001b[0m \u001b[38;5;28;01mif\u001b[39;00m return_distance:\n\u001b[0;32m    550\u001b[0m     columns \u001b[38;5;241m=\u001b[39m [c \u001b[38;5;28;01mfor\u001b[39;00m c \u001b[38;5;129;01min\u001b[39;00m joined\u001b[38;5;241m.\u001b[39mcolumns \u001b[38;5;28;01mif\u001b[39;00m c \u001b[38;5;241m!=\u001b[39m distance_col] \u001b[38;5;241m+\u001b[39m [distance_col]\n",
      "File \u001b[1;32m~\\anaconda3\\envs\\dev\\lib\\site-packages\\geopandas\\tools\\sjoin.py:295\u001b[0m, in \u001b[0;36m_frame_join\u001b[1;34m(join_df, left_df, right_df, how, lsuffix, rsuffix)\u001b[0m\n\u001b[0;32m    292\u001b[0m \u001b[38;5;28;01mif\u001b[39;00m how \u001b[38;5;241m==\u001b[39m \u001b[38;5;124m\"\u001b[39m\u001b[38;5;124minner\u001b[39m\u001b[38;5;124m\"\u001b[39m:\n\u001b[0;32m    293\u001b[0m     join_df \u001b[38;5;241m=\u001b[39m join_df\u001b[38;5;241m.\u001b[39mset_index(\u001b[38;5;124m\"\u001b[39m\u001b[38;5;124m_key_left\u001b[39m\u001b[38;5;124m\"\u001b[39m)\n\u001b[0;32m    294\u001b[0m     joined \u001b[38;5;241m=\u001b[39m (\n\u001b[1;32m--> 295\u001b[0m         \u001b[43mleft_df\u001b[49m\u001b[38;5;241;43m.\u001b[39;49m\u001b[43mmerge\u001b[49m\u001b[43m(\u001b[49m\u001b[43mjoin_df\u001b[49m\u001b[43m,\u001b[49m\u001b[43m \u001b[49m\u001b[43mleft_index\u001b[49m\u001b[38;5;241;43m=\u001b[39;49m\u001b[38;5;28;43;01mTrue\u001b[39;49;00m\u001b[43m,\u001b[49m\u001b[43m \u001b[49m\u001b[43mright_index\u001b[49m\u001b[38;5;241;43m=\u001b[39;49m\u001b[38;5;28;43;01mTrue\u001b[39;49;00m\u001b[43m)\u001b[49m\n\u001b[0;32m    296\u001b[0m \u001b[43m        \u001b[49m\u001b[38;5;241;43m.\u001b[39;49m\u001b[43mmerge\u001b[49m\u001b[43m(\u001b[49m\n\u001b[0;32m    297\u001b[0m \u001b[43m            \u001b[49m\u001b[43mright_df\u001b[49m\u001b[38;5;241;43m.\u001b[39;49m\u001b[43mdrop\u001b[49m\u001b[43m(\u001b[49m\u001b[43mright_df\u001b[49m\u001b[38;5;241;43m.\u001b[39;49m\u001b[43mgeometry\u001b[49m\u001b[38;5;241;43m.\u001b[39;49m\u001b[43mname\u001b[49m\u001b[43m,\u001b[49m\u001b[43m \u001b[49m\u001b[43maxis\u001b[49m\u001b[38;5;241;43m=\u001b[39;49m\u001b[38;5;241;43m1\u001b[39;49m\u001b[43m)\u001b[49m\u001b[43m,\u001b[49m\n\u001b[0;32m    298\u001b[0m \u001b[43m            \u001b[49m\u001b[43mleft_on\u001b[49m\u001b[38;5;241;43m=\u001b[39;49m\u001b[38;5;124;43m\"\u001b[39;49m\u001b[38;5;124;43m_key_right\u001b[39;49m\u001b[38;5;124;43m\"\u001b[39;49m\u001b[43m,\u001b[49m\n\u001b[0;32m    299\u001b[0m \u001b[43m            \u001b[49m\u001b[43mright_index\u001b[49m\u001b[38;5;241;43m=\u001b[39;49m\u001b[38;5;28;43;01mTrue\u001b[39;49;00m\u001b[43m,\u001b[49m\n\u001b[0;32m    300\u001b[0m \u001b[43m            \u001b[49m\u001b[43msuffixes\u001b[49m\u001b[38;5;241;43m=\u001b[39;49m\u001b[43m(\u001b[49m\u001b[38;5;124;43m\"\u001b[39;49m\u001b[38;5;124;43m_\u001b[39;49m\u001b[38;5;132;43;01m{}\u001b[39;49;00m\u001b[38;5;124;43m\"\u001b[39;49m\u001b[38;5;241;43m.\u001b[39;49m\u001b[43mformat\u001b[49m\u001b[43m(\u001b[49m\u001b[43mlsuffix\u001b[49m\u001b[43m)\u001b[49m\u001b[43m,\u001b[49m\u001b[43m \u001b[49m\u001b[38;5;124;43m\"\u001b[39;49m\u001b[38;5;124;43m_\u001b[39;49m\u001b[38;5;132;43;01m{}\u001b[39;49;00m\u001b[38;5;124;43m\"\u001b[39;49m\u001b[38;5;241;43m.\u001b[39;49m\u001b[43mformat\u001b[49m\u001b[43m(\u001b[49m\u001b[43mrsuffix\u001b[49m\u001b[43m)\u001b[49m\u001b[43m)\u001b[49m\u001b[43m,\u001b[49m\n\u001b[0;32m    301\u001b[0m \u001b[43m        \u001b[49m\u001b[43m)\u001b[49m\n\u001b[0;32m    302\u001b[0m         \u001b[38;5;241m.\u001b[39mset_index(index_left)\n\u001b[0;32m    303\u001b[0m         \u001b[38;5;241m.\u001b[39mdrop([\u001b[38;5;124m\"\u001b[39m\u001b[38;5;124m_key_right\u001b[39m\u001b[38;5;124m\"\u001b[39m], axis\u001b[38;5;241m=\u001b[39m\u001b[38;5;241m1\u001b[39m)\n\u001b[0;32m    304\u001b[0m     )\n\u001b[0;32m    305\u001b[0m     \u001b[38;5;28;01mif\u001b[39;00m \u001b[38;5;28misinstance\u001b[39m(index_left, \u001b[38;5;28mlist\u001b[39m):\n\u001b[0;32m    306\u001b[0m         joined\u001b[38;5;241m.\u001b[39mindex\u001b[38;5;241m.\u001b[39mnames \u001b[38;5;241m=\u001b[39m left_index_name\n",
      "File \u001b[1;32m~\\anaconda3\\envs\\dev\\lib\\site-packages\\geopandas\\geodataframe.py:1574\u001b[0m, in \u001b[0;36mGeoDataFrame.merge\u001b[1;34m(self, *args, **kwargs)\u001b[0m\n\u001b[0;32m   1556\u001b[0m \u001b[38;5;28;01mdef\u001b[39;00m \u001b[38;5;21mmerge\u001b[39m(\u001b[38;5;28mself\u001b[39m, \u001b[38;5;241m*\u001b[39margs, \u001b[38;5;241m*\u001b[39m\u001b[38;5;241m*\u001b[39mkwargs):\n\u001b[0;32m   1557\u001b[0m \u001b[38;5;250m    \u001b[39m\u001b[38;5;124mr\u001b[39m\u001b[38;5;124;03m\"\"\"Merge two ``GeoDataFrame`` objects with a database-style join.\u001b[39;00m\n\u001b[0;32m   1558\u001b[0m \n\u001b[0;32m   1559\u001b[0m \u001b[38;5;124;03m    Returns a ``GeoDataFrame`` if a geometry column is present; otherwise,\u001b[39;00m\n\u001b[1;32m   (...)\u001b[0m\n\u001b[0;32m   1572\u001b[0m \u001b[38;5;124;03m    for more details.\u001b[39;00m\n\u001b[0;32m   1573\u001b[0m \u001b[38;5;124;03m    \"\"\"\u001b[39;00m\n\u001b[1;32m-> 1574\u001b[0m     result \u001b[38;5;241m=\u001b[39m DataFrame\u001b[38;5;241m.\u001b[39mmerge(\u001b[38;5;28mself\u001b[39m, \u001b[38;5;241m*\u001b[39margs, \u001b[38;5;241m*\u001b[39m\u001b[38;5;241m*\u001b[39mkwargs)\n\u001b[0;32m   1575\u001b[0m     geo_col \u001b[38;5;241m=\u001b[39m \u001b[38;5;28mself\u001b[39m\u001b[38;5;241m.\u001b[39m_geometry_column_name\n\u001b[0;32m   1576\u001b[0m     \u001b[38;5;28;01mif\u001b[39;00m \u001b[38;5;28misinstance\u001b[39m(result, DataFrame) \u001b[38;5;129;01mand\u001b[39;00m geo_col \u001b[38;5;129;01min\u001b[39;00m result:\n",
      "File \u001b[1;32m~\\anaconda3\\envs\\dev\\lib\\site-packages\\pandas\\core\\frame.py:10819\u001b[0m, in \u001b[0;36mDataFrame.merge\u001b[1;34m(self, right, how, on, left_on, right_on, left_index, right_index, sort, suffixes, copy, indicator, validate)\u001b[0m\n\u001b[0;32m  10800\u001b[0m \u001b[38;5;129m@Substitution\u001b[39m(\u001b[38;5;124m\"\u001b[39m\u001b[38;5;124m\"\u001b[39m)\n\u001b[0;32m  10801\u001b[0m \u001b[38;5;129m@Appender\u001b[39m(_merge_doc, indents\u001b[38;5;241m=\u001b[39m\u001b[38;5;241m2\u001b[39m)\n\u001b[0;32m  10802\u001b[0m \u001b[38;5;28;01mdef\u001b[39;00m \u001b[38;5;21mmerge\u001b[39m(\n\u001b[1;32m   (...)\u001b[0m\n\u001b[0;32m  10815\u001b[0m     validate: MergeValidate \u001b[38;5;241m|\u001b[39m \u001b[38;5;28;01mNone\u001b[39;00m \u001b[38;5;241m=\u001b[39m \u001b[38;5;28;01mNone\u001b[39;00m,\n\u001b[0;32m  10816\u001b[0m ) \u001b[38;5;241m-\u001b[39m\u001b[38;5;241m>\u001b[39m DataFrame:\n\u001b[0;32m  10817\u001b[0m     \u001b[38;5;28;01mfrom\u001b[39;00m \u001b[38;5;21;01mpandas\u001b[39;00m\u001b[38;5;21;01m.\u001b[39;00m\u001b[38;5;21;01mcore\u001b[39;00m\u001b[38;5;21;01m.\u001b[39;00m\u001b[38;5;21;01mreshape\u001b[39;00m\u001b[38;5;21;01m.\u001b[39;00m\u001b[38;5;21;01mmerge\u001b[39;00m \u001b[38;5;28;01mimport\u001b[39;00m merge\n\u001b[1;32m> 10819\u001b[0m     \u001b[38;5;28;01mreturn\u001b[39;00m \u001b[43mmerge\u001b[49m\u001b[43m(\u001b[49m\n\u001b[0;32m  10820\u001b[0m \u001b[43m        \u001b[49m\u001b[38;5;28;43mself\u001b[39;49m\u001b[43m,\u001b[49m\n\u001b[0;32m  10821\u001b[0m \u001b[43m        \u001b[49m\u001b[43mright\u001b[49m\u001b[43m,\u001b[49m\n\u001b[0;32m  10822\u001b[0m \u001b[43m        \u001b[49m\u001b[43mhow\u001b[49m\u001b[38;5;241;43m=\u001b[39;49m\u001b[43mhow\u001b[49m\u001b[43m,\u001b[49m\n\u001b[0;32m  10823\u001b[0m \u001b[43m        \u001b[49m\u001b[43mon\u001b[49m\u001b[38;5;241;43m=\u001b[39;49m\u001b[43mon\u001b[49m\u001b[43m,\u001b[49m\n\u001b[0;32m  10824\u001b[0m \u001b[43m        \u001b[49m\u001b[43mleft_on\u001b[49m\u001b[38;5;241;43m=\u001b[39;49m\u001b[43mleft_on\u001b[49m\u001b[43m,\u001b[49m\n\u001b[0;32m  10825\u001b[0m \u001b[43m        \u001b[49m\u001b[43mright_on\u001b[49m\u001b[38;5;241;43m=\u001b[39;49m\u001b[43mright_on\u001b[49m\u001b[43m,\u001b[49m\n\u001b[0;32m  10826\u001b[0m \u001b[43m        \u001b[49m\u001b[43mleft_index\u001b[49m\u001b[38;5;241;43m=\u001b[39;49m\u001b[43mleft_index\u001b[49m\u001b[43m,\u001b[49m\n\u001b[0;32m  10827\u001b[0m \u001b[43m        \u001b[49m\u001b[43mright_index\u001b[49m\u001b[38;5;241;43m=\u001b[39;49m\u001b[43mright_index\u001b[49m\u001b[43m,\u001b[49m\n\u001b[0;32m  10828\u001b[0m \u001b[43m        \u001b[49m\u001b[43msort\u001b[49m\u001b[38;5;241;43m=\u001b[39;49m\u001b[43msort\u001b[49m\u001b[43m,\u001b[49m\n\u001b[0;32m  10829\u001b[0m \u001b[43m        \u001b[49m\u001b[43msuffixes\u001b[49m\u001b[38;5;241;43m=\u001b[39;49m\u001b[43msuffixes\u001b[49m\u001b[43m,\u001b[49m\n\u001b[0;32m  10830\u001b[0m \u001b[43m        \u001b[49m\u001b[43mcopy\u001b[49m\u001b[38;5;241;43m=\u001b[39;49m\u001b[43mcopy\u001b[49m\u001b[43m,\u001b[49m\n\u001b[0;32m  10831\u001b[0m \u001b[43m        \u001b[49m\u001b[43mindicator\u001b[49m\u001b[38;5;241;43m=\u001b[39;49m\u001b[43mindicator\u001b[49m\u001b[43m,\u001b[49m\n\u001b[0;32m  10832\u001b[0m \u001b[43m        \u001b[49m\u001b[43mvalidate\u001b[49m\u001b[38;5;241;43m=\u001b[39;49m\u001b[43mvalidate\u001b[49m\u001b[43m,\u001b[49m\n\u001b[0;32m  10833\u001b[0m \u001b[43m    \u001b[49m\u001b[43m)\u001b[49m\n",
      "File \u001b[1;32m~\\anaconda3\\envs\\dev\\lib\\site-packages\\pandas\\core\\reshape\\merge.py:184\u001b[0m, in \u001b[0;36mmerge\u001b[1;34m(left, right, how, on, left_on, right_on, left_index, right_index, sort, suffixes, copy, indicator, validate)\u001b[0m\n\u001b[0;32m    169\u001b[0m \u001b[38;5;28;01melse\u001b[39;00m:\n\u001b[0;32m    170\u001b[0m     op \u001b[38;5;241m=\u001b[39m _MergeOperation(\n\u001b[0;32m    171\u001b[0m         left_df,\n\u001b[0;32m    172\u001b[0m         right_df,\n\u001b[1;32m   (...)\u001b[0m\n\u001b[0;32m    182\u001b[0m         validate\u001b[38;5;241m=\u001b[39mvalidate,\n\u001b[0;32m    183\u001b[0m     )\n\u001b[1;32m--> 184\u001b[0m     \u001b[38;5;28;01mreturn\u001b[39;00m \u001b[43mop\u001b[49m\u001b[38;5;241;43m.\u001b[39;49m\u001b[43mget_result\u001b[49m\u001b[43m(\u001b[49m\u001b[43mcopy\u001b[49m\u001b[38;5;241;43m=\u001b[39;49m\u001b[43mcopy\u001b[49m\u001b[43m)\u001b[49m\n",
      "File \u001b[1;32m~\\anaconda3\\envs\\dev\\lib\\site-packages\\pandas\\core\\reshape\\merge.py:888\u001b[0m, in \u001b[0;36m_MergeOperation.get_result\u001b[1;34m(self, copy)\u001b[0m\n\u001b[0;32m    884\u001b[0m     \u001b[38;5;28mself\u001b[39m\u001b[38;5;241m.\u001b[39mleft, \u001b[38;5;28mself\u001b[39m\u001b[38;5;241m.\u001b[39mright \u001b[38;5;241m=\u001b[39m \u001b[38;5;28mself\u001b[39m\u001b[38;5;241m.\u001b[39m_indicator_pre_merge(\u001b[38;5;28mself\u001b[39m\u001b[38;5;241m.\u001b[39mleft, \u001b[38;5;28mself\u001b[39m\u001b[38;5;241m.\u001b[39mright)\n\u001b[0;32m    886\u001b[0m join_index, left_indexer, right_indexer \u001b[38;5;241m=\u001b[39m \u001b[38;5;28mself\u001b[39m\u001b[38;5;241m.\u001b[39m_get_join_info()\n\u001b[1;32m--> 888\u001b[0m result \u001b[38;5;241m=\u001b[39m \u001b[38;5;28;43mself\u001b[39;49m\u001b[38;5;241;43m.\u001b[39;49m\u001b[43m_reindex_and_concat\u001b[49m\u001b[43m(\u001b[49m\n\u001b[0;32m    889\u001b[0m \u001b[43m    \u001b[49m\u001b[43mjoin_index\u001b[49m\u001b[43m,\u001b[49m\u001b[43m \u001b[49m\u001b[43mleft_indexer\u001b[49m\u001b[43m,\u001b[49m\u001b[43m \u001b[49m\u001b[43mright_indexer\u001b[49m\u001b[43m,\u001b[49m\u001b[43m \u001b[49m\u001b[43mcopy\u001b[49m\u001b[38;5;241;43m=\u001b[39;49m\u001b[43mcopy\u001b[49m\n\u001b[0;32m    890\u001b[0m \u001b[43m\u001b[49m\u001b[43m)\u001b[49m\n\u001b[0;32m    891\u001b[0m result \u001b[38;5;241m=\u001b[39m result\u001b[38;5;241m.\u001b[39m__finalize__(\u001b[38;5;28mself\u001b[39m, method\u001b[38;5;241m=\u001b[39m\u001b[38;5;28mself\u001b[39m\u001b[38;5;241m.\u001b[39m_merge_type)\n\u001b[0;32m    893\u001b[0m \u001b[38;5;28;01mif\u001b[39;00m \u001b[38;5;28mself\u001b[39m\u001b[38;5;241m.\u001b[39mindicator:\n",
      "File \u001b[1;32m~\\anaconda3\\envs\\dev\\lib\\site-packages\\pandas\\core\\reshape\\merge.py:840\u001b[0m, in \u001b[0;36m_MergeOperation._reindex_and_concat\u001b[1;34m(self, join_index, left_indexer, right_indexer, copy)\u001b[0m\n\u001b[0;32m    837\u001b[0m left \u001b[38;5;241m=\u001b[39m \u001b[38;5;28mself\u001b[39m\u001b[38;5;241m.\u001b[39mleft[:]\n\u001b[0;32m    838\u001b[0m right \u001b[38;5;241m=\u001b[39m \u001b[38;5;28mself\u001b[39m\u001b[38;5;241m.\u001b[39mright[:]\n\u001b[1;32m--> 840\u001b[0m llabels, rlabels \u001b[38;5;241m=\u001b[39m \u001b[43m_items_overlap_with_suffix\u001b[49m\u001b[43m(\u001b[49m\n\u001b[0;32m    841\u001b[0m \u001b[43m    \u001b[49m\u001b[38;5;28;43mself\u001b[39;49m\u001b[38;5;241;43m.\u001b[39;49m\u001b[43mleft\u001b[49m\u001b[38;5;241;43m.\u001b[39;49m\u001b[43m_info_axis\u001b[49m\u001b[43m,\u001b[49m\u001b[43m \u001b[49m\u001b[38;5;28;43mself\u001b[39;49m\u001b[38;5;241;43m.\u001b[39;49m\u001b[43mright\u001b[49m\u001b[38;5;241;43m.\u001b[39;49m\u001b[43m_info_axis\u001b[49m\u001b[43m,\u001b[49m\u001b[43m \u001b[49m\u001b[38;5;28;43mself\u001b[39;49m\u001b[38;5;241;43m.\u001b[39;49m\u001b[43msuffixes\u001b[49m\n\u001b[0;32m    842\u001b[0m \u001b[43m\u001b[49m\u001b[43m)\u001b[49m\n\u001b[0;32m    844\u001b[0m \u001b[38;5;28;01mif\u001b[39;00m left_indexer \u001b[38;5;129;01mis\u001b[39;00m \u001b[38;5;129;01mnot\u001b[39;00m \u001b[38;5;28;01mNone\u001b[39;00m \u001b[38;5;129;01mand\u001b[39;00m \u001b[38;5;129;01mnot\u001b[39;00m is_range_indexer(left_indexer, \u001b[38;5;28mlen\u001b[39m(left)):\n\u001b[0;32m    845\u001b[0m     \u001b[38;5;66;03m# Pinning the index here (and in the right code just below) is not\u001b[39;00m\n\u001b[0;32m    846\u001b[0m     \u001b[38;5;66;03m#  necessary, but makes the `.take` more performant if we have e.g.\u001b[39;00m\n\u001b[0;32m    847\u001b[0m     \u001b[38;5;66;03m#  a MultiIndex for left.index.\u001b[39;00m\n\u001b[0;32m    848\u001b[0m     lmgr \u001b[38;5;241m=\u001b[39m left\u001b[38;5;241m.\u001b[39m_mgr\u001b[38;5;241m.\u001b[39mreindex_indexer(\n\u001b[0;32m    849\u001b[0m         join_index,\n\u001b[0;32m    850\u001b[0m         left_indexer,\n\u001b[1;32m   (...)\u001b[0m\n\u001b[0;32m    855\u001b[0m         use_na_proxy\u001b[38;5;241m=\u001b[39m\u001b[38;5;28;01mTrue\u001b[39;00m,\n\u001b[0;32m    856\u001b[0m     )\n",
      "File \u001b[1;32m~\\anaconda3\\envs\\dev\\lib\\site-packages\\pandas\\core\\reshape\\merge.py:2757\u001b[0m, in \u001b[0;36m_items_overlap_with_suffix\u001b[1;34m(left, right, suffixes)\u001b[0m\n\u001b[0;32m   2755\u001b[0m     dups\u001b[38;5;241m.\u001b[39mextend(rlabels[(rlabels\u001b[38;5;241m.\u001b[39mduplicated()) \u001b[38;5;241m&\u001b[39m (\u001b[38;5;241m~\u001b[39mright\u001b[38;5;241m.\u001b[39mduplicated())]\u001b[38;5;241m.\u001b[39mtolist())\n\u001b[0;32m   2756\u001b[0m \u001b[38;5;28;01mif\u001b[39;00m dups:\n\u001b[1;32m-> 2757\u001b[0m     \u001b[38;5;28;01mraise\u001b[39;00m MergeError(\n\u001b[0;32m   2758\u001b[0m         \u001b[38;5;124mf\u001b[39m\u001b[38;5;124m\"\u001b[39m\u001b[38;5;124mPassing \u001b[39m\u001b[38;5;124m'\u001b[39m\u001b[38;5;124msuffixes\u001b[39m\u001b[38;5;124m'\u001b[39m\u001b[38;5;124m which cause duplicate columns \u001b[39m\u001b[38;5;132;01m{\u001b[39;00m\u001b[38;5;28mset\u001b[39m(dups)\u001b[38;5;132;01m}\u001b[39;00m\u001b[38;5;124m is \u001b[39m\u001b[38;5;124m\"\u001b[39m\n\u001b[0;32m   2759\u001b[0m         \u001b[38;5;124mf\u001b[39m\u001b[38;5;124m\"\u001b[39m\u001b[38;5;124mnot allowed.\u001b[39m\u001b[38;5;124m\"\u001b[39m,\n\u001b[0;32m   2760\u001b[0m     )\n\u001b[0;32m   2762\u001b[0m \u001b[38;5;28;01mreturn\u001b[39;00m llabels, rlabels\n",
      "\u001b[1;31mMergeError\u001b[0m: Passing 'suffixes' which cause duplicate columns {'2013-10-28_left', '2013-09-14_left', '2013-11-10_left', '2013-03-24_left', '2013-04-15_left', '2013-10-27_left', '2013-12-09_left', '2013-04-14_left', '2013-08-18_left', '2013-04-18_left', '2013-02-14_left', '2013-11-07_left', '2013-07-04_left', '2013-05-31_left', '2013-11-30_left', '2013-12-29_left', '2013-12-08_left', '2013-09-02_left', '2013-12-20_left', '2013-06-06_left', '2013-09-27_left', '2013-08-28_left', '2013-10-02_left', '2013-09-09_left', '2013-02-19_left', '2013-08-10_left', '2013-09-28_left', '2013-08-26_left', '2013-03-27_left', '2013-10-14_left', '2013-04-13_left', '2013-12-04_left', '2013-07-14_left', '2013-06-12_left', '2013-10-04_left', '2013-07-18_left', '2013-02-16_left', '2013-07-25_left', '2013-10-17_left', '2013-05-26_left', '2013-03-12_left', '2013-02-02_left', '2013-09-08_left', '2013-07-31_left', '2013-12-27_left', '2013-07-15_left', '2013-08-25_left', '2013-09-16_left', '2013-06-30_left', '2013-02-05_left', '2013-02-17_left', '2013-12-11_left', '2013-11-05_left', '2013-01-25_left', '2013-11-21_left', '2013-10-08_left', '2013-12-18_left', '2013-07-13_left', '2013-09-11_left', '2013-06-26_left', '2013-08-23_left', '2013-07-12_left', '2013-10-05_left', '2013-11-24_left', '2013-08-31_left', '2013-04-27_left', '2013-11-19_left', '2013-11-06_left', '2013-12-17_left', '2013-03-23_left', '2013-10-01_left', '2013-09-26_left', '2013-10-11_left', '2013-09-22_left', '2013-12-02_left', '2013-06-24_left', '2013-10-09_left', '2013-09-12_left', '2013-11-28_left', '2013-05-02_left', '2013-08-05_left', '2013-05-15_left', '2013-02-15_left', '2013-11-08_left', '2013-04-03_left', '2013-02-22_left', '2013-07-19_left', '2013-06-18_left', '2013-05-09_left', '2013-08-08_left', '2013-08-15_left', '2013-08-30_left', '2013-07-30_left', '2013-04-28_left', '2013-02-25_left', '2013-04-21_left', '2013-05-21_left', '2013-03-18_left', '2013-06-20_left', '2013-07-11_left', '2013-06-09_left', '2013-03-02_left', '2013-06-23_left', '2013-09-21_left', '2013-04-12_left', '2013-06-28_left', '2013-12-12_left', '2013-10-10_left', '2013-05-13_left', '2013-01-24_left', '2013-10-25_left', '2013-12-16_left', '2013-10-19_left', '2013-01-04_left', '2013-05-06_left', '2013-12-31_left', '2013-02-24_left', '2013-07-07_left', '2013-08-09_left', '2013-04-02_left', '2013-04-26_left', '2013-06-10_left', '2013-08-11_left', '2013-09-17_left', '2013-06-27_left', '2013-12-15_left', '2013-03-20_left', '2013-08-29_left', '2013-03-05_left', '2013-06-08_left', '2013-09-19_left', '2013-04-10_left', '2013-02-06_left', '2013-03-14_left', '2013-05-05_left', '2013-10-15_left', '2013-09-18_left', '2013-11-11_left', '2013-04-07_left', '2013-05-12_left', '2013-06-04_left', '2013-11-26_left', '2013-06-13_left', '2013-04-24_left', '2013-10-07_left', '2013-06-17_left', '2013-03-01_left', '2013-08-20_left', '2013-01-10_left', '2013-11-23_left', '2013-03-15_left', '2013-05-16_left', '2013-03-04_left', '2013-01-09_left', '2013-04-11_left', '2013-08-22_left', '2013-10-30_left', '2013-01-23_left', '2013-09-25_left', '2013-02-08_left', '2013-12-06_left', '2013-11-20_left', '2013-12-22_left', '2013-10-24_left', '2013-07-17_left', '2013-12-21_left', '2013-04-19_left', '2013-12-23_left', '2013-01-30_left', '2013-08-01_left', '2013-09-04_left', '2013-02-10_left', '2013-02-21_left', '2013-07-23_left', '2013-03-09_left', '2013-06-21_left', '2013-10-23_left', '2013-09-03_left', '2013-03-10_left', '2013-10-13_left', '2013-08-24_left', '2013-01-02_left', '2013-04-23_left', '2013-07-26_left', '2013-09-01_left', '2013-07-16_left', '2013-07-29_left', '2013-10-06_left', '2013-11-17_left', '2013-10-16_left', '2013-02-27_left', '2013-02-03_left', '2013-02-11_left', '2013-07-03_left', '2013-03-28_left', '2013-05-01_left', '2013-12-30_left', '2013-11-29_left', '2013-01-16_left', '2013-09-15_left', '2013-05-28_left', '2013-02-12_left', '2013-01-19_left', '2013-04-01_left', '2013-06-02_left', '2013-02-20_left', '2013-07-24_left', '2013-09-13_left', '2013-02-23_left', '2013-07-27_left', '2013-09-23_left', '2013-04-30_left', '2013-06-07_left', '2013-07-06_left', '2013-10-31_left', '2013-12-13_left', '2013-10-22_left', '2013-11-22_left', '2013-02-01_left', '2013-02-09_left', '2013-05-11_left', '2013-11-14_left', '2013-01-07_left', '2013-04-05_left', '2013-05-17_left', '2013-05-25_left', '2013-01-21_left', '2013-11-27_left', '2013-08-21_left', '2013-01-17_left', '2013-02-18_left', '2013-07-09_left', '2013-11-12_left', '2013-02-26_left', '2013-12-25_left', '2013-05-10_left', '2013-03-16_left', '2013-01-14_left', '2013-12-01_left', '2013-10-20_left', '2013-11-15_left', '2013-05-14_left', '2013-06-11_left', '2013-04-09_left', '2013-03-08_left', '2013-01-11_left', '2013-04-29_left', '2013-04-08_left', '2013-01-31_left', '2013-11-03_left', '2013-10-18_left', '2013-08-16_left', '2013-05-30_left', '2013-09-07_left', '2013-09-24_left', '2013-07-21_left', '2013-07-20_left', '2013-12-07_left', '2013-01-26_left', '2013-04-04_left', '2013-07-01_left', '2013-01-28_left', '2013-03-31_left', '2013-06-19_left', '2013-09-05_left', '2013-08-19_left', '2013-05-04_left', '2013-03-30_left', '2013-03-25_left', '2013-11-01_left', '2013-05-07_left', '2013-10-21_left', '2013-01-12_left', '2013-10-12_left', '2013-05-19_left', '2013-08-03_left', '2013-01-03_left', '2013-08-12_left', '2013-06-15_left', '2013-02-04_left', '2013-06-29_left', '2013-12-26_left', '2013-03-11_left', '2013-04-22_left', '2013-08-17_left', '2013-04-20_left', '2013-11-09_left', '2013-08-14_left', '2013-01-22_left', '2013-01-15_left', '2013-01-08_left', '2013-09-10_left', '2013-06-16_left', '2013-06-05_left', '2013-12-14_left', '2013-08-07_left', '2013-07-10_left', '2013-01-20_left', '2013-09-30_left', '2013-11-04_left', '2013-06-01_left', '2013-07-02_left', '2013-03-22_left', '2013-06-25_left', '2013-05-03_left', '2013-10-29_left', '2013-05-22_left', '2013-02-13_left', '2013-06-22_left', '2013-07-22_left', '2013-12-24_left', '2013-09-29_left', '2013-01-01_left', '2013-09-06_left', '2013-03-29_left', '2013-03-17_left', '2013-12-19_left', '2013-08-13_left', '2013-01-05_left', '2013-03-03_left', '2013-05-27_left', '2013-11-25_left', '2013-03-19_left', '2013-04-25_left', '2013-12-28_left', '2013-05-23_left', '2013-09-20_left', '2013-01-18_left', '2013-08-27_left', '2013-05-24_left', '2013-01-27_left', '2013-04-16_left', '2013-02-07_left', '2013-06-03_left', '2013-05-08_left', '2013-03-21_left', '2013-07-05_left', '2013-05-18_left', '2013-05-29_left', '2013-11-18_left', '2013-11-02_left', '2013-03-26_left', '2013-04-06_left', '2013-02-28_left', '2013-01-06_left', '2013-07-28_left', '2013-08-02_left', '2013-10-26_left', '2013-08-04_left', '2013-07-08_left', '2013-05-20_left', '2013-01-29_left', '2013-03-07_left', '2013-08-06_left', '2013-04-17_left', '2013-12-05_left', '2013-03-06_left', '2013-11-13_left', '2013-11-16_left', '2013-12-03_left', '2013-03-13_left', '2013-06-14_left', '2013-12-10_left', '2013-01-13_left', '2013-10-03_left'} is not allowed."
     ]
    }
   ],
   "source": [
    "for y in [yr,yr-1]:\n",
    "    stn_gdf = gpd.GeoDataFrame(prcp_df, geometry=gpd.points_from_xy(prcp_df.lon, prcp_df.lat), crs=4326)\n",
    "    gdf = gdf.to_crs(32610).sjoin_nearest(stn_gdf.to_crs(32610)).to_crs(4326)\n",
    "    gdf = gdf.drop(columns=['index_right','elev','name','lat','lon']).rename(columns={'station':f'STN{y}'})\n",
    "    gdf[f'STN{y}'].to_csv(f'../outputs/calfire-csv/{yr}/stns_{y}.csv',index=False)\n",
    "    print(gdf.columns)\n",
    "    df = pd.read_csv(f'../outputs/calfire-csv/{yr}/stns_{y}.csv').rename(columns={f'STN{y}':'station'})\n",
    "    prcp_df = pd.read_csv(f'../outputs/noaa-ncei/CA_{y}_prcp_data.csv')\n",
    "    df = df.merge(prcp_df, on=\"station\").set_index('station').drop(columns=['lat','lon','elev','name']).T\n",
    "    df.index = df.index.str.slice(0,7)\n",
    "    df = df.groupby(level=0).sum().round(2).T\n",
    "    # df.to_csv(f'../outputs/calfire-csv/{yr}/prcp_{y}.csv')\n",
    "    display(df.tail(1))"
   ]
  },
  {
   "cell_type": "code",
   "execution_count": null,
   "id": "e71adab3-f34f-463f-bc2f-480fbcfa3e71",
   "metadata": {},
   "outputs": [],
   "source": []
  }
 ],
 "metadata": {
  "kernelspec": {
   "display_name": "Python 3 (ipykernel)",
   "language": "python",
   "name": "python3"
  },
  "language_info": {
   "codemirror_mode": {
    "name": "ipython",
    "version": 3
   },
   "file_extension": ".py",
   "mimetype": "text/x-python",
   "name": "python",
   "nbconvert_exporter": "python",
   "pygments_lexer": "ipython3",
   "version": "3.10.14"
  }
 },
 "nbformat": 4,
 "nbformat_minor": 5
}
