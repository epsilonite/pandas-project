{
 "cells": [
  {
   "cell_type": "markdown",
   "id": "18f4c154-946b-407f-81da-33d3457d307f",
   "metadata": {},
   "source": [
    "# NOAA-NCEI Data Scrubbing\n",
    "---\n"
   ]
  },
  {
   "cell_type": "markdown",
   "id": "f01b247d-b106-4e40-9b07-6009ce40db54",
   "metadata": {},
   "source": [
    "## 0 Initialize"
   ]
  },
  {
   "cell_type": "code",
   "execution_count": 1,
   "id": "3c38a253-a995-4ae6-b838-ca309b74a9c5",
   "metadata": {},
   "outputs": [],
   "source": [
    "# Dependencies\n",
    "import pandas as pd"
   ]
  },
  {
   "cell_type": "code",
   "execution_count": 11,
   "id": "b0edd8ec-e588-41df-a91a-3a4a12d70215",
   "metadata": {},
   "outputs": [],
   "source": [
    "# Steup data frame and dates for daily precipitation data by year\n",
    "year = 2012\n",
    "df = pd.DataFrame(columns=['station'])\n",
    "dts = pd.date_range(str(year) + \"-01-01\", str(year) + \"-12-31\", freq=\"D\")"
   ]
  },
  {
   "cell_type": "code",
   "execution_count": 12,
   "id": "c16ddd21-530b-474f-a12c-427091417f84",
   "metadata": {},
   "outputs": [
    {
     "data": {
      "text/html": [
       "<div>\n",
       "<style scoped>\n",
       "    .dataframe tbody tr th:only-of-type {\n",
       "        vertical-align: middle;\n",
       "    }\n",
       "\n",
       "    .dataframe tbody tr th {\n",
       "        vertical-align: top;\n",
       "    }\n",
       "\n",
       "    .dataframe thead th {\n",
       "        text-align: right;\n",
       "    }\n",
       "</style>\n",
       "<table border=\"1\" class=\"dataframe\">\n",
       "  <thead>\n",
       "    <tr style=\"text-align: right;\">\n",
       "      <th></th>\n",
       "      <th>station</th>\n",
       "      <th>2012-01-01</th>\n",
       "      <th>2012-01-02</th>\n",
       "      <th>2012-01-03</th>\n",
       "      <th>2012-01-04</th>\n",
       "      <th>2012-01-05</th>\n",
       "      <th>2012-01-06</th>\n",
       "      <th>2012-01-07</th>\n",
       "      <th>2012-01-08</th>\n",
       "      <th>2012-01-09</th>\n",
       "      <th>...</th>\n",
       "      <th>2012-12-22</th>\n",
       "      <th>2012-12-23</th>\n",
       "      <th>2012-12-24</th>\n",
       "      <th>2012-12-25</th>\n",
       "      <th>2012-12-26</th>\n",
       "      <th>2012-12-27</th>\n",
       "      <th>2012-12-28</th>\n",
       "      <th>2012-12-29</th>\n",
       "      <th>2012-12-30</th>\n",
       "      <th>2012-12-31</th>\n",
       "    </tr>\n",
       "  </thead>\n",
       "  <tbody>\n",
       "    <tr>\n",
       "      <th>1011</th>\n",
       "      <td>USW00094299</td>\n",
       "      <td>0.0</td>\n",
       "      <td>0.0</td>\n",
       "      <td>0.0</td>\n",
       "      <td>0.0</td>\n",
       "      <td>0.0</td>\n",
       "      <td>0.0</td>\n",
       "      <td>0.0</td>\n",
       "      <td>0.0</td>\n",
       "      <td>0.0</td>\n",
       "      <td>...</td>\n",
       "      <td>4.6</td>\n",
       "      <td>8.4</td>\n",
       "      <td>0.0</td>\n",
       "      <td>0.0</td>\n",
       "      <td>2.3</td>\n",
       "      <td>0.3</td>\n",
       "      <td>0.5</td>\n",
       "      <td>0.0</td>\n",
       "      <td>0.3</td>\n",
       "      <td>0.0</td>\n",
       "    </tr>\n",
       "  </tbody>\n",
       "</table>\n",
       "<p>1 rows × 367 columns</p>\n",
       "</div>"
      ],
      "text/plain": [
       "          station  2012-01-01  2012-01-02  2012-01-03  2012-01-04  2012-01-05  \\\n",
       "1011  USW00094299         0.0         0.0         0.0         0.0         0.0   \n",
       "\n",
       "      2012-01-06  2012-01-07  2012-01-08  2012-01-09  ...  2012-12-22  \\\n",
       "1011         0.0         0.0         0.0         0.0  ...         4.6   \n",
       "\n",
       "      2012-12-23  2012-12-24  2012-12-25  2012-12-26  2012-12-27  2012-12-28  \\\n",
       "1011         8.4         0.0         0.0         2.3         0.3         0.5   \n",
       "\n",
       "      2012-12-29  2012-12-30  2012-12-31  \n",
       "1011         0.0         0.3         0.0  \n",
       "\n",
       "[1 rows x 367 columns]"
      ]
     },
     "execution_count": 12,
     "metadata": {},
     "output_type": "execute_result"
    }
   ],
   "source": [
    "# Retrieve daily precipitation data for year and merge into dataframe\n",
    "for dt in dts:\n",
    "    d = str(dt.date())\n",
    "    dt_df = pd.read_csv(f'../outputs/noaa-ncei/{year}/csv/{d}.csv')\n",
    "    df = df.merge(dt_df, on='station', how='outer')\n",
    "df.tail(1)"
   ]
  },
  {
   "cell_type": "code",
   "execution_count": 5,
   "id": "07d556b9-be4a-4c3c-a8d2-7c3c4457e5e6",
   "metadata": {},
   "outputs": [
    {
     "data": {
      "text/plain": [
       "0"
      ]
     },
     "execution_count": 5,
     "metadata": {},
     "output_type": "execute_result"
    }
   ],
   "source": [
    "# Compare stations from precipiation data to ghcnd-station.csv and check to make sure there isn't missing data\n",
    "ghcnd_df = pd.read_csv('../outputs/noaa-ncei/ghcnd-stations.csv')\n",
    "r = [x for x in df['station'].to_list() if not x in ghcnd_df['station'].to_list()]\n",
    "len(r)"
   ]
  },
  {
   "cell_type": "code",
   "execution_count": 6,
   "id": "4378faa9-6e51-4105-8763-0b340b506d59",
   "metadata": {},
   "outputs": [
    {
     "data": {
      "text/html": [
       "<div>\n",
       "<style scoped>\n",
       "    .dataframe tbody tr th:only-of-type {\n",
       "        vertical-align: middle;\n",
       "    }\n",
       "\n",
       "    .dataframe tbody tr th {\n",
       "        vertical-align: top;\n",
       "    }\n",
       "\n",
       "    .dataframe thead th {\n",
       "        text-align: right;\n",
       "    }\n",
       "</style>\n",
       "<table border=\"1\" class=\"dataframe\">\n",
       "  <thead>\n",
       "    <tr style=\"text-align: right;\">\n",
       "      <th></th>\n",
       "      <th>station</th>\n",
       "      <th>lat</th>\n",
       "      <th>lon</th>\n",
       "      <th>elev</th>\n",
       "      <th>name</th>\n",
       "    </tr>\n",
       "  </thead>\n",
       "  <tbody>\n",
       "    <tr>\n",
       "      <th>1011</th>\n",
       "      <td>USW00094299</td>\n",
       "      <td>41.4836</td>\n",
       "      <td>-120.5614</td>\n",
       "      <td>1335.9</td>\n",
       "      <td>CA ALTURAS MUNI AP</td>\n",
       "    </tr>\n",
       "  </tbody>\n",
       "</table>\n",
       "</div>"
      ],
      "text/plain": [
       "          station      lat       lon    elev  \\\n",
       "1011  USW00094299  41.4836 -120.5614  1335.9   \n",
       "\n",
       "                                                 name  \n",
       "1011  CA ALTURAS MUNI AP                               "
      ]
     },
     "execution_count": 6,
     "metadata": {},
     "output_type": "execute_result"
    }
   ],
   "source": [
    "# Get station info from ghcnd-station.csv for station in precipitation data\n",
    "stn_df = ghcnd_df[ghcnd_df['station'].isin(df['station'].to_list())].reset_index(drop=True)\n",
    "stn_df.tail(1)"
   ]
  },
  {
   "cell_type": "code",
   "execution_count": 13,
   "id": "c01676bd-8e61-445e-8994-386c7c551990",
   "metadata": {},
   "outputs": [],
   "source": [
    "# Add Station Information to Dataframe\n",
    "df = df.merge(stn_df, on='station')"
   ]
  },
  {
   "cell_type": "code",
   "execution_count": 14,
   "id": "3ed9cc9c-409c-4004-bbc1-7e62cca76663",
   "metadata": {},
   "outputs": [
    {
     "data": {
      "text/html": [
       "<div>\n",
       "<style scoped>\n",
       "    .dataframe tbody tr th:only-of-type {\n",
       "        vertical-align: middle;\n",
       "    }\n",
       "\n",
       "    .dataframe tbody tr th {\n",
       "        vertical-align: top;\n",
       "    }\n",
       "\n",
       "    .dataframe thead th {\n",
       "        text-align: right;\n",
       "    }\n",
       "</style>\n",
       "<table border=\"1\" class=\"dataframe\">\n",
       "  <thead>\n",
       "    <tr style=\"text-align: right;\">\n",
       "      <th></th>\n",
       "      <th>station</th>\n",
       "      <th>2012-01-01</th>\n",
       "      <th>2012-01-02</th>\n",
       "      <th>2012-01-03</th>\n",
       "      <th>2012-01-04</th>\n",
       "      <th>2012-01-05</th>\n",
       "      <th>2012-01-06</th>\n",
       "      <th>2012-01-07</th>\n",
       "      <th>2012-01-08</th>\n",
       "      <th>2012-01-09</th>\n",
       "      <th>...</th>\n",
       "      <th>2012-12-26</th>\n",
       "      <th>2012-12-27</th>\n",
       "      <th>2012-12-28</th>\n",
       "      <th>2012-12-29</th>\n",
       "      <th>2012-12-30</th>\n",
       "      <th>2012-12-31</th>\n",
       "      <th>lat</th>\n",
       "      <th>lon</th>\n",
       "      <th>elev</th>\n",
       "      <th>name</th>\n",
       "    </tr>\n",
       "  </thead>\n",
       "  <tbody>\n",
       "    <tr>\n",
       "      <th>1011</th>\n",
       "      <td>USW00094299</td>\n",
       "      <td>0.0</td>\n",
       "      <td>0.0</td>\n",
       "      <td>0.0</td>\n",
       "      <td>0.0</td>\n",
       "      <td>0.0</td>\n",
       "      <td>0.0</td>\n",
       "      <td>0.0</td>\n",
       "      <td>0.0</td>\n",
       "      <td>0.0</td>\n",
       "      <td>...</td>\n",
       "      <td>2.3</td>\n",
       "      <td>0.3</td>\n",
       "      <td>0.5</td>\n",
       "      <td>0.0</td>\n",
       "      <td>0.3</td>\n",
       "      <td>0.0</td>\n",
       "      <td>41.4836</td>\n",
       "      <td>-120.5614</td>\n",
       "      <td>1335.9</td>\n",
       "      <td>CA ALTURAS MUNI AP</td>\n",
       "    </tr>\n",
       "  </tbody>\n",
       "</table>\n",
       "<p>1 rows × 371 columns</p>\n",
       "</div>"
      ],
      "text/plain": [
       "          station  2012-01-01  2012-01-02  2012-01-03  2012-01-04  2012-01-05  \\\n",
       "1011  USW00094299         0.0         0.0         0.0         0.0         0.0   \n",
       "\n",
       "      2012-01-06  2012-01-07  2012-01-08  2012-01-09  ...  2012-12-26  \\\n",
       "1011         0.0         0.0         0.0         0.0  ...         2.3   \n",
       "\n",
       "      2012-12-27  2012-12-28  2012-12-29  2012-12-30  2012-12-31      lat  \\\n",
       "1011         0.3         0.5         0.0         0.3         0.0  41.4836   \n",
       "\n",
       "           lon    elev                                             name  \n",
       "1011 -120.5614  1335.9  CA ALTURAS MUNI AP                               \n",
       "\n",
       "[1 rows x 371 columns]"
      ]
     },
     "execution_count": 14,
     "metadata": {},
     "output_type": "execute_result"
    }
   ],
   "source": [
    "# Fill na with zeros and preview\n",
    "df = df.fillna(0.0)\n",
    "df.tail(1)"
   ]
  },
  {
   "cell_type": "code",
   "execution_count": 95,
   "id": "925f0be5-7e34-40c4-a1f7-c714adb25bed",
   "metadata": {},
   "outputs": [],
   "source": [
    "# Output csv for relevant station info\n",
    "stn_df.to_csv(f'../outputs/noaa-ncei/CA_{year}_coords.csv',index=False)"
   ]
  },
  {
   "cell_type": "code",
   "execution_count": 98,
   "id": "442c873f-2284-4272-b359-94075527e5a1",
   "metadata": {},
   "outputs": [],
   "source": [
    "# Output dataframe to csv\n",
    "df.to_csv(f'../outputs/noaa-ncei/CA_{year}_prcp_data.csv',index=False)"
   ]
  },
  {
   "cell_type": "code",
   "execution_count": null,
   "id": "5dc1800e-a061-4550-bea3-a05ca71c8b57",
   "metadata": {},
   "outputs": [],
   "source": []
  }
 ],
 "metadata": {
  "kernelspec": {
   "display_name": "Python 3 (ipykernel)",
   "language": "python",
   "name": "python3"
  },
  "language_info": {
   "codemirror_mode": {
    "name": "ipython",
    "version": 3
   },
   "file_extension": ".py",
   "mimetype": "text/x-python",
   "name": "python",
   "nbconvert_exporter": "python",
   "pygments_lexer": "ipython3",
   "version": "3.10.14"
  }
 },
 "nbformat": 4,
 "nbformat_minor": 5
}
