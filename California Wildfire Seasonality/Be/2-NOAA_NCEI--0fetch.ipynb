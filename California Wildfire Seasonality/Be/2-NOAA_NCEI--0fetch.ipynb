{
 "cells": [
  {
   "cell_type": "markdown",
   "id": "89c43e69-345a-4d28-8136-aee5ed2a89c0",
   "metadata": {},
   "source": [
    "# NOAA-NCEI Data Scraping\n",
    "---\n",
    "Menne, Matthew J., Imke Durre, Bryant Korzeniewski, Shelley McNeill, Kristy Thomas, Xungang Yin, Steven Anthony, Ron Ray, Russell S. Vose, Byron E.Gleason, and Tamara G. Houston (2012): Global Historical Climatology Network - Daily (GHCN-Daily), Version 3. FIPS:06 PRCP. NOAA National Climatic Data Center. doi:10.7289/V5D21VHZ.\n",
    "\n",
    " Matthew J. Menne, Imke Durre, Russell S. Vose, Byron E. Gleason, and Tamara G. Houston, 2012: An Overview of the Global Historical Climatology Network-Daily Database. J. Atmos. Oceanic Technol., 29, 897-910. doi:10.1175/JTECH-D-11-00103.1.\r\n",
    "\n",
    "https://www.ncdc.noaa.gov/cdo-web/webservices/v2#da\n",
    "https://www.ncei.noaa.gov/pub/data/cdo/documentation/GHCND_documentation.pdf\n",
    "https://www1.ncdc.noaa.gov/pub/data/ghcn/daily/readme.txt\r\n",
    "ta"
   ]
  },
  {
   "cell_type": "code",
   "execution_count": 5,
   "id": "f532c527-4a79-4474-bb34-3e8274f94368",
   "metadata": {},
   "outputs": [],
   "source": [
    "# Dependencies\n",
    "import pandas as pd\n",
    "import requests\n",
    "import time\n",
    "from api_key import noaa_key"
   ]
  },
  {
   "cell_type": "markdown",
   "id": "48aab71c-44d3-4afa-8783-fff0427de4d7",
   "metadata": {},
   "source": [
    "## 1 Set Variables and Parameters\n",
    "---"
   ]
  },
  {
   "cell_type": "code",
   "execution_count": 6,
   "id": "ec241842-91bb-4baf-aaee-6e21e44ac791",
   "metadata": {},
   "outputs": [],
   "source": [
    "# Setup to retrive daily summary data from NOAA NCEI by year\n",
    "year = 2012\n",
    "export = False\n",
    "dts = pd.date_range(str(year)+\"-01-01\", str(year)+\"-12-31\", freq=\"D\")"
   ]
  },
  {
   "cell_type": "code",
   "execution_count": null,
   "id": "eb260ed6-9e8e-439e-96b8-8a8f2a98af12",
   "metadata": {},
   "outputs": [],
   "source": [
    "# Setup parameters for queries\n",
    "url = \"https://www.ncei.noaa.gov/cdo-web/api/v2/data?\"\n",
    "ds_id='GHCND'\n",
    "dt_id='PRCP'\n",
    "loc_id='FIPS:06' # California\n",
    "limit=1000"
   ]
  },
  {
   "cell_type": "markdown",
   "id": "d34ae04b-efe4-4faf-a326-1b31fa12170f",
   "metadata": {},
   "source": [
    "## 2 Request API and Export Data\n",
    "---"
   ]
  },
  {
   "cell_type": "markdown",
   "id": "14612dc8-3845-4763-af5b-97e1e0e2fe86",
   "metadata": {},
   "source": [
    "### 2.1 Initial Loop to Retrieve Data"
   ]
  },
  {
   "cell_type": "code",
   "execution_count": null,
   "id": "91b11ae5-bbe8-4dbb-a7d6-d050b5f950d6",
   "metadata": {},
   "outputs": [],
   "source": [
    "# Create List to catch failed requests\n",
    "dts_chk = []\n",
    "# loop through dates and retrieve data and write to csv by date\n",
    "for dt in dts:\n",
    "    d = str(dt.date())\n",
    "    q_url = f\"{url}datasetid={ds_id}&datatypeid={dt_id}&locationid={loc_id}&startdate={d}&enddate={d}&units=metric&limit={limit}\"\n",
    "    try: \n",
    "        response = requests.get(q_url, headers={'token': noaa_key}).json()\n",
    "        df = pd.DataFrame(response['results'])\n",
    "        df['station'] = df['station'].str.slice(6,17)\n",
    "        df = df[['station','value']].rename(columns={'value':d})\n",
    "        if export: df.to_csv(f'../outputs/ncei-noaa/{year}/csv/{d}.csv',index=False)\n",
    "    except:\n",
    "        dts_chk.append(d)\n",
    "        print(f'{d}')\n",
    "    time.sleep(1)\n",
    "print(f'failed:{len(dts_chk)}')"
   ]
  },
  {
   "cell_type": "markdown",
   "id": "d61aab4d-0633-4855-b1c1-012d448340e4",
   "metadata": {},
   "source": [
    "### 2.2 Loop for Failed Dates"
   ]
  },
  {
   "cell_type": "code",
   "execution_count": null,
   "id": "e50ac607-edbb-4bee-adc1-b72eedd96215",
   "metadata": {},
   "outputs": [],
   "source": [
    "# loop through failed dates and retrieve data and write to csv by date\n",
    "for d in dts_chk:\n",
    "    print(d)\n",
    "    q_url = f\"{url}datasetid={ds_id}&datatypeid={dt_id}&locationid={loc_id}&startdate={d}&enddate={d}&units=metric&limit={limit}\"\n",
    "    try: \n",
    "        response = requests.get(q_url, headers={'token': noaa_key}).json()\n",
    "        df = pd.DataFrame(response['results'])\n",
    "        df['station'] = df['station'].str.slice(6,17)\n",
    "        df = df[['station','value']].rename(columns={'value':d})\n",
    "        df.to_csv(f'outputs/prcp/{year}/csv/{d}.csv',index=False)\n",
    "    except:\n",
    "        dts_chk.append(d)\n",
    "        print(f'{d} failed')\n",
    "    time.sleep(1)"
   ]
  },
  {
   "cell_type": "markdown",
   "id": "c12a9132-c4c4-45dd-b8f3-ef31f3c332dd",
   "metadata": {},
   "source": [
    "### 2.3 Retrieve by Single Date"
   ]
  },
  {
   "cell_type": "code",
   "execution_count": null,
   "id": "de2fe037-386f-42e3-a5fa-b304beee5ba9",
   "metadata": {},
   "outputs": [],
   "source": [
    "# Retrieve data by singular date for dates that failed second attempt to see if there are errors\n",
    "d='2022-01-01'\n",
    "q_url = f\"{url}datasetid={ds_id}&datatypeid={dt_id}&locationid={loc_id}&startdate={d}&enddate={d}&units=metric&limit={limit}\"\n",
    "response = requests.get(q_url, headers={'token': noaa_key}).json()\n",
    "df = pd.DataFrame(response['results'])\n",
    "df.tail(1)"
   ]
  },
  {
   "cell_type": "code",
   "execution_count": null,
   "id": "5f805f81-5208-4f5f-ab9a-b2a312725981",
   "metadata": {},
   "outputs": [],
   "source": [
    "# Remove prefix from station\n",
    "df['station'] = df['station'].str.slice(6,17)\n",
    "df = df[['station','value']].rename(columns={'value':d})\n",
    "df.tail(1)"
   ]
  },
  {
   "cell_type": "code",
   "execution_count": 6,
   "id": "af422c1f-425e-4180-b26f-e82aae2c13ef",
   "metadata": {},
   "outputs": [],
   "source": [
    "# export data to csv\n",
    "if export: df.to_csv(f'../outputs/ncei-noaa/{year}/csv/{d}.csv',index=False)"
   ]
  }
 ],
 "metadata": {
  "kernelspec": {
   "display_name": "Python 3 (ipykernel)",
   "language": "python",
   "name": "python3"
  },
  "language_info": {
   "codemirror_mode": {
    "name": "ipython",
    "version": 3
   },
   "file_extension": ".py",
   "mimetype": "text/x-python",
   "name": "python",
   "nbconvert_exporter": "python",
   "pygments_lexer": "ipython3",
   "version": "3.10.14"
  }
 },
 "nbformat": 4,
 "nbformat_minor": 5
}
