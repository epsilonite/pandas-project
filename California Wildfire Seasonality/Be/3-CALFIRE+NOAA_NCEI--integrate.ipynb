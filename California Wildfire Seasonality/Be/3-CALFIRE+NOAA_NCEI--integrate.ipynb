{
 "cells": [
  {
   "cell_type": "markdown",
   "id": "739ff042-2a84-4ddf-910e-0011b285e943",
   "metadata": {},
   "source": [
    "# CALFIRE | NOAA NCEI Data Integration\n",
    "---"
   ]
  },
  {
   "cell_type": "code",
   "execution_count": 79,
   "id": "6ea9a9c0-49c2-4019-a174-8acf89d9b0b8",
   "metadata": {},
   "outputs": [],
   "source": [
    "# Dependencies\n",
    "import pandas as pd\n",
    "import geopandas as gpd"
   ]
  },
  {
   "cell_type": "markdown",
   "id": "2a7a4cce-90da-4b51-9b3b-037eb81624a6",
   "metadata": {},
   "source": [
    "## 1 Set Variables\n",
    "---"
   ]
  },
  {
   "cell_type": "code",
   "execution_count": 80,
   "id": "04bb5a30-3364-4ac2-9f5c-ecf41d3429f1",
   "metadata": {},
   "outputs": [],
   "source": [
    "# Set Variables\n",
    "yr = 2023"
   ]
  },
  {
   "cell_type": "markdown",
   "id": "f35c5934-3d84-4953-8d5d-88a67c4fbdd1",
   "metadata": {},
   "source": [
    "## 2 Load Data\n",
    "---"
   ]
  },
  {
   "cell_type": "markdown",
   "id": "f0bd51de-2803-4d4d-8122-9320854d36fe",
   "metadata": {},
   "source": [
    "### 2.1 Load CALFIRE Fire Data\n",
    "The geometry of the fires provided by CALFIRE will be used to determine what loal precipitation data will be aggregated for comparative analysis."
   ]
  },
  {
   "cell_type": "code",
   "execution_count": 81,
   "id": "ba15b097-3156-4934-b0da-ab081dd48517",
   "metadata": {},
   "outputs": [
    {
     "data": {
      "text/html": [
       "<div>\n",
       "<style scoped>\n",
       "    .dataframe tbody tr th:only-of-type {\n",
       "        vertical-align: middle;\n",
       "    }\n",
       "\n",
       "    .dataframe tbody tr th {\n",
       "        vertical-align: top;\n",
       "    }\n",
       "\n",
       "    .dataframe thead th {\n",
       "        text-align: right;\n",
       "    }\n",
       "</style>\n",
       "<table border=\"1\" class=\"dataframe\">\n",
       "  <thead>\n",
       "    <tr style=\"text-align: right;\">\n",
       "      <th></th>\n",
       "      <th>ALARM_DATE</th>\n",
       "      <th>CONT_DATE</th>\n",
       "      <th>CAUSE_ID</th>\n",
       "      <th>CAUSE</th>\n",
       "      <th>GIS_ACRES</th>\n",
       "      <th>AGENCY</th>\n",
       "      <th>FIRE_NAME</th>\n",
       "      <th>geometry</th>\n",
       "    </tr>\n",
       "  </thead>\n",
       "  <tbody>\n",
       "    <tr>\n",
       "      <th>283</th>\n",
       "      <td>2023-12-22</td>\n",
       "      <td>2023-12-22</td>\n",
       "      <td>14</td>\n",
       "      <td>Structure</td>\n",
       "      <td>38.60516</td>\n",
       "      <td>CDF</td>\n",
       "      <td>BORDER 42</td>\n",
       "      <td>POLYGON ((-116.76955 32.58624, -116.76953 32.5...</td>\n",
       "    </tr>\n",
       "  </tbody>\n",
       "</table>\n",
       "</div>"
      ],
      "text/plain": [
       "     ALARM_DATE   CONT_DATE  CAUSE_ID      CAUSE  GIS_ACRES AGENCY  FIRE_NAME  \\\n",
       "283  2023-12-22  2023-12-22        14  Structure   38.60516    CDF  BORDER 42   \n",
       "\n",
       "                                              geometry  \n",
       "283  POLYGON ((-116.76955 32.58624, -116.76953 32.5...  "
      ]
     },
     "execution_count": 81,
     "metadata": {},
     "output_type": "execute_result"
    }
   ],
   "source": [
    "fire_gdf = gpd.read_file(f'../outputs/calfire-geojson/ca_fire_{yr}.geojson')\n",
    "fire_gdf.tail(1)"
   ]
  },
  {
   "cell_type": "markdown",
   "id": "11496a37-205c-4be5-a3bd-97f142d0269a",
   "metadata": {},
   "source": [
    "### 2.2 Load NOAA NCEI Precipitation Data\n",
    "The precipitation data will be filtered using proximity of weather station to fire geometry to be aggregated later for analysis."
   ]
  },
  {
   "cell_type": "code",
   "execution_count": 82,
   "id": "24dcf9e4-8f34-4fe0-93db-ec8bada4d158",
   "metadata": {},
   "outputs": [
    {
     "data": {
      "text/plain": [
       "Index(['station', '2023-01-01', '2023-01-02', '2023-01-03', '2023-01-04',\n",
       "       '2023-01-05', '2023-01-06', '2023-01-07', '2023-01-08', '2023-01-09',\n",
       "       ...\n",
       "       '2023-12-27', '2023-12-28', '2023-12-29', '2023-12-30', '2023-12-31',\n",
       "       'lat', 'lon', 'elev', 'name', 'geometry'],\n",
       "      dtype='object', length=371)"
      ]
     },
     "execution_count": 82,
     "metadata": {},
     "output_type": "execute_result"
    }
   ],
   "source": [
    "# Load NOAA-NCEI data\n",
    "prcp_df = pd.read_csv(f'../outputs/noaa-ncei/CA_{yr}_prcp_data.csv')\n",
    "# Create NOAA-NCEI geometry dataframe\n",
    "stn_gdf = gpd.GeoDataFrame(prcp_df, geometry=gpd.points_from_xy(prcp_df.lon, prcp_df.lat), crs=4326)\n",
    "stn_gdf.columns"
   ]
  },
  {
   "cell_type": "markdown",
   "id": "d655d1bd-0dd1-49f7-8e08-d3bc76c910a4",
   "metadata": {},
   "source": [
    "## 3 Filter and Merge Data by Geometry\n",
    "---"
   ]
  },
  {
   "cell_type": "markdown",
   "id": "dbefcc95-57aa-492c-a5ea-670883d0e92c",
   "metadata": {},
   "source": [
    "### 3.1 Create GeoDatabase to store data"
   ]
  },
  {
   "cell_type": "code",
   "execution_count": 83,
   "id": "c9ab23d6-7580-48ea-99d7-3650cc6ba3a4",
   "metadata": {},
   "outputs": [],
   "source": [
    "# Setup geodataframe to store data integration\n",
    "gdf = fire_gdf"
   ]
  },
  {
   "cell_type": "markdown",
   "id": "f500a08e-c012-4fba-b29a-daf455485ae1",
   "metadata": {},
   "source": [
    "### 3.2 Create Integrated GeoDataframe\n",
    "Resulting GeoDataFrame will have daily precipitation values aggregated by month, that are filtered by fire location using `sjoin`. Each year of fire data will be associated with the current and previoius precipitation data."
   ]
  },
  {
   "cell_type": "code",
   "execution_count": 84,
   "id": "318483c4-7ec7-40a6-b27d-66d0cc958c61",
   "metadata": {},
   "outputs": [
    {
     "data": {
      "text/html": [
       "<div>\n",
       "<style scoped>\n",
       "    .dataframe tbody tr th:only-of-type {\n",
       "        vertical-align: middle;\n",
       "    }\n",
       "\n",
       "    .dataframe tbody tr th {\n",
       "        vertical-align: top;\n",
       "    }\n",
       "\n",
       "    .dataframe thead th {\n",
       "        text-align: right;\n",
       "    }\n",
       "</style>\n",
       "<table border=\"1\" class=\"dataframe\">\n",
       "  <thead>\n",
       "    <tr style=\"text-align: right;\">\n",
       "      <th></th>\n",
       "      <th>ALARM_DATE</th>\n",
       "      <th>CONT_DATE</th>\n",
       "      <th>CAUSE_ID</th>\n",
       "      <th>CAUSE</th>\n",
       "      <th>GIS_ACRES</th>\n",
       "      <th>AGENCY</th>\n",
       "      <th>FIRE_NAME</th>\n",
       "      <th>geometry</th>\n",
       "      <th>2022-01</th>\n",
       "      <th>2022-02</th>\n",
       "      <th>...</th>\n",
       "      <th>2023-03</th>\n",
       "      <th>2023-04</th>\n",
       "      <th>2023-05</th>\n",
       "      <th>2023-06</th>\n",
       "      <th>2023-07</th>\n",
       "      <th>2023-08</th>\n",
       "      <th>2023-09</th>\n",
       "      <th>2023-10</th>\n",
       "      <th>2023-11</th>\n",
       "      <th>2023-12</th>\n",
       "    </tr>\n",
       "  </thead>\n",
       "  <tbody>\n",
       "    <tr>\n",
       "      <th>283</th>\n",
       "      <td>2023-12-22</td>\n",
       "      <td>2023-12-22</td>\n",
       "      <td>14</td>\n",
       "      <td>Structure</td>\n",
       "      <td>38.60516</td>\n",
       "      <td>CDF</td>\n",
       "      <td>BORDER 42</td>\n",
       "      <td>POLYGON ((-116.76955 32.58624, -116.76953 32.5...</td>\n",
       "      <td>0.0</td>\n",
       "      <td>34.3</td>\n",
       "      <td>...</td>\n",
       "      <td>45.0</td>\n",
       "      <td>2.6</td>\n",
       "      <td>7.1</td>\n",
       "      <td>9.7</td>\n",
       "      <td>0.0</td>\n",
       "      <td>51.6</td>\n",
       "      <td>1.3</td>\n",
       "      <td>12.5</td>\n",
       "      <td>29.6</td>\n",
       "      <td>41.1</td>\n",
       "    </tr>\n",
       "  </tbody>\n",
       "</table>\n",
       "<p>1 rows × 32 columns</p>\n",
       "</div>"
      ],
      "text/plain": [
       "     ALARM_DATE   CONT_DATE  CAUSE_ID      CAUSE  GIS_ACRES AGENCY  FIRE_NAME  \\\n",
       "283  2023-12-22  2023-12-22        14  Structure   38.60516    CDF  BORDER 42   \n",
       "\n",
       "                                              geometry  2022-01  2022-02  ...  \\\n",
       "283  POLYGON ((-116.76955 32.58624, -116.76953 32.5...      0.0     34.3  ...   \n",
       "\n",
       "     2023-03  2023-04  2023-05  2023-06  2023-07  2023-08  2023-09  2023-10  \\\n",
       "283     45.0      2.6      7.1      9.7      0.0     51.6      1.3     12.5   \n",
       "\n",
       "     2023-11  2023-12  \n",
       "283     29.6     41.1  \n",
       "\n",
       "[1 rows x 32 columns]"
      ]
     },
     "execution_count": 84,
     "metadata": {},
     "output_type": "execute_result"
    }
   ],
   "source": [
    "# Loop through years to get precipitation data\n",
    "for y in [yr-1,yr]:\n",
    "    # Load NOAA-NCEI and create geometry dataframe\n",
    "    df = pd.read_csv(f'../outputs/noaa-ncei/CA_{y}_prcp_data.csv')\n",
    "    # Aggregate NOAA-NCEI precipitation data by month\n",
    "    # Strip dataframe to precipitation data and transpose to do groupby\n",
    "    prcp_df = df.drop(columns=['lat','lon','elev','name']).set_index('station').T\n",
    "    # Convert date index to %Y-%m\n",
    "    prcp_df.index = prcp_df.index.str.slice(0,7)\n",
    "    # Perform aggregation using groupby on index and transpose back\n",
    "    prcp_df = prcp_df.groupby(level=0).sum().round(1).T\n",
    "    # Create geodataframe\n",
    "    prcp_gdf = gpd.GeoDataFrame(prcp_df, geometry=gpd.points_from_xy(df.lon, df.lat), crs=4326)\n",
    "    # Filter NOAA-NCEI data with sjoin\n",
    "    sjoin = fire_gdf.to_crs(32610).sjoin_nearest(prcp_gdf.to_crs(32610)).to_crs(4326).rename(columns={'station':f'STN{y}'})\n",
    "    gdf = pd.concat( [gdf, sjoin.drop(columns=['ALARM_DATE','CONT_DATE','CAUSE_ID','CAUSE',\n",
    "        'GIS_ACRES','AGENCY','FIRE_NAME','geometry','index_right'])],axis=1)\n",
    "# Check geodataframe\n",
    "gdf.tail(1)"
   ]
  },
  {
   "cell_type": "markdown",
   "id": "be4e3528-7f97-4eee-9829-a65c95f45048",
   "metadata": {},
   "source": [
    "## 4 Export Data\n",
    "---"
   ]
  },
  {
   "cell_type": "code",
   "execution_count": 85,
   "id": "2758ba86-53bc-41d7-9c39-d810046e9e8c",
   "metadata": {},
   "outputs": [],
   "source": [
    "gdf.to_file(f'../outputs/calfire-geojson/CA_prcp_{yr}.geojson')"
   ]
  }
 ],
 "metadata": {
  "kernelspec": {
   "display_name": "Python 3 (ipykernel)",
   "language": "python",
   "name": "python3"
  },
  "language_info": {
   "codemirror_mode": {
    "name": "ipython",
    "version": 3
   },
   "file_extension": ".py",
   "mimetype": "text/x-python",
   "name": "python",
   "nbconvert_exporter": "python",
   "pygments_lexer": "ipython3",
   "version": "3.10.14"
  }
 },
 "nbformat": 4,
 "nbformat_minor": 5
}
