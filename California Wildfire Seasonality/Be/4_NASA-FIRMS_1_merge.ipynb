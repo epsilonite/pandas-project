{
 "cells": [
  {
   "cell_type": "markdown",
   "id": "525144b4-ca8e-416a-9edf-22e7228010fc",
   "metadata": {},
   "source": [
    "# NASA-FIRMS Data Scrubbing\n",
    "---"
   ]
  },
  {
   "cell_type": "code",
   "execution_count": 74,
   "id": "06ed9f99-4de6-465b-952e-e64d5843aa5b",
   "metadata": {},
   "outputs": [],
   "source": [
    "# Dependencies\n",
    "import pandas as pd\n",
    "import fns as f"
   ]
  },
  {
   "cell_type": "markdown",
   "id": "a0cf56a2-23b0-4af3-9782-fb0461bdd272",
   "metadata": {},
   "source": [
    "## 1 Set Variables\n",
    "---"
   ]
  },
  {
   "cell_type": "code",
   "execution_count": 176,
   "id": "f9c638bf-68f0-4759-af2f-33685839062f",
   "metadata": {},
   "outputs": [
    {
     "data": {
      "text/plain": [
       "['2013-12-27', 5]"
      ]
     },
     "execution_count": 176,
     "metadata": {},
     "output_type": "execute_result"
    }
   ],
   "source": [
    "# Set year for merge\n",
    "yr = 2013\n",
    "md = ['-01-01','-12-31']\n",
    "# Create date range in days for year %Y-%m-%d\n",
    "dt = [f'{str(x.date())}' for x in pd.date_range(str(yr)+md[0], str(yr)+md[1], freq=\"D\")]\n",
    "# Create dates and range (Date format is %Y-%m-%d, Range is 1-10 days)\n",
    "dt_rng = []\n",
    "for i in range(0,int(f.roundby(len(dt)/10+0.5,1))):\n",
    "    dt_rng.append([dt[10*i],min(10,len(dt)-10*i)])\n",
    "    i+=1\n",
    "# Check last entry\n",
    "dt_rng[-1]"
   ]
  },
  {
   "cell_type": "markdown",
   "id": "9c8f5ed8-5d65-4635-83e5-c4d3886b1e2c",
   "metadata": {},
   "source": [
    "## 2 Data By Year\n",
    "---"
   ]
  },
  {
   "cell_type": "markdown",
   "id": "33dfb3b5-e867-4e2d-8dd7-34a1b725cba2",
   "metadata": {},
   "source": [
    "### 2.1 Merge Data"
   ]
  },
  {
   "cell_type": "code",
   "execution_count": 177,
   "id": "952ffdfe-055b-4007-8418-8da5ce22d924",
   "metadata": {},
   "outputs": [
    {
     "data": {
      "text/html": [
       "<div>\n",
       "<style scoped>\n",
       "    .dataframe tbody tr th:only-of-type {\n",
       "        vertical-align: middle;\n",
       "    }\n",
       "\n",
       "    .dataframe tbody tr th {\n",
       "        vertical-align: top;\n",
       "    }\n",
       "\n",
       "    .dataframe thead th {\n",
       "        text-align: right;\n",
       "    }\n",
       "</style>\n",
       "<table border=\"1\" class=\"dataframe\">\n",
       "  <thead>\n",
       "    <tr style=\"text-align: right;\">\n",
       "      <th></th>\n",
       "      <th>latitude</th>\n",
       "      <th>longitude</th>\n",
       "      <th>bright_ti4</th>\n",
       "      <th>scan</th>\n",
       "      <th>track</th>\n",
       "      <th>acq_date</th>\n",
       "      <th>acq_time</th>\n",
       "      <th>satellite</th>\n",
       "      <th>instrument</th>\n",
       "      <th>confidence</th>\n",
       "      <th>version</th>\n",
       "      <th>bright_ti5</th>\n",
       "      <th>frp</th>\n",
       "      <th>daynight</th>\n",
       "      <th>type</th>\n",
       "    </tr>\n",
       "  </thead>\n",
       "  <tbody>\n",
       "    <tr>\n",
       "      <th>52043</th>\n",
       "      <td>41.49223</td>\n",
       "      <td>-120.70424</td>\n",
       "      <td>335.9</td>\n",
       "      <td>0.52</td>\n",
       "      <td>0.42</td>\n",
       "      <td>2013-12-31</td>\n",
       "      <td>2036</td>\n",
       "      <td>N</td>\n",
       "      <td>VIIRS</td>\n",
       "      <td>n</td>\n",
       "      <td>2</td>\n",
       "      <td>286.09</td>\n",
       "      <td>7.42</td>\n",
       "      <td>D</td>\n",
       "      <td>0</td>\n",
       "    </tr>\n",
       "  </tbody>\n",
       "</table>\n",
       "</div>"
      ],
      "text/plain": [
       "       latitude  longitude  bright_ti4  scan  track    acq_date  acq_time  \\\n",
       "52043  41.49223 -120.70424       335.9  0.52   0.42  2013-12-31      2036   \n",
       "\n",
       "      satellite instrument confidence  version  bright_ti5   frp daynight  \\\n",
       "52043         N      VIIRS          n        2      286.09  7.42        D   \n",
       "\n",
       "       type  \n",
       "52043     0  "
      ]
     },
     "execution_count": 177,
     "metadata": {},
     "output_type": "execute_result"
    }
   ],
   "source": [
    "# Creat dataframe from index 0\n",
    "df = pd.read_csv(f'../outputs/nasa-firms/{yr}/{dt_rng[0][0]}_{dt_rng[0][1]}.csv') # Load raw csv data\n",
    "if 'Unnamed: 0' in df.columns: df = df.drop(columns=['Unnamed: 0']) # Remove old index\n",
    "# Loop through dates and range merge data into one dataframe\n",
    "for dr in dt_rng[1:]:\n",
    "    d = pd.read_csv(f'../outputs/nasa-firms/{yr}/{dr[0]}_{dr[1]}.csv') # Load raw csv data\n",
    "    if 'Unnamed: 0' in d.columns: d = d.drop(columns=['Unnamed: 0']) # Remove old index\n",
    "    df = pd.concat([df,d],ignore_index=True)\n",
    "df.tail(1)"
   ]
  },
  {
   "cell_type": "markdown",
   "id": "bc9c7b22-37e4-401d-a532-6797f70e43a7",
   "metadata": {},
   "source": [
    "### 2.2 Clean Data"
   ]
  },
  {
   "cell_type": "code",
   "execution_count": 172,
   "id": "390a3392-d041-4be3-96bf-b09f451b992c",
   "metadata": {},
   "outputs": [],
   "source": [
    "if 'confidence' in df.columns: df = df.loc[df['confidence']!='l'] # Remove low confidence entries\n",
    "if 'type' in df.columns: df = df.loc[df['type'] != 3] #(0 or 2)] # Remove observations over water"
   ]
  },
  {
   "cell_type": "markdown",
   "id": "ea231aa2-b73e-4bfb-a809-953b35478cb0",
   "metadata": {},
   "source": [
    "### 2.3 Output Relevant Columns as `csv`"
   ]
  },
  {
   "cell_type": "code",
   "execution_count": 173,
   "id": "943ea617-ef0f-49b6-8997-64c442b18d7d",
   "metadata": {},
   "outputs": [
    {
     "data": {
      "text/html": [
       "<div>\n",
       "<style scoped>\n",
       "    .dataframe tbody tr th:only-of-type {\n",
       "        vertical-align: middle;\n",
       "    }\n",
       "\n",
       "    .dataframe tbody tr th {\n",
       "        vertical-align: top;\n",
       "    }\n",
       "\n",
       "    .dataframe thead th {\n",
       "        text-align: right;\n",
       "    }\n",
       "</style>\n",
       "<table border=\"1\" class=\"dataframe\">\n",
       "  <thead>\n",
       "    <tr style=\"text-align: right;\">\n",
       "      <th></th>\n",
       "      <th>acq_date</th>\n",
       "      <th>frp</th>\n",
       "      <th>bright_ti5</th>\n",
       "      <th>bright_ti4</th>\n",
       "      <th>latitude</th>\n",
       "      <th>longitude</th>\n",
       "    </tr>\n",
       "  </thead>\n",
       "  <tbody>\n",
       "    <tr>\n",
       "      <th>52043</th>\n",
       "      <td>2013-12-31</td>\n",
       "      <td>7.42</td>\n",
       "      <td>286.09</td>\n",
       "      <td>335.9</td>\n",
       "      <td>41.49223</td>\n",
       "      <td>-120.70424</td>\n",
       "    </tr>\n",
       "  </tbody>\n",
       "</table>\n",
       "</div>"
      ],
      "text/plain": [
       "         acq_date   frp  bright_ti5  bright_ti4  latitude  longitude\n",
       "52043  2013-12-31  7.42      286.09       335.9  41.49223 -120.70424"
      ]
     },
     "execution_count": 173,
     "metadata": {},
     "output_type": "execute_result"
    }
   ],
   "source": [
    "df = df[['acq_date','frp','bright_ti5','bright_ti4','latitude','longitude']]\n",
    "df.to_csv(f'../outputs/nasa-firms/{yr}.csv',index=False)\n",
    "df.tail(1)"
   ]
  },
  {
   "cell_type": "markdown",
   "id": "435c9da9-6e78-4243-b8ab-6d1680926f52",
   "metadata": {},
   "source": [
    "## 3 Merge By Year\n",
    "---"
   ]
  },
  {
   "cell_type": "code",
   "execution_count": 178,
   "id": "b28bda8a-a325-4f4d-bbab-e92e187ad63a",
   "metadata": {},
   "outputs": [],
   "source": [
    "ydf = pd.read_csv(f'../outputs/nasa-firms/2013.csv')\n",
    "for y in range(2014,2025):\n",
    "    ydf = pd.concat([ydf,pd.read_csv(f'../outputs/nasa-firms/{y}.csv')])"
   ]
  },
  {
   "cell_type": "code",
   "execution_count": 181,
   "id": "83325288-d481-497c-a40d-4b05ab715fe7",
   "metadata": {},
   "outputs": [
    {
     "data": {
      "text/html": [
       "<div>\n",
       "<style scoped>\n",
       "    .dataframe tbody tr th:only-of-type {\n",
       "        vertical-align: middle;\n",
       "    }\n",
       "\n",
       "    .dataframe tbody tr th {\n",
       "        vertical-align: top;\n",
       "    }\n",
       "\n",
       "    .dataframe thead th {\n",
       "        text-align: right;\n",
       "    }\n",
       "</style>\n",
       "<table border=\"1\" class=\"dataframe\">\n",
       "  <thead>\n",
       "    <tr style=\"text-align: right;\">\n",
       "      <th></th>\n",
       "      <th>acq_date</th>\n",
       "      <th>frp</th>\n",
       "      <th>bright_ti5</th>\n",
       "      <th>bright_ti4</th>\n",
       "      <th>latitude</th>\n",
       "      <th>longitude</th>\n",
       "    </tr>\n",
       "  </thead>\n",
       "  <tbody>\n",
       "    <tr>\n",
       "      <th>12809</th>\n",
       "      <td>2024-07-09</td>\n",
       "      <td>4.64</td>\n",
       "      <td>300.79</td>\n",
       "      <td>340.33</td>\n",
       "      <td>41.53033</td>\n",
       "      <td>-123.0107</td>\n",
       "    </tr>\n",
       "  </tbody>\n",
       "</table>\n",
       "</div>"
      ],
      "text/plain": [
       "         acq_date   frp  bright_ti5  bright_ti4  latitude  longitude\n",
       "12809  2024-07-09  4.64      300.79      340.33  41.53033  -123.0107"
      ]
     },
     "execution_count": 181,
     "metadata": {},
     "output_type": "execute_result"
    }
   ],
   "source": [
    "ydf.tail(1)"
   ]
  },
  {
   "cell_type": "code",
   "execution_count": 182,
   "id": "84665bcb-25c8-4d44-bc12-b79214343eb4",
   "metadata": {},
   "outputs": [],
   "source": [
    "ydf.to_csv(f'../outputs/nasa-firms/all.csv',index=False)"
   ]
  },
  {
   "cell_type": "code",
   "execution_count": null,
   "id": "80913993-2ef3-4fb8-bf18-718f1106cb29",
   "metadata": {},
   "outputs": [],
   "source": []
  }
 ],
 "metadata": {
  "kernelspec": {
   "display_name": "Python 3 (ipykernel)",
   "language": "python",
   "name": "python3"
  },
  "language_info": {
   "codemirror_mode": {
    "name": "ipython",
    "version": 3
   },
   "file_extension": ".py",
   "mimetype": "text/x-python",
   "name": "python",
   "nbconvert_exporter": "python",
   "pygments_lexer": "ipython3",
   "version": "3.10.14"
  }
 },
 "nbformat": 4,
 "nbformat_minor": 5
}
