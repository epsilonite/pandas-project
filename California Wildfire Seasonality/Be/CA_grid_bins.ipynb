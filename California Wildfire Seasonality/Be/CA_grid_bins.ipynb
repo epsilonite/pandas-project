{
 "cells": [
  {
   "cell_type": "code",
   "execution_count": 18,
   "id": "2b155ce7-ca04-4c5e-bf37-b27fa2263460",
   "metadata": {},
   "outputs": [],
   "source": [
    "import pandas as pd\n",
    "import geopandas as gpd\n",
    "import shapely as shp\n",
    "import fns as f"
   ]
  },
  {
   "cell_type": "code",
   "execution_count": 2,
   "id": "73897150-e902-471f-b902-d1b8c6f57f09",
   "metadata": {},
   "outputs": [],
   "source": [
    "gdf = gpd.read_file('../outputs/geojson/ca_boundary.geojson')"
   ]
  },
  {
   "cell_type": "code",
   "execution_count": 3,
   "id": "ef4b7787-f1c3-4c83-bf39-dc03ef1228ec",
   "metadata": {},
   "outputs": [
    {
     "data": {
      "text/html": [
       "<div>\n",
       "<style scoped>\n",
       "    .dataframe tbody tr th:only-of-type {\n",
       "        vertical-align: middle;\n",
       "    }\n",
       "\n",
       "    .dataframe tbody tr th {\n",
       "        vertical-align: top;\n",
       "    }\n",
       "\n",
       "    .dataframe thead th {\n",
       "        text-align: right;\n",
       "    }\n",
       "</style>\n",
       "<table border=\"1\" class=\"dataframe\">\n",
       "  <thead>\n",
       "    <tr style=\"text-align: right;\">\n",
       "      <th></th>\n",
       "      <th>gid</th>\n",
       "      <th>arealand</th>\n",
       "      <th>division</th>\n",
       "      <th>intptlat</th>\n",
       "      <th>name</th>\n",
       "      <th>objectid</th>\n",
       "      <th>areawater</th>\n",
       "      <th>intptlon</th>\n",
       "      <th>oid</th>\n",
       "      <th>funcstat</th>\n",
       "      <th>...</th>\n",
       "      <th>state</th>\n",
       "      <th>statens</th>\n",
       "      <th>centlat</th>\n",
       "      <th>basename</th>\n",
       "      <th>mtfcc</th>\n",
       "      <th>region</th>\n",
       "      <th>lsadc</th>\n",
       "      <th>geoid</th>\n",
       "      <th>geo_point_2d</th>\n",
       "      <th>geometry</th>\n",
       "    </tr>\n",
       "  </thead>\n",
       "  <tbody>\n",
       "    <tr>\n",
       "      <th>0</th>\n",
       "      <td>48</td>\n",
       "      <td>-222385618</td>\n",
       "      <td>9</td>\n",
       "      <td>37.155177</td>\n",
       "      <td>California</td>\n",
       "      <td>14</td>\n",
       "      <td>-1011556647</td>\n",
       "      <td>-119.543418</td>\n",
       "      <td>239405626</td>\n",
       "      <td>A</td>\n",
       "      <td>...</td>\n",
       "      <td>06</td>\n",
       "      <td>01779778</td>\n",
       "      <td>37.154735</td>\n",
       "      <td>California</td>\n",
       "      <td>G4000</td>\n",
       "      <td>4</td>\n",
       "      <td>00</td>\n",
       "      <td>06</td>\n",
       "      <td>{'lon': -119.663749804, 'lat': 37.2153570137}</td>\n",
       "      <td>MULTIPOLYGON (((-124.13656 41.46445, -124.1441...</td>\n",
       "    </tr>\n",
       "  </tbody>\n",
       "</table>\n",
       "<p>1 rows × 22 columns</p>\n",
       "</div>"
      ],
      "text/plain": [
       "   gid    arealand  division   intptlat        name  objectid    areawater  \\\n",
       "0   48  -222385618         9  37.155177  California        14  -1011556647   \n",
       "\n",
       "     intptlon        oid funcstat  ...  state   statens    centlat  \\\n",
       "0 -119.543418  239405626        A  ...     06  01779778  37.154735   \n",
       "\n",
       "     basename  mtfcc region lsadc  geoid  \\\n",
       "0  California  G4000      4    00     06   \n",
       "\n",
       "                                    geo_point_2d  \\\n",
       "0  {'lon': -119.663749804, 'lat': 37.2153570137}   \n",
       "\n",
       "                                            geometry  \n",
       "0  MULTIPOLYGON (((-124.13656 41.46445, -124.1441...  \n",
       "\n",
       "[1 rows x 22 columns]"
      ]
     },
     "execution_count": 3,
     "metadata": {},
     "output_type": "execute_result"
    }
   ],
   "source": [
    "gdf"
   ]
  },
  {
   "cell_type": "code",
   "execution_count": 4,
   "id": "77ced3d9-df9c-461c-a03e-7836d4e3811f",
   "metadata": {},
   "outputs": [
    {
     "data": {
      "text/plain": [
       "<Axes: >"
      ]
     },
     "execution_count": 4,
     "metadata": {},
     "output_type": "execute_result"
    },
    {
     "data": {
      "image/png": "[encoded data removed]",
      "text/plain": [
       "<Figure size 640x480 with 1 Axes>"
      ]
     },
     "metadata": {},
     "output_type": "display_data"
    }
   ],
   "source": [
    "gdf.plot()"
   ]
  },
  {
   "cell_type": "code",
   "execution_count": 61,
   "id": "61635662-3e9b-4627-a4c8-b021756c4a5a",
   "metadata": {},
   "outputs": [],
   "source": [
    "grid_cells = []\n",
    "grid_size = 0.1\n",
    "for x in range(-12445,-11405+10,10):\n",
    "    for y in range(3245, 4185+10,10):\n",
    "        grid_cells.append(f.polysquare(x,y,5,100))\n",
    "cell = gpd.GeoDataFrame(grid_cells, columns=['geometry'], crs=4326)"
   ]
  },
  {
   "cell_type": "code",
   "execution_count": 62,
   "id": "cd48604b-2318-4074-8307-5e4c159eba99",
   "metadata": {},
   "outputs": [
    {
     "data": {
      "text/html": [
       "<div>\n",
       "<style scoped>\n",
       "    .dataframe tbody tr th:only-of-type {\n",
       "        vertical-align: middle;\n",
       "    }\n",
       "\n",
       "    .dataframe tbody tr th {\n",
       "        vertical-align: top;\n",
       "    }\n",
       "\n",
       "    .dataframe thead th {\n",
       "        text-align: right;\n",
       "    }\n",
       "</style>\n",
       "<table border=\"1\" class=\"dataframe\">\n",
       "  <thead>\n",
       "    <tr style=\"text-align: right;\">\n",
       "      <th></th>\n",
       "      <th>geometry</th>\n",
       "    </tr>\n",
       "  </thead>\n",
       "  <tbody>\n",
       "    <tr>\n",
       "      <th>0</th>\n",
       "      <td>POLYGON ((-124.40000 32.40000, -124.40000 32.5...</td>\n",
       "    </tr>\n",
       "    <tr>\n",
       "      <th>1</th>\n",
       "      <td>POLYGON ((-124.40000 32.50000, -124.40000 32.6...</td>\n",
       "    </tr>\n",
       "    <tr>\n",
       "      <th>2</th>\n",
       "      <td>POLYGON ((-124.40000 32.60000, -124.40000 32.7...</td>\n",
       "    </tr>\n",
       "    <tr>\n",
       "      <th>3</th>\n",
       "      <td>POLYGON ((-124.40000 32.70000, -124.40000 32.8...</td>\n",
       "    </tr>\n",
       "    <tr>\n",
       "      <th>4</th>\n",
       "      <td>POLYGON ((-124.40000 32.80000, -124.40000 32.9...</td>\n",
       "    </tr>\n",
       "    <tr>\n",
       "      <th>...</th>\n",
       "      <td>...</td>\n",
       "    </tr>\n",
       "    <tr>\n",
       "      <th>9970</th>\n",
       "      <td>POLYGON ((-114.00000 41.40000, -114.00000 41.5...</td>\n",
       "    </tr>\n",
       "    <tr>\n",
       "      <th>9971</th>\n",
       "      <td>POLYGON ((-114.00000 41.50000, -114.00000 41.6...</td>\n",
       "    </tr>\n",
       "    <tr>\n",
       "      <th>9972</th>\n",
       "      <td>POLYGON ((-114.00000 41.60000, -114.00000 41.7...</td>\n",
       "    </tr>\n",
       "    <tr>\n",
       "      <th>9973</th>\n",
       "      <td>POLYGON ((-114.00000 41.70000, -114.00000 41.8...</td>\n",
       "    </tr>\n",
       "    <tr>\n",
       "      <th>9974</th>\n",
       "      <td>POLYGON ((-114.00000 41.80000, -114.00000 41.9...</td>\n",
       "    </tr>\n",
       "  </tbody>\n",
       "</table>\n",
       "<p>9975 rows × 1 columns</p>\n",
       "</div>"
      ],
      "text/plain": [
       "                                               geometry\n",
       "0     POLYGON ((-124.40000 32.40000, -124.40000 32.5...\n",
       "1     POLYGON ((-124.40000 32.50000, -124.40000 32.6...\n",
       "2     POLYGON ((-124.40000 32.60000, -124.40000 32.7...\n",
       "3     POLYGON ((-124.40000 32.70000, -124.40000 32.8...\n",
       "4     POLYGON ((-124.40000 32.80000, -124.40000 32.9...\n",
       "...                                                 ...\n",
       "9970  POLYGON ((-114.00000 41.40000, -114.00000 41.5...\n",
       "9971  POLYGON ((-114.00000 41.50000, -114.00000 41.6...\n",
       "9972  POLYGON ((-114.00000 41.60000, -114.00000 41.7...\n",
       "9973  POLYGON ((-114.00000 41.70000, -114.00000 41.8...\n",
       "9974  POLYGON ((-114.00000 41.80000, -114.00000 41.9...\n",
       "\n",
       "[9975 rows x 1 columns]"
      ]
     },
     "execution_count": 62,
     "metadata": {},
     "output_type": "execute_result"
    }
   ],
   "source": [
    "cell"
   ]
  },
  {
   "cell_type": "code",
   "execution_count": 63,
   "id": "e8d32cb9-4e0d-413d-b9cc-64436f714b80",
   "metadata": {},
   "outputs": [
    {
     "data": {
      "text/plain": [
       "0       False\n",
       "1       False\n",
       "2       False\n",
       "3       False\n",
       "4       False\n",
       "        ...  \n",
       "9970    False\n",
       "9971    False\n",
       "9972    False\n",
       "9973    False\n",
       "9974    False\n",
       "Length: 9975, dtype: bool"
      ]
     },
     "execution_count": 63,
     "metadata": {},
     "output_type": "execute_result"
    }
   ],
   "source": [
    "mask = cell.intersects(gdf['geometry'][0])\n",
    "mask"
   ]
  },
  {
   "cell_type": "code",
   "execution_count": 64,
   "id": "a47f3047-207a-4c59-872f-42b058394751",
   "metadata": {},
   "outputs": [],
   "source": [
    "index = [i for (i, v) in zip(range(0,9975), mask) if v]"
   ]
  },
  {
   "cell_type": "code",
   "execution_count": 72,
   "id": "a1e9dc38-9f85-4046-89d4-8426a99dc70b",
   "metadata": {},
   "outputs": [],
   "source": [
    "pd.Series(index,name='keep').to_csv('outputs/geojson/ca_grid_keep.csv',index=False)"
   ]
  },
  {
   "cell_type": "code",
   "execution_count": 66,
   "id": "d9b4a9a0-86c0-4a8e-abb3-83ef3fcacb3c",
   "metadata": {},
   "outputs": [],
   "source": [
    "drop = [i for (i, v) in zip(range(0,9975), mask) if not v]"
   ]
  },
  {
   "cell_type": "code",
   "execution_count": 71,
   "id": "ddbf37f7-be4a-4d75-8e90-8ec3a854ba45",
   "metadata": {},
   "outputs": [],
   "source": [
    "pd.Series(drop,name='drop').to_csv('outputs/geojson/ca_grid_drop.csv',index=False)"
   ]
  },
  {
   "cell_type": "code",
   "execution_count": 68,
   "id": "001d0b96-e0c5-4a77-b61f-f6122440ff58",
   "metadata": {},
   "outputs": [
    {
     "data": {
      "text/plain": [
       "<Axes: >"
      ]
     },
     "execution_count": 68,
     "metadata": {},
     "output_type": "execute_result"
    },
    {
     "data": {
      "image/png": "[encoded data removed]",
      "text/plain": [
       "<Figure size 640x480 with 1 Axes>"
      ]
     },
     "metadata": {},
     "output_type": "display_data"
    }
   ],
   "source": [
    "CAcell = cell.drop(index=drop)\n",
    "CAcell.plot()"
   ]
  },
  {
   "cell_type": "code",
   "execution_count": null,
   "id": "73886375-2cae-4925-affb-31aa11cf09d8",
   "metadata": {},
   "outputs": [],
   "source": []
  }
 ],
 "metadata": {
  "kernelspec": {
   "display_name": "Python 3 (ipykernel)",
   "language": "python",
   "name": "python3"
  },
  "language_info": {
   "codemirror_mode": {
    "name": "ipython",
    "version": 3
   },
   "file_extension": ".py",
   "mimetype": "text/x-python",
   "name": "python",
   "nbconvert_exporter": "python",
   "pygments_lexer": "ipython3",
   "version": "3.10.14"
  }
 },
 "nbformat": 4,
 "nbformat_minor": 5
}
