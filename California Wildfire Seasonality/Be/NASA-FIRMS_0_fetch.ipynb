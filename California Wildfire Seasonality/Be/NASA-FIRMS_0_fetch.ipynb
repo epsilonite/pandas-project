{
 "cells": [
  {
   "cell_type": "markdown",
   "id": "9e916629-ff4e-4ec6-9799-1a1147bd8108",
   "metadata": {
    "slideshow": {
     "slide_type": ""
    },
    "tags": []
   },
   "source": [
    "# NASA-FIRMS Data Scraping via API\n",
    "---\n",
    "NRT VIIRS 375 m Active Fire product VNP14IMGT distributed from NASA FIRMS. doi:10.5067/FIRMS/VIIRS/VNP14IMGT_NRT.002\n",
    "\n",
    "https://firms.modaps.eosdis.nasa.gov/content/academy/data_api/firms_api_use.html"
   ]
  },
  {
   "cell_type": "code",
   "execution_count": 49,
   "id": "23bfe8f6-538d-4952-bcf1-511b79f435df",
   "metadata": {},
   "outputs": [],
   "source": [
    "# Dependencies\n",
    "import pandas as pd\n",
    "import fns as f\n",
    "import time\n",
    "from api_key import nasa_key"
   ]
  },
  {
   "cell_type": "markdown",
   "id": "a4028c66-bcc7-4f56-b7ad-11549fab9f87",
   "metadata": {},
   "source": [
    "## 1 Set Variables and Parameters\n",
    "---"
   ]
  },
  {
   "cell_type": "markdown",
   "id": "73410665-ca9f-4029-8117-89ce26074a48",
   "metadata": {},
   "source": [
    "### 1.1 Set Dates and Range"
   ]
  },
  {
   "cell_type": "code",
   "execution_count": 30,
   "id": "a1a77e3f-8b41-4baf-a117-af7d788534dd",
   "metadata": {},
   "outputs": [
    {
     "data": {
      "text/plain": [
       "['2022-12-27', 5]"
      ]
     },
     "execution_count": 30,
     "metadata": {},
     "output_type": "execute_result"
    }
   ],
   "source": [
    "# Set year\n",
    "yr = 2022\n",
    "# Create date range to pull fire data\n",
    "dt = [f'{str(x.date())}' for x in pd.date_range(str(yr)+\"-01-01\", str(yr)+\"-12-31\", freq=\"D\")]\n",
    "# Create [date,range] list for (Date format is %Y-%m-%d, Range is 1-10 days)\n",
    "dt_rng = []\n",
    "for i in range(0,int(f.roundby(len(dt)/10+0.5,1))):\n",
    "    dt_rng.append([dt[10*i],min(10,len(dt)-10*i)])\n",
    "    i+=1\n",
    "# Check last entry\n",
    "dt_rng[-1]"
   ]
  },
  {
   "cell_type": "markdown",
   "id": "dac9fc7f-fe9a-440a-91b4-7b01f4cd22ac",
   "metadata": {},
   "source": [
    "### 1.2 Set Fixed API Parameters"
   ]
  },
  {
   "cell_type": "code",
   "execution_count": 25,
   "id": "b438cf90-4b1c-47f7-9ab6-4958788dc341",
   "metadata": {},
   "outputs": [],
   "source": [
    "base_url='https://firms.modaps.eosdis.nasa.gov/api/area/csv/'"
   ]
  },
  {
   "cell_type": "code",
   "execution_count": null,
   "id": "d51340b9-705e-4b24-ae17-5c8bcd9cf7b3",
   "metadata": {},
   "outputs": [],
   "source": [
    "model = 'VIIRS_SNPP_SP' # VIIRS_SNPP_SP,2012-01-20,2024-01-31 (VIIRS Suomi-NPP Standard Processing)\n",
    "# model = 'VIIRS_SNPP_NRT' # VIIRS_SNPP_NRT,2024-02-01,2024-07-09 (VIIRS Suomi-NPP Near Real Time)\n",
    "# model = 'VIIRS_NOAA20_NRT' # VIIRS_NOAA20_NRT, 2019-12-04,2023-08-02"
   ]
  },
  {
   "cell_type": "code",
   "execution_count": null,
   "id": "0741c40e-7331-4bee-9cfa-f7f461259912",
   "metadata": {},
   "outputs": [],
   "source": [
    "# California BoundingBox(W,S,E,N): -124.482003000119, 32.5288320002052, -114.131210999644, 42.0095030001829\n",
    "bbox = f'{f.CAbounds(1)[0]},{f.CAbounds(1)[1]},{f.CAbounds(1)[2]},{f.CAbounds(1)[3]}'"
   ]
  },
  {
   "cell_type": "markdown",
   "id": "1b80ca26-e270-467f-8c77-089b79e977d5",
   "metadata": {},
   "source": [
    "## 2 API Requests\n",
    "---"
   ]
  },
  {
   "cell_type": "markdown",
   "id": "cb0aa223-4c83-42b2-a97e-4fc721a103a1",
   "metadata": {},
   "source": [
    "### 2.1 Initial Loop For Requests"
   ]
  },
  {
   "cell_type": "code",
   "execution_count": null,
   "id": "6fef6c2a-bb9f-4a8d-9eb5-e12b5532171f",
   "metadata": {},
   "outputs": [],
   "source": [
    "# Create list to catch failed dates\n",
    "dt_failed = []\n",
    "# Loop through requests and output results to csv\n",
    "for dr in dt_rng:\n",
    "    csv_url=f'{base_url}{nasa_key}/{model}/{bbox}/{dr[1]}/{dr[0]}'\n",
    "    try: \n",
    "        pd.read_csv(csv_url).to_csv(f'../outputs/nasa-firms/{yr}/{dr[0]}_{dr[1]}.csv',index=False)\n",
    "    except:\n",
    "        print(dr)\n",
    "        dt_failed.append(dr)\n",
    "    time.sleep(1)"
   ]
  },
  {
   "cell_type": "markdown",
   "id": "7f07ef2b-d54e-4f5b-989d-a1f72222ad7c",
   "metadata": {},
   "source": [
    "### 2.2 Loop for Failed Requests"
   ]
  },
  {
   "cell_type": "code",
   "execution_count": 11,
   "id": "719df222-8123-4db2-9ed3-a93fd8b2eb03",
   "metadata": {},
   "outputs": [],
   "source": [
    "# Check for failed requests\n",
    "dt_failed"
   ]
  },
  {
   "cell_type": "code",
   "execution_count": null,
   "id": "0d13a667-e377-4ada-9e98-ac591f1844a4",
   "metadata": {},
   "outputs": [],
   "source": [
    "# Loop through failed requests and output results to csv\n",
    "for dr in dt_failed:\n",
    "    print(dr[0])\n",
    "    csv_url=f'{base_url}{nasa_key}/{model}/{bbox}/{dr[1]}/{dr[0]}'\n",
    "    try: \n",
    "        pd.read_csv(csv_url).to_csv(f'../outputs/nasa-firms/{yr}/{dr[0]}_{dr[1]}.csv',index=False)\n",
    "    except:\n",
    "        print(dr)\n",
    "    time.sleep(1)"
   ]
  },
  {
   "cell_type": "markdown",
   "id": "4ce0abbb-3c21-4f0a-98bc-332e61a794b6",
   "metadata": {
    "slideshow": {
     "slide_type": ""
    },
    "tags": []
   },
   "source": [
    "### 2.3 Request by Date"
   ]
  },
  {
   "cell_type": "code",
   "execution_count": 36,
   "id": "dd97d026-aace-4bbd-a390-12830e102a45",
   "metadata": {},
   "outputs": [],
   "source": [
    "dr=['2022-07-10',10]\n",
    "csv_url=f'{base_url}{nasa_key}/{model}/{bbox}/{dr[1]}/{dr[0]}'\n",
    "df = pd.read_csv(csv_url)"
   ]
  },
  {
   "cell_type": "code",
   "execution_count": 46,
   "id": "1985eeb3-66a5-4484-9053-30dbf88122bf",
   "metadata": {},
   "outputs": [
    {
     "data": {
      "text/html": [
       "<div>\n",
       "<style scoped>\n",
       "    .dataframe tbody tr th:only-of-type {\n",
       "        vertical-align: middle;\n",
       "    }\n",
       "\n",
       "    .dataframe tbody tr th {\n",
       "        vertical-align: top;\n",
       "    }\n",
       "\n",
       "    .dataframe thead th {\n",
       "        text-align: right;\n",
       "    }\n",
       "</style>\n",
       "<table border=\"1\" class=\"dataframe\">\n",
       "  <thead>\n",
       "    <tr style=\"text-align: right;\">\n",
       "      <th></th>\n",
       "      <th>latitude</th>\n",
       "      <th>longitude</th>\n",
       "      <th>bright_ti4</th>\n",
       "      <th>scan</th>\n",
       "      <th>track</th>\n",
       "      <th>acq_date</th>\n",
       "      <th>acq_time</th>\n",
       "      <th>satellite</th>\n",
       "      <th>instrument</th>\n",
       "      <th>confidence</th>\n",
       "      <th>version</th>\n",
       "      <th>bright_ti5</th>\n",
       "      <th>frp</th>\n",
       "      <th>daynight</th>\n",
       "    </tr>\n",
       "  </thead>\n",
       "  <tbody>\n",
       "    <tr>\n",
       "      <th>1336</th>\n",
       "      <td>40.96521</td>\n",
       "      <td>-123.589</td>\n",
       "      <td>329.82</td>\n",
       "      <td>0.45</td>\n",
       "      <td>0.39</td>\n",
       "      <td>2022-08-18</td>\n",
       "      <td>2123</td>\n",
       "      <td>N20</td>\n",
       "      <td>VIIRS</td>\n",
       "      <td>l</td>\n",
       "      <td>2.0NRT</td>\n",
       "      <td>300.93</td>\n",
       "      <td>5.99</td>\n",
       "      <td>D</td>\n",
       "    </tr>\n",
       "  </tbody>\n",
       "</table>\n",
       "</div>"
      ],
      "text/plain": [
       "      latitude  longitude  bright_ti4  scan  track    acq_date  acq_time  \\\n",
       "1336  40.96521   -123.589      329.82  0.45   0.39  2022-08-18      2123   \n",
       "\n",
       "     satellite instrument confidence version  bright_ti5   frp daynight  \n",
       "1336       N20      VIIRS          l  2.0NRT      300.93  5.99        D  "
      ]
     },
     "execution_count": 46,
     "metadata": {},
     "output_type": "execute_result"
    }
   ],
   "source": [
    "df.tail(1)"
   ]
  },
  {
   "cell_type": "code",
   "execution_count": 38,
   "id": "dc5c5fa7-4100-4035-9d9c-f647db388ec1",
   "metadata": {},
   "outputs": [],
   "source": [
    "df.to_csv(f'../outputs/nasa-firms/{yr}/{dr[0]}_{dr[1]}.csv',index=False)"
   ]
  },
  {
   "cell_type": "code",
   "execution_count": null,
   "id": "bfbc97fd-2599-4175-88ac-d550c4253544",
   "metadata": {},
   "outputs": [],
   "source": []
  }
 ],
 "metadata": {
  "kernelspec": {
   "display_name": "Python 3 (ipykernel)",
   "language": "python",
   "name": "python3"
  },
  "language_info": {
   "codemirror_mode": {
    "name": "ipython",
    "version": 3
   },
   "file_extension": ".py",
   "mimetype": "text/x-python",
   "name": "python",
   "nbconvert_exporter": "python",
   "pygments_lexer": "ipython3",
   "version": "3.10.14"
  }
 },
 "nbformat": 4,
 "nbformat_minor": 5
}
