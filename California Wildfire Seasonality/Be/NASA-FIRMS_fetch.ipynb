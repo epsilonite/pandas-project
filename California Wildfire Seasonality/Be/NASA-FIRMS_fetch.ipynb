{
 "cells": [
  {
   "cell_type": "code",
   "execution_count": 16,
   "id": "23bfe8f6-538d-4952-bcf1-511b79f435df",
   "metadata": {},
   "outputs": [],
   "source": [
    "# Dependencies\n",
    "import pandas as pd\n",
    "import fns as f\n",
    "import time\n",
    "from api_key import nasa_key"
   ]
  },
  {
   "cell_type": "code",
   "execution_count": 85,
   "id": "a1a77e3f-8b41-4baf-a117-af7d788534dd",
   "metadata": {},
   "outputs": [
    {
     "data": {
      "text/plain": [
       "['2013-12-27', 5]"
      ]
     },
     "execution_count": 85,
     "metadata": {},
     "output_type": "execute_result"
    }
   ],
   "source": [
    "yr = 2013\n",
    "# Get dates to pull fire data\n",
    "dt = [f'{str(x.date())}' for x in pd.date_range(str(yr)+\"-01-01\", str(yr)+\"-12-31\", freq=\"D\")]\n",
    "# Get dates and range (Date format is %Y-%m-%d, Range is 1-10 days)\n",
    "dt_rng = []\n",
    "for i in range(0,int(f.roundby(len(dt)/10+0.5,1))):\n",
    "    dt_rng.append([dt[10*i],min(10,len(dt)-10*i)])\n",
    "    i+=1\n",
    "dt_rng[-1]"
   ]
  },
  {
   "cell_type": "code",
   "execution_count": 33,
   "id": "bce35d55-17bc-4109-be46-74816a7d6ea6",
   "metadata": {},
   "outputs": [
    {
     "name": "stdout",
     "output_type": "stream",
     "text": [
      "[-124.482003000119, 32.5288320002052, -114.131210999644, 42.0095030001829]\n",
      "[-124.5, 32.5, -114.1, 42.1]\n"
     ]
    }
   ],
   "source": [
    "# California BoundingBox(W,S,E,N):\n",
    "bbox_lst = f.CAbounds(1)\n",
    "print(f.CAbounds())\n",
    "print(bbox_lst)"
   ]
  },
  {
   "cell_type": "code",
   "execution_count": 49,
   "id": "b438cf90-4b1c-47f7-9ab6-4958788dc341",
   "metadata": {},
   "outputs": [],
   "source": [
    "# NASA FIRMS API\n",
    "base_url='https://firms.modaps.eosdis.nasa.gov/api/area/csv/'\n",
    "# VIIRS_SNPP_NRT,2024-02-01,2024-07-09 (VIIRS Suomi-NPP Near Real Time)\n",
    "# VIIRS_SNPP_SP,2012-01-20,2024-01-31 (VIIRS Suomi-NPP Standard Processing)\n",
    "model = 'VIIRS_SNPP_SP'\n",
    "# California BoundingBox(W,S,E,N): -124.482003000119, 32.5288320002052, -114.131210999644, 42.0095030001829\n",
    "bbox = f'{bbox_lst[0]},{bbox_lst[1]},{bbox_lst[2]},{bbox_lst[3]}'"
   ]
  },
  {
   "cell_type": "code",
   "execution_count": 86,
   "id": "6fef6c2a-bb9f-4a8d-9eb5-e12b5532171f",
   "metadata": {},
   "outputs": [
    {
     "name": "stdout",
     "output_type": "stream",
     "text": [
      "['2013-01-01', 10]\n",
      "['2013-01-11', 10]\n",
      "['2013-01-21', 10]\n",
      "['2013-01-31', 10]\n",
      "['2013-02-10', 10]\n",
      "['2013-02-20', 10]\n",
      "['2013-03-02', 10]\n",
      "['2013-03-12', 10]\n",
      "['2013-03-22', 10]\n",
      "['2013-04-01', 10]\n",
      "['2013-04-11', 10]\n",
      "['2013-04-21', 10]\n",
      "['2013-05-01', 10]\n",
      "['2013-05-11', 10]\n",
      "['2013-05-21', 10]\n",
      "['2013-05-31', 10]\n",
      "['2013-06-10', 10]\n",
      "['2013-06-20', 10]\n",
      "['2013-06-30', 10]\n",
      "['2013-07-10', 10]\n",
      "['2013-07-20', 10]\n",
      "['2013-07-30', 10]\n",
      "['2013-08-09', 10]\n",
      "['2013-08-19', 10]\n",
      "['2013-08-29', 10]\n",
      "['2013-09-08', 10]\n",
      "['2013-09-18', 10]\n",
      "['2013-09-28', 10]\n",
      "['2013-10-08', 10]\n",
      "['2013-10-18', 10]\n",
      "['2013-10-28', 10]\n",
      "['2013-11-07', 10]\n",
      "['2013-11-17', 10]\n",
      "['2013-11-27', 10]\n",
      "['2013-12-07', 10]\n",
      "['2013-12-17', 10]\n",
      "['2013-12-27', 5]\n"
     ]
    }
   ],
   "source": [
    "dt_failed = []\n",
    "for dr in dt_rng:\n",
    "    print(dr)\n",
    "    csv_url=f'{base_url}{nasa_key}/{model}/{bbox}/{dr[1]}/{dr[0]}'\n",
    "    try: \n",
    "        pd.read_csv(csv_url).to_csv(f'../outputs/nasa-firms/{yr}/{dr[0]}_{dr[1]}.csv',index=False)\n",
    "    except:\n",
    "        dt_failed.append(dr)\n",
    "    time.sleep(1)"
   ]
  },
  {
   "cell_type": "code",
   "execution_count": 90,
   "id": "719df222-8123-4db2-9ed3-a93fd8b2eb03",
   "metadata": {},
   "outputs": [
    {
     "data": {
      "text/plain": [
       "[['2013-05-11', 10],\n",
       " ['2013-05-21', 10],\n",
       " ['2013-05-31', 10],\n",
       " ['2013-06-10', 10],\n",
       " ['2013-06-20', 10],\n",
       " ['2013-06-30', 10],\n",
       " ['2013-07-10', 10],\n",
       " ['2013-07-20', 10],\n",
       " ['2013-07-30', 10],\n",
       " ['2013-08-09', 10],\n",
       " ['2013-08-19', 10],\n",
       " ['2013-08-29', 10],\n",
       " ['2013-09-08', 10],\n",
       " ['2013-09-18', 10],\n",
       " ['2013-09-28', 10],\n",
       " ['2013-10-08', 10],\n",
       " ['2013-10-18', 10],\n",
       " ['2013-10-28', 10],\n",
       " ['2013-11-07', 10],\n",
       " ['2013-11-17', 10],\n",
       " ['2013-11-27', 10],\n",
       " ['2013-12-07', 10],\n",
       " ['2013-12-17', 10]]"
      ]
     },
     "execution_count": 90,
     "metadata": {},
     "output_type": "execute_result"
    }
   ],
   "source": [
    "dt_failed = dt_rng[13:-1]\n",
    "dt_failed"
   ]
  },
  {
   "cell_type": "code",
   "execution_count": 91,
   "id": "0d13a667-e377-4ada-9e98-ac591f1844a4",
   "metadata": {},
   "outputs": [
    {
     "name": "stdout",
     "output_type": "stream",
     "text": [
      "['2013-05-11', 10]\n",
      "['2013-05-21', 10]\n",
      "['2013-05-31', 10]\n",
      "['2013-06-10', 10]\n",
      "['2013-06-20', 10]\n",
      "['2013-06-30', 10]\n",
      "['2013-07-10', 10]\n",
      "['2013-07-20', 10]\n",
      "['2013-07-30', 10]\n",
      "['2013-08-09', 10]\n",
      "['2013-08-19', 10]\n",
      "['2013-08-29', 10]\n",
      "['2013-09-08', 10]\n",
      "['2013-09-18', 10]\n",
      "['2013-09-28', 10]\n",
      "['2013-10-08', 10]\n",
      "['2013-10-18', 10]\n",
      "['2013-10-28', 10]\n",
      "['2013-11-07', 10]\n",
      "['2013-11-17', 10]\n",
      "['2013-11-27', 10]\n",
      "['2013-12-07', 10]\n",
      "['2013-12-17', 10]\n"
     ]
    }
   ],
   "source": [
    "for dr in dt_failed:\n",
    "    print(dr)\n",
    "    csv_url=f'{base_url}{nasa_key}/{model}/{bbox}/{dr[1]}/{dr[0]}'\n",
    "    try: \n",
    "        pd.read_csv(csv_url).to_csv(f'..outputs/nasa-firms/{yr}/{dr[0]}_{dr[1]}.csv',index=False)\n",
    "    except:\n",
    "        dt_failed.append(dr)\n",
    "    time.sleep(1)"
   ]
  },
  {
   "cell_type": "code",
   "execution_count": null,
   "id": "1985eeb3-66a5-4484-9053-30dbf88122bf",
   "metadata": {},
   "outputs": [],
   "source": []
  }
 ],
 "metadata": {
  "kernelspec": {
   "display_name": "Python 3 (ipykernel)",
   "language": "python",
   "name": "python3"
  },
  "language_info": {
   "codemirror_mode": {
    "name": "ipython",
    "version": 3
   },
   "file_extension": ".py",
   "mimetype": "text/x-python",
   "name": "python",
   "nbconvert_exporter": "python",
   "pygments_lexer": "ipython3",
   "version": "3.10.14"
  }
 },
 "nbformat": 4,
 "nbformat_minor": 5
}
