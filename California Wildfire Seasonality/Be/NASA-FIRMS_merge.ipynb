{
 "cells": [
  {
   "cell_type": "code",
   "execution_count": 4,
   "id": "06ed9f99-4de6-465b-952e-e64d5843aa5b",
   "metadata": {},
   "outputs": [],
   "source": [
    "# Dependencies\n",
    "import pandas as pd\n",
    "import fns as f"
   ]
  },
  {
   "cell_type": "code",
   "execution_count": 132,
   "id": "f9c638bf-68f0-4759-af2f-33685839062f",
   "metadata": {},
   "outputs": [
    {
     "data": {
      "text/plain": [
       "['2013-12-27', 5]"
      ]
     },
     "execution_count": 132,
     "metadata": {},
     "output_type": "execute_result"
    }
   ],
   "source": [
    "yr = 2013\n",
    "# Get dates to pull fire data\n",
    "dt = [f'{str(x.date())}' for x in pd.date_range(str(yr)+\"-01-01\", str(yr)+\"-12-31\", freq=\"D\")]\n",
    "# Get dates and range (Date format is %Y-%m-%d, Range is 1-10 days)\n",
    "dt_rng = []\n",
    "for i in range(0,int(f.roundby(len(dt)/10+0.5,1))):\n",
    "    dt_rng.append([dt[10*i],min(10,len(dt)-10*i)])\n",
    "    i+=1\n",
    "dt_rng[-1]"
   ]
  },
  {
   "cell_type": "code",
   "execution_count": 133,
   "id": "67b7505d-9bdc-44d8-9aca-a976ab298d61",
   "metadata": {},
   "outputs": [],
   "source": [
    "df = pd.DataFrame(columns=['latitude','longitude','bright_ti4','scan','track',\n",
    "                           'acq_date','acq_time','satellite','instrument',\n",
    "                           'confidence','version','bright_ti5','frp','daynight','type'])"
   ]
  },
  {
   "cell_type": "code",
   "execution_count": 134,
   "id": "952ffdfe-055b-4007-8418-8da5ce22d924",
   "metadata": {},
   "outputs": [
    {
     "data": {
      "text/html": [
       "<div>\n",
       "<style scoped>\n",
       "    .dataframe tbody tr th:only-of-type {\n",
       "        vertical-align: middle;\n",
       "    }\n",
       "\n",
       "    .dataframe tbody tr th {\n",
       "        vertical-align: top;\n",
       "    }\n",
       "\n",
       "    .dataframe thead th {\n",
       "        text-align: right;\n",
       "    }\n",
       "</style>\n",
       "<table border=\"1\" class=\"dataframe\">\n",
       "  <thead>\n",
       "    <tr style=\"text-align: right;\">\n",
       "      <th></th>\n",
       "      <th>latitude</th>\n",
       "      <th>longitude</th>\n",
       "      <th>bright_ti4</th>\n",
       "      <th>scan</th>\n",
       "      <th>track</th>\n",
       "      <th>acq_date</th>\n",
       "      <th>acq_time</th>\n",
       "      <th>satellite</th>\n",
       "      <th>instrument</th>\n",
       "      <th>confidence</th>\n",
       "      <th>version</th>\n",
       "      <th>bright_ti5</th>\n",
       "      <th>frp</th>\n",
       "      <th>daynight</th>\n",
       "      <th>type</th>\n",
       "    </tr>\n",
       "  </thead>\n",
       "  <tbody>\n",
       "    <tr>\n",
       "      <th>156</th>\n",
       "      <td>38.02411</td>\n",
       "      <td>-122.06400</td>\n",
       "      <td>295.19</td>\n",
       "      <td>0.43</td>\n",
       "      <td>0.62</td>\n",
       "      <td>2013-12-31</td>\n",
       "      <td>1054</td>\n",
       "      <td>N</td>\n",
       "      <td>VIIRS</td>\n",
       "      <td>n</td>\n",
       "      <td>2</td>\n",
       "      <td>280.21</td>\n",
       "      <td>1.62</td>\n",
       "      <td>N</td>\n",
       "      <td>2</td>\n",
       "    </tr>\n",
       "    <tr>\n",
       "      <th>157</th>\n",
       "      <td>34.13628</td>\n",
       "      <td>-117.31633</td>\n",
       "      <td>332.08</td>\n",
       "      <td>0.50</td>\n",
       "      <td>0.41</td>\n",
       "      <td>2013-12-31</td>\n",
       "      <td>2034</td>\n",
       "      <td>N</td>\n",
       "      <td>VIIRS</td>\n",
       "      <td>n</td>\n",
       "      <td>2</td>\n",
       "      <td>298.96</td>\n",
       "      <td>3.76</td>\n",
       "      <td>D</td>\n",
       "      <td>0</td>\n",
       "    </tr>\n",
       "    <tr>\n",
       "      <th>158</th>\n",
       "      <td>35.90739</td>\n",
       "      <td>-114.94786</td>\n",
       "      <td>335.33</td>\n",
       "      <td>0.40</td>\n",
       "      <td>0.37</td>\n",
       "      <td>2013-12-31</td>\n",
       "      <td>2034</td>\n",
       "      <td>N</td>\n",
       "      <td>VIIRS</td>\n",
       "      <td>n</td>\n",
       "      <td>2</td>\n",
       "      <td>292.36</td>\n",
       "      <td>1.80</td>\n",
       "      <td>D</td>\n",
       "      <td>0</td>\n",
       "    </tr>\n",
       "    <tr>\n",
       "      <th>159</th>\n",
       "      <td>39.54564</td>\n",
       "      <td>-115.92485</td>\n",
       "      <td>327.63</td>\n",
       "      <td>0.39</td>\n",
       "      <td>0.37</td>\n",
       "      <td>2013-12-31</td>\n",
       "      <td>2035</td>\n",
       "      <td>N</td>\n",
       "      <td>VIIRS</td>\n",
       "      <td>n</td>\n",
       "      <td>2</td>\n",
       "      <td>278.99</td>\n",
       "      <td>2.22</td>\n",
       "      <td>D</td>\n",
       "      <td>0</td>\n",
       "    </tr>\n",
       "    <tr>\n",
       "      <th>160</th>\n",
       "      <td>41.49223</td>\n",
       "      <td>-120.70424</td>\n",
       "      <td>335.90</td>\n",
       "      <td>0.52</td>\n",
       "      <td>0.42</td>\n",
       "      <td>2013-12-31</td>\n",
       "      <td>2036</td>\n",
       "      <td>N</td>\n",
       "      <td>VIIRS</td>\n",
       "      <td>n</td>\n",
       "      <td>2</td>\n",
       "      <td>286.09</td>\n",
       "      <td>7.42</td>\n",
       "      <td>D</td>\n",
       "      <td>0</td>\n",
       "    </tr>\n",
       "  </tbody>\n",
       "</table>\n",
       "</div>"
      ],
      "text/plain": [
       "     latitude  longitude  bright_ti4  scan  track    acq_date  acq_time  \\\n",
       "156  38.02411 -122.06400      295.19  0.43   0.62  2013-12-31      1054   \n",
       "157  34.13628 -117.31633      332.08  0.50   0.41  2013-12-31      2034   \n",
       "158  35.90739 -114.94786      335.33  0.40   0.37  2013-12-31      2034   \n",
       "159  39.54564 -115.92485      327.63  0.39   0.37  2013-12-31      2035   \n",
       "160  41.49223 -120.70424      335.90  0.52   0.42  2013-12-31      2036   \n",
       "\n",
       "    satellite instrument confidence  version  bright_ti5   frp daynight  type  \n",
       "156         N      VIIRS          n        2      280.21  1.62        N     2  \n",
       "157         N      VIIRS          n        2      298.96  3.76        D     0  \n",
       "158         N      VIIRS          n        2      292.36  1.80        D     0  \n",
       "159         N      VIIRS          n        2      278.99  2.22        D     0  \n",
       "160         N      VIIRS          n        2      286.09  7.42        D     0  "
      ]
     },
     "execution_count": 134,
     "metadata": {},
     "output_type": "execute_result"
    }
   ],
   "source": [
    "for dr in dt_rng:\n",
    "    if dr == dt_rng[0]:\n",
    "        df = pd.read_csv(f'../outputs/nasa-firms/{yr}/{dr[0]}_{dr[1]}.csv').drop(columns=['Unnamed: 0'])\n",
    "    else:\n",
    "        df = pd.concat([df,pd.read_csv(f'../outputs/nasa-firms/{yr}/{dr[0]}_{dr[1]}.csv').drop(columns=['Unnamed: 0'])])\n",
    "df = df.loc[df['confidence']!='l']\n",
    "df.tail()"
   ]
  },
  {
   "cell_type": "code",
   "execution_count": 135,
   "id": "5c4df97e-f114-4c62-9e45-dc90c2790a28",
   "metadata": {},
   "outputs": [
    {
     "data": {
      "text/plain": [
       "array([2, 0, 3], dtype=int64)"
      ]
     },
     "execution_count": 135,
     "metadata": {},
     "output_type": "execute_result"
    }
   ],
   "source": [
    "df['type'].unique()"
   ]
  },
  {
   "cell_type": "code",
   "execution_count": 136,
   "id": "0418e9ca-90df-42ac-aa82-367ae3bf1f42",
   "metadata": {},
   "outputs": [],
   "source": [
    "df = df.loc[df['type']!=3]"
   ]
  },
  {
   "cell_type": "code",
   "execution_count": 137,
   "id": "116573ff-1628-4b11-a30b-844a26be61c4",
   "metadata": {},
   "outputs": [],
   "source": [
    "df.to_csv(f'../outputs/nasa-firms/{yr}.csv',index=False)"
   ]
  },
  {
   "cell_type": "code",
   "execution_count": null,
   "id": "fa96f198-9f00-4280-adcf-2cf8edc1d642",
   "metadata": {},
   "outputs": [],
   "source": []
  }
 ],
 "metadata": {
  "kernelspec": {
   "display_name": "Python 3 (ipykernel)",
   "language": "python",
   "name": "python3"
  },
  "language_info": {
   "codemirror_mode": {
    "name": "ipython",
    "version": 3
   },
   "file_extension": ".py",
   "mimetype": "text/x-python",
   "name": "python",
   "nbconvert_exporter": "python",
   "pygments_lexer": "ipython3",
   "version": "3.10.14"
  }
 },
 "nbformat": 4,
 "nbformat_minor": 5
}
