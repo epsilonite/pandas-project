{
 "cells": [
  {
   "cell_type": "code",
   "execution_count": 11,
   "id": "f532c527-4a79-4474-bb34-3e8274f94368",
   "metadata": {},
   "outputs": [],
   "source": [
    "# Dependencies\n",
    "import matplotlib.pyplot as plt\n",
    "import requests\n",
    "import pandas as pd\n",
    "from api_key import openweather_key"
   ]
  },
  {
   "cell_type": "code",
   "execution_count": 8,
   "id": "eb260ed6-9e8e-439e-96b8-8a8f2a98af12",
   "metadata": {},
   "outputs": [
    {
     "data": {
      "text/plain": [
       "{'errorCode': 400,\n",
       " 'errorMessage': 'Bad Request',\n",
       " 'errors': [{'field': 'stations',\n",
       "   'message': 'A station is required.',\n",
       "   'value': None}]}"
      ]
     },
     "execution_count": 8,
     "metadata": {},
     "output_type": "execute_result"
    }
   ],
   "source": [
    "# Save config information.\n",
    "url = \"https://www.ncei.noaa.gov/access/services/data/v1?format=json\"\n",
    "# url='https://www.ncei.noaa.gov/cdo-web/api/v2/datasets'\n",
    "# Build partial query URL\n",
    "dataset='daily-summaries'\n",
    "# dataTypes=DP01,DP05,DP10,DSND,DSNW,DT00,DT32,DX32,DX70,DX90,SNOW,PRCP&\n",
    "stations='ASN00084027'\n",
    "startDate='2023-01-01'\n",
    "endDate='2023-12-31'\n",
    "# includeAttributes=true&\n",
    "# &units=metric\n",
    "bbox='49.795,-2.073,49.183,-0.992'\n",
    "\n",
    "query_url = f\"{url}&startDate={startDate}&endDate={endDate}&dataset={dataset}\"\n",
    "stations={stations}\n",
    "# query_url = f\"{url}\"\n",
    "response = requests.get(query_url).json()\n",
    "response"
   ]
  },
  {
   "cell_type": "code",
   "execution_count": null,
   "id": "f5fd5e5f-5341-4b18-a970-7dffcfb3cea8",
   "metadata": {},
   "outputs": [],
   "source": []
  }
 ],
 "metadata": {
  "kernelspec": {
   "display_name": "Python 3 (ipykernel)",
   "language": "python",
   "name": "python3"
  },
  "language_info": {
   "codemirror_mode": {
    "name": "ipython",
    "version": 3
   },
   "file_extension": ".py",
   "mimetype": "text/x-python",
   "name": "python",
   "nbconvert_exporter": "python",
   "pygments_lexer": "ipython3",
   "version": "3.10.14"
  }
 },
 "nbformat": 4,
 "nbformat_minor": 5
}
