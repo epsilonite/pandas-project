{
 "cells": [
  {
   "cell_type": "code",
   "execution_count": 38,
   "id": "f902b8d1-2e79-4fdb-8acf-2e2c0eb9dc7e",
   "metadata": {},
   "outputs": [],
   "source": [
    "# Dependencies\n",
    "import requests\n",
    "import pandas as pd\n",
    "import os"
   ]
  },
  {
   "cell_type": "markdown",
   "id": "b52ea156-a319-4b10-a9c6-960745de0e3d",
   "metadata": {},
   "source": [
    "## API Request\n",
    "---\n",
    "Set API variables and retrieve json"
   ]
  },
  {
   "cell_type": "code",
   "execution_count": 39,
   "id": "ff578b29-9363-4c90-a7b0-d206c7296304",
   "metadata": {},
   "outputs": [
    {
     "data": {
      "text/plain": [
       "<Response [200]>"
      ]
     },
     "execution_count": 39,
     "metadata": {},
     "output_type": "execute_result"
    }
   ],
   "source": [
    "# Save config information.\n",
    "url = \"https://data.ca.gov/api/3/action/datastore_search?resource_id=d73ee828-c2c6-485c-91dc-c26bd9ce3991&\"\n",
    "# Build partial query URL\n",
    "limit = 1000\n",
    "year = 2013\n",
    "query_url = f\"{url}&limit={limit}&q={year}\"\n",
    "response = requests.get(query_url)\n",
    "response"
   ]
  },
  {
   "cell_type": "markdown",
   "id": "9d86d403-33ce-4787-b2ff-374a34171f7b",
   "metadata": {},
   "source": [
    "## Parse Data\n",
    "---\n",
    "Store response in a dataframe then reduce data set by removing irrelevant data and invalid data"
   ]
  },
  {
   "cell_type": "code",
   "execution_count": 40,
   "id": "822b6d03-1879-48f4-9b4e-0d00d1fc1316",
   "metadata": {},
   "outputs": [
    {
     "data": {
      "text/html": [
       "<div>\n",
       "<style scoped>\n",
       "    .dataframe tbody tr th:only-of-type {\n",
       "        vertical-align: middle;\n",
       "    }\n",
       "\n",
       "    .dataframe tbody tr th {\n",
       "        vertical-align: top;\n",
       "    }\n",
       "\n",
       "    .dataframe thead th {\n",
       "        text-align: right;\n",
       "    }\n",
       "</style>\n",
       "<table border=\"1\" class=\"dataframe\">\n",
       "  <thead>\n",
       "    <tr style=\"text-align: right;\">\n",
       "      <th></th>\n",
       "      <th>Year</th>\n",
       "      <th>Alarm Date</th>\n",
       "      <th>Containment Date</th>\n",
       "      <th>Cause</th>\n",
       "      <th>GIS Calculated Acres</th>\n",
       "    </tr>\n",
       "  </thead>\n",
       "  <tbody>\n",
       "    <tr>\n",
       "      <th>299</th>\n",
       "      <td>2013</td>\n",
       "      <td>8/1/2013 12:00:00 AM</td>\n",
       "      <td>8/10/2013 12:00:00 AM</td>\n",
       "      <td>9</td>\n",
       "      <td>69.25648</td>\n",
       "    </tr>\n",
       "  </tbody>\n",
       "</table>\n",
       "</div>"
      ],
      "text/plain": [
       "     Year            Alarm Date       Containment Date Cause  \\\n",
       "299  2013  8/1/2013 12:00:00 AM  8/10/2013 12:00:00 AM     9   \n",
       "\n",
       "    GIS Calculated Acres  \n",
       "299             69.25648  "
      ]
     },
     "execution_count": 40,
     "metadata": {},
     "output_type": "execute_result"
    }
   ],
   "source": [
    "# Parse API reponse and create dataframe\n",
    "df = pd.DataFrame(response.json()['result']['records'])\n",
    "# Filter data by year\n",
    "yrdf = df.loc[df['Year'] == f'{str(year)}']\n",
    "# Filter data and cull unnecessary data\n",
    "columns_to_keep = ['Year', 'Alarm Date','Containment Date','Cause','GIS Calculated Acres']\n",
    "columns_to_drop = [col for col in yrdf.columns if col not in columns_to_keep]\n",
    "yrdf = yrdf.drop(columns=columns_to_drop)\n",
    "# Remove invalid data entries\n",
    "yrdf = yrdf.dropna (subset = [\"Containment Date\"])\n",
    "yrdf.tail(1)"
   ]
  },
  {
   "cell_type": "markdown",
   "id": "1d1c0969-e0a3-4137-98a3-ccb36167b185",
   "metadata": {},
   "source": [
    "## Reformat Data\n",
    "---\n",
    "### Refactor Cause Number to Words\n",
    "Adjust date entries for greater legibility"
   ]
  },
  {
   "cell_type": "code",
   "execution_count": 41,
   "id": "d3820efe-3859-4685-8848-35299974ddd7",
   "metadata": {},
   "outputs": [
    {
     "data": {
      "text/html": [
       "<div>\n",
       "<style scoped>\n",
       "    .dataframe tbody tr th:only-of-type {\n",
       "        vertical-align: middle;\n",
       "    }\n",
       "\n",
       "    .dataframe tbody tr th {\n",
       "        vertical-align: top;\n",
       "    }\n",
       "\n",
       "    .dataframe thead th {\n",
       "        text-align: right;\n",
       "    }\n",
       "</style>\n",
       "<table border=\"1\" class=\"dataframe\">\n",
       "  <thead>\n",
       "    <tr style=\"text-align: right;\">\n",
       "      <th></th>\n",
       "      <th>Year</th>\n",
       "      <th>Alarm Date</th>\n",
       "      <th>Containment Date</th>\n",
       "      <th>Cause #</th>\n",
       "      <th>GIS Calculated Acres</th>\n",
       "      <th>Cause</th>\n",
       "    </tr>\n",
       "  </thead>\n",
       "  <tbody>\n",
       "    <tr>\n",
       "      <th>299</th>\n",
       "      <td>2013</td>\n",
       "      <td>8/1/2013 12:00:00 AM</td>\n",
       "      <td>8/10/2013 12:00:00 AM</td>\n",
       "      <td>9</td>\n",
       "      <td>69.25648</td>\n",
       "      <td>Miscellaneous</td>\n",
       "    </tr>\n",
       "  </tbody>\n",
       "</table>\n",
       "</div>"
      ],
      "text/plain": [
       "     Year            Alarm Date       Containment Date  Cause #  \\\n",
       "299  2013  8/1/2013 12:00:00 AM  8/10/2013 12:00:00 AM        9   \n",
       "\n",
       "    GIS Calculated Acres          Cause  \n",
       "299             69.25648  Miscellaneous  "
      ]
     },
     "execution_count": 41,
     "metadata": {},
     "output_type": "execute_result"
    }
   ],
   "source": [
    "yrdf = yrdf.rename(columns={'Cause': 'Cause #'})\n",
    "yrdf['Cause'] = ''\n",
    "yrdf['Cause #'] = yrdf['Cause #'].astype(int)\n",
    "def map_cause_to_meaning(i):\n",
    "    if i == 1:\n",
    "        return 'Lightning'\n",
    "    elif i == 2:\n",
    "        return 'Equipment Use'\n",
    "    elif i == 3:\n",
    "        return 'Smoking'\n",
    "    elif i == 4:\n",
    "        return 'Campfire'\n",
    "    elif i == 5:\n",
    "        return 'Debris'\n",
    "    elif i == 6:\n",
    "        return 'Railroad'\n",
    "    elif i == 7:\n",
    "        return 'Arson'\n",
    "    elif i == 8:\n",
    "        return 'Playing with fire'\n",
    "    elif i == 9:\n",
    "        return 'Miscellaneous'\n",
    "    elif i == 10:\n",
    "        return 'Vehicle'\n",
    "    elif i == 11:\n",
    "        return 'Powerline'\n",
    "    elif i == 12:\n",
    "        return 'Firefighter Training'\n",
    "    elif i == 13:\n",
    "        return 'Non-Firefighter Training'\n",
    "    elif i == 14:\n",
    "        return 'Unknown / Unidentified'\n",
    "    elif i == 15:\n",
    "        return 'Structure'\n",
    "    elif i == 16:\n",
    "        return 'Aircraft'\n",
    "    elif i == 18:\n",
    "        return 'Escaped Prescribed Burn'\n",
    "    elif i == 19:\n",
    "        return 'Illegal Alien Campfire'\n",
    "    else:\n",
    "        return 'N/A'\n",
    "yrdf['Cause'] = yrdf['Cause #'].apply(map_cause_to_meaning)\n",
    "yrdf.tail(1)"
   ]
  },
  {
   "cell_type": "markdown",
   "id": "5ddf559e-db6d-4d4c-8eb7-87d45b1e6414",
   "metadata": {},
   "source": [
    "### Reformat Date\n",
    "Change formating of date to more accessible format"
   ]
  },
  {
   "cell_type": "code",
   "execution_count": 42,
   "id": "ccd501af-a3b5-4cef-842a-d4ac20b838cf",
   "metadata": {},
   "outputs": [
    {
     "data": {
      "text/html": [
       "<div>\n",
       "<style scoped>\n",
       "    .dataframe tbody tr th:only-of-type {\n",
       "        vertical-align: middle;\n",
       "    }\n",
       "\n",
       "    .dataframe tbody tr th {\n",
       "        vertical-align: top;\n",
       "    }\n",
       "\n",
       "    .dataframe thead th {\n",
       "        text-align: right;\n",
       "    }\n",
       "</style>\n",
       "<table border=\"1\" class=\"dataframe\">\n",
       "  <thead>\n",
       "    <tr style=\"text-align: right;\">\n",
       "      <th></th>\n",
       "      <th>Year</th>\n",
       "      <th>Alarm Date</th>\n",
       "      <th>Containment Date</th>\n",
       "      <th>Cause #</th>\n",
       "      <th>GIS Calculated Acres</th>\n",
       "      <th>Cause</th>\n",
       "    </tr>\n",
       "  </thead>\n",
       "  <tbody>\n",
       "    <tr>\n",
       "      <th>299</th>\n",
       "      <td>2013</td>\n",
       "      <td>8/1/2013</td>\n",
       "      <td>8/10/2013</td>\n",
       "      <td>9</td>\n",
       "      <td>69.25648</td>\n",
       "      <td>Miscellaneous</td>\n",
       "    </tr>\n",
       "  </tbody>\n",
       "</table>\n",
       "</div>"
      ],
      "text/plain": [
       "     Year Alarm Date Containment Date  Cause # GIS Calculated Acres  \\\n",
       "299  2013   8/1/2013        8/10/2013        9             69.25648   \n",
       "\n",
       "             Cause  \n",
       "299  Miscellaneous  "
      ]
     },
     "execution_count": 42,
     "metadata": {},
     "output_type": "execute_result"
    }
   ],
   "source": [
    "# Strip date and time data to date\n",
    "yrdf['Alarm Date'] = [dt.replace(' 12:00:00 AM', '') for dt in yrdf['Alarm Date']]\n",
    "yrdf['Containment Date'] = [str(item) for item in yrdf['Containment Date']]\n",
    "yrdf['Containment Date'] = [dt.replace(' 12:00:00 AM', '') for dt in yrdf['Containment Date']]\n",
    "yrdf.tail(1)"
   ]
  },
  {
   "cell_type": "code",
   "execution_count": 33,
   "id": "1596a21d-e492-495e-ac76-28cbb68a3431",
   "metadata": {},
   "outputs": [
    {
     "name": "stdout",
     "output_type": "stream",
     "text": [
      "Empty DataFrame\n",
      "Columns: [Year, Alarm Date, Containment Date, Cause #, GIS Calculated Acres, Cause]\n",
      "Index: []\n"
     ]
    },
    {
     "data": {
      "text/html": [
       "<div>\n",
       "<style scoped>\n",
       "    .dataframe tbody tr th:only-of-type {\n",
       "        vertical-align: middle;\n",
       "    }\n",
       "\n",
       "    .dataframe tbody tr th {\n",
       "        vertical-align: top;\n",
       "    }\n",
       "\n",
       "    .dataframe thead th {\n",
       "        text-align: right;\n",
       "    }\n",
       "</style>\n",
       "<table border=\"1\" class=\"dataframe\">\n",
       "  <thead>\n",
       "    <tr style=\"text-align: right;\">\n",
       "      <th></th>\n",
       "      <th>index</th>\n",
       "      <th>Year</th>\n",
       "      <th>Alarm Date</th>\n",
       "      <th>Containment Date</th>\n",
       "      <th>Cause #</th>\n",
       "      <th>GIS Calculated Acres</th>\n",
       "      <th>Cause</th>\n",
       "    </tr>\n",
       "  </thead>\n",
       "  <tbody>\n",
       "    <tr>\n",
       "      <th>295</th>\n",
       "      <td>100</td>\n",
       "      <td>2013</td>\n",
       "      <td>2013-12-29</td>\n",
       "      <td>2013-12-29</td>\n",
       "      <td>14</td>\n",
       "      <td>12.89286</td>\n",
       "      <td>Unknown / Unidentified</td>\n",
       "    </tr>\n",
       "  </tbody>\n",
       "</table>\n",
       "</div>"
      ],
      "text/plain": [
       "     index  Year Alarm Date Containment Date  Cause # GIS Calculated Acres  \\\n",
       "295    100  2013 2013-12-29       2013-12-29       14             12.89286   \n",
       "\n",
       "                      Cause  \n",
       "295  Unknown / Unidentified  "
      ]
     },
     "execution_count": 33,
     "metadata": {},
     "output_type": "execute_result"
    }
   ],
   "source": [
    "# Attempt to convert 'Alarm Date' to datetime, coercing errors\n",
    "yrdf['Alarm Date'] = pd.to_datetime(yrdf['Alarm Date'], errors='coerce')\n",
    "\n",
    "# Display rows with invalid dates\n",
    "invalid_dates = yrdf[yrdf['Alarm Date'].isna()]\n",
    "print(invalid_dates)\n",
    "\n",
    "# Drop rows where 'Alarm Date' is in 2017\n",
    "yrdf = yrdf[yrdf['Alarm Date'].dt.year != 2001]\n",
    "\n",
    "# Continue with the processing\n",
    "df_byalarm = yrdf.sort_values(by='Alarm Date').reset_index()\n",
    "df_byalarm.tail(1)"
   ]
  },
  {
   "cell_type": "code",
   "execution_count": 30,
   "id": "1c8c9b35-bafc-4839-b56c-299477cf8a8e",
   "metadata": {},
   "outputs": [
    {
     "data": {
      "text/plain": [
       "Timestamp('2013-01-22 00:00:00')"
      ]
     },
     "execution_count": 30,
     "metadata": {},
     "output_type": "execute_result"
    }
   ],
   "source": [
    "earliest_fire = df_byalarm['Alarm Date'][0]\n",
    "earliest_fire"
   ]
  },
  {
   "cell_type": "code",
   "execution_count": 34,
   "id": "a3ff490e-0e7b-4c7f-a103-88cdc4390b98",
   "metadata": {},
   "outputs": [
    {
     "data": {
      "text/html": [
       "<div>\n",
       "<style scoped>\n",
       "    .dataframe tbody tr th:only-of-type {\n",
       "        vertical-align: middle;\n",
       "    }\n",
       "\n",
       "    .dataframe tbody tr th {\n",
       "        vertical-align: top;\n",
       "    }\n",
       "\n",
       "    .dataframe thead th {\n",
       "        text-align: right;\n",
       "    }\n",
       "</style>\n",
       "<table border=\"1\" class=\"dataframe\">\n",
       "  <thead>\n",
       "    <tr style=\"text-align: right;\">\n",
       "      <th></th>\n",
       "      <th>Year</th>\n",
       "      <th>Alarm Date</th>\n",
       "      <th>Containment Date</th>\n",
       "      <th>Cause #</th>\n",
       "      <th>GIS Calculated Acres</th>\n",
       "      <th>Cause</th>\n",
       "    </tr>\n",
       "  </thead>\n",
       "  <tbody>\n",
       "    <tr>\n",
       "      <th>295</th>\n",
       "      <td>2013</td>\n",
       "      <td>2013-01-22</td>\n",
       "      <td>2013-01-24</td>\n",
       "      <td>5</td>\n",
       "      <td>318.5916</td>\n",
       "      <td>Debris</td>\n",
       "    </tr>\n",
       "  </tbody>\n",
       "</table>\n",
       "</div>"
      ],
      "text/plain": [
       "     Year Alarm Date Containment Date  Cause # GIS Calculated Acres   Cause\n",
       "295  2013 2013-01-22       2013-01-24        5             318.5916  Debris"
      ]
     },
     "execution_count": 34,
     "metadata": {},
     "output_type": "execute_result"
    }
   ],
   "source": [
    "# Convert 'Containment Date' to datetime, coercing errors\n",
    "yrdf['Containment Date'] = pd.to_datetime(yrdf['Containment Date'], errors='coerce')\n",
    "\n",
    "# Drop rows with invalid 'Containment Date'\n",
    "yrdf_filtered = yrdf.dropna(subset=['Containment Date'])\n",
    "\n",
    "# Now you can sort and process the DataFrame as needed\n",
    "df_bycontainment = yrdf_filtered.sort_values(by='Containment Date', ascending=False).reset_index(drop=True)\n",
    "latest_containment = df_bycontainment['Containment Date'].iloc[0]\n",
    "\n",
    "df_bycontainment.tail(1)"
   ]
  },
  {
   "cell_type": "code",
   "execution_count": 32,
   "id": "6d44fcb3-b7fc-4b55-a95e-9d546bfa9c8d",
   "metadata": {},
   "outputs": [
    {
     "data": {
      "text/plain": [
       "Timestamp('2013-12-29 00:00:00')"
      ]
     },
     "execution_count": 32,
     "metadata": {},
     "output_type": "execute_result"
    }
   ],
   "source": [
    "latest_containment"
   ]
  },
  {
   "cell_type": "markdown",
   "id": "f1f6d074-f3f2-4823-a3f4-3f8dfaa409e9",
   "metadata": {},
   "source": [
    "## Export Data as `csv`\n",
    "---"
   ]
  },
  {
   "cell_type": "code",
   "execution_count": 6,
   "id": "2bfe909d-cfc0-449e-841e-887ed994d01a",
   "metadata": {},
   "outputs": [],
   "source": [
    "yrdf.to_csv(f\"outputs/fires_{year}.csv\",\n",
    "                  encoding=\"utf-8\", index=False, header=True)"
   ]
  },
  {
   "cell_type": "code",
   "execution_count": 12,
   "id": "54f6447d-d2f9-4871-9302-259d29e73e10",
   "metadata": {},
   "outputs": [],
   "source": [
    "output_path = os.path.join(\"outputs\", \"timeline_dates_2013.csv\")\n",
    "with open(output_path, 'w') as csvfile:\n",
    "\n",
    "    # Initialize csv.writer\n",
    "    csvwriter = csv.writer(csvfile, delimiter=',')\n",
    "\n",
    "    # Write the first row (column headers)\n",
    "    csvwriter.writerow(['Title', 'Date'])\n",
    "    csvwriter.writerow(['Earliest Fire', earliest_fire])\n",
    "\n",
    "    # Write the second row\n",
    "    csvwriter.writerow(['Latest Containment', latest_containment])"
   ]
  },
  {
   "cell_type": "code",
   "execution_count": null,
   "id": "d4262109-2565-4bab-ac81-d8257bf9d099",
   "metadata": {},
   "outputs": [],
   "source": []
  }
 ],
 "metadata": {
  "kernelspec": {
   "display_name": "Python 3 (ipykernel)",
   "language": "python",
   "name": "python3"
  },
  "language_info": {
   "codemirror_mode": {
    "name": "ipython",
    "version": 3
   },
   "file_extension": ".py",
   "mimetype": "text/x-python",
   "name": "python",
   "nbconvert_exporter": "python",
   "pygments_lexer": "ipython3",
   "version": "3.10.14"
  }
 },
 "nbformat": 4,
 "nbformat_minor": 5
}
