{
 "cells": [
  {
   "cell_type": "code",
   "execution_count": 1,
   "id": "f902b8d1-2e79-4fdb-8acf-2e2c0eb9dc7e",
   "metadata": {},
   "outputs": [],
   "source": [
    "import pandas as pd\n",
    "import geopandas as gpd\n",
    "import matplotlib.pyplot as plt"
   ]
  },
  {
   "cell_type": "code",
   "execution_count": 4,
   "id": "ff578b29-9363-4c90-a7b0-d206c7296304",
   "metadata": {},
   "outputs": [
    {
     "data": {
      "text/html": [
       "<div>\n",
       "<style scoped>\n",
       "    .dataframe tbody tr th:only-of-type {\n",
       "        vertical-align: middle;\n",
       "    }\n",
       "\n",
       "    .dataframe tbody tr th {\n",
       "        vertical-align: top;\n",
       "    }\n",
       "\n",
       "    .dataframe thead th {\n",
       "        text-align: right;\n",
       "    }\n",
       "</style>\n",
       "<table border=\"1\" class=\"dataframe\">\n",
       "  <thead>\n",
       "    <tr style=\"text-align: right;\">\n",
       "      <th></th>\n",
       "      <th>ALARM_DATE</th>\n",
       "      <th>CONT_DATE</th>\n",
       "      <th>CAUSE_ID</th>\n",
       "      <th>CAUSE</th>\n",
       "      <th>GIS_ACRES</th>\n",
       "      <th>AGENCY</th>\n",
       "      <th>FIRE_NAME</th>\n",
       "      <th>geometry</th>\n",
       "    </tr>\n",
       "  </thead>\n",
       "  <tbody>\n",
       "    <tr>\n",
       "      <th>0</th>\n",
       "      <td>2019-10-31</td>\n",
       "      <td>2019-11-05</td>\n",
       "      <td>14</td>\n",
       "      <td>Unknown/Unidentified</td>\n",
       "      <td>10042.46000</td>\n",
       "      <td>CCO</td>\n",
       "      <td>MARIA</td>\n",
       "      <td>POLYGON ((-119.09030 34.29420, -119.09030 34.2...</td>\n",
       "    </tr>\n",
       "    <tr>\n",
       "      <th>1</th>\n",
       "      <td>2019-10-30</td>\n",
       "      <td>2019-11-13</td>\n",
       "      <td>14</td>\n",
       "      <td>Unknown/Unidentified</td>\n",
       "      <td>1806.23400</td>\n",
       "      <td>CCO</td>\n",
       "      <td>EASY</td>\n",
       "      <td>MULTIPOLYGON (((-118.83266 34.26544, -118.8326...</td>\n",
       "    </tr>\n",
       "    <tr>\n",
       "      <th>2</th>\n",
       "      <td>2019-10-11</td>\n",
       "      <td>2019-10-13</td>\n",
       "      <td>14</td>\n",
       "      <td>Unknown/Unidentified</td>\n",
       "      <td>171.41830</td>\n",
       "      <td>CCO</td>\n",
       "      <td>OLIVAS</td>\n",
       "      <td>MULTIPOLYGON (((-119.21632 34.23206, -119.2164...</td>\n",
       "    </tr>\n",
       "    <tr>\n",
       "      <th>3</th>\n",
       "      <td>2019-07-14</td>\n",
       "      <td>2019-07-15</td>\n",
       "      <td>14</td>\n",
       "      <td>Unknown/Unidentified</td>\n",
       "      <td>131.31720</td>\n",
       "      <td>CCO</td>\n",
       "      <td>SOUTH</td>\n",
       "      <td>POLYGON ((-118.97322 34.35087, -118.97288 34.3...</td>\n",
       "    </tr>\n",
       "    <tr>\n",
       "      <th>4</th>\n",
       "      <td>2019-07-26</td>\n",
       "      <td>2019-07-27</td>\n",
       "      <td>14</td>\n",
       "      <td>Unknown/Unidentified</td>\n",
       "      <td>11.11976</td>\n",
       "      <td>CCO</td>\n",
       "      <td>POTRERO</td>\n",
       "      <td>POLYGON ((-118.93609 34.15526, -118.93609 34.1...</td>\n",
       "    </tr>\n",
       "  </tbody>\n",
       "</table>\n",
       "</div>"
      ],
      "text/plain": [
       "   ALARM_DATE   CONT_DATE  CAUSE_ID                 CAUSE    GIS_ACRES AGENCY  \\\n",
       "0  2019-10-31  2019-11-05        14  Unknown/Unidentified  10042.46000    CCO   \n",
       "1  2019-10-30  2019-11-13        14  Unknown/Unidentified   1806.23400    CCO   \n",
       "2  2019-10-11  2019-10-13        14  Unknown/Unidentified    171.41830    CCO   \n",
       "3  2019-07-14  2019-07-15        14  Unknown/Unidentified    131.31720    CCO   \n",
       "4  2019-07-26  2019-07-27        14  Unknown/Unidentified     11.11976    CCO   \n",
       "\n",
       "  FIRE_NAME                                           geometry  \n",
       "0     MARIA  POLYGON ((-119.09030 34.29420, -119.09030 34.2...  \n",
       "1      EASY  MULTIPOLYGON (((-118.83266 34.26544, -118.8326...  \n",
       "2    OLIVAS  MULTIPOLYGON (((-119.21632 34.23206, -119.2164...  \n",
       "3     SOUTH  POLYGON ((-118.97322 34.35087, -118.97288 34.3...  \n",
       "4   POTRERO  POLYGON ((-118.93609 34.15526, -118.93609 34.1...  "
      ]
     },
     "execution_count": 4,
     "metadata": {},
     "output_type": "execute_result"
    }
   ],
   "source": [
    "yr = 2019\n",
    "fire_gdf = gpd.read_file(f'../outputs/geojson/clean/ca_fire_{yr}.geojson').set_crs(4326)\n",
    "fire_gdf.head()"
   ]
  },
  {
   "cell_type": "code",
   "execution_count": null,
   "id": "822b6d03-1879-48f4-9b4e-0d00d1fc1316",
   "metadata": {},
   "outputs": [],
   "source": []
  }
 ],
 "metadata": {
  "kernelspec": {
   "display_name": "Python 3 (ipykernel)",
   "language": "python",
   "name": "python3"
  },
  "language_info": {
   "codemirror_mode": {
    "name": "ipython",
    "version": 3
   },
   "file_extension": ".py",
   "mimetype": "text/x-python",
   "name": "python",
   "nbconvert_exporter": "python",
   "pygments_lexer": "ipython3",
   "version": "3.10.14"
  }
 },
 "nbformat": 4,
 "nbformat_minor": 5
}
