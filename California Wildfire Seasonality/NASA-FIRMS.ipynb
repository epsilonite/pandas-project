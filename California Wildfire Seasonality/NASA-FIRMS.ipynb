{
 "cells": [
  {
   "cell_type": "code",
   "execution_count": 9,
   "id": "23bfe8f6-538d-4952-bcf1-511b79f435df",
   "metadata": {},
   "outputs": [],
   "source": [
    "# Dependencies\n",
    "import matplotlib.pyplot as plt\n",
    "import pandas as pd\n",
    "import hvplot.pandas\n",
    "import geopandas as gpd\n",
    "import xarray as xr\n",
    "from datetime import datetime\n",
    "from api_key import nasa_key\n",
    "import netCDF4"
   ]
  },
  {
   "cell_type": "code",
   "execution_count": 5,
   "id": "bce35d55-17bc-4109-be46-74816a7d6ea6",
   "metadata": {},
   "outputs": [
    {
     "data": {
      "text/plain": [
       "(-124.482003000119, 32.5288320002052, -114.131210999644, 42.0095030001829)"
      ]
     },
     "execution_count": 5,
     "metadata": {},
     "output_type": "execute_result"
    }
   ],
   "source": [
    "# get CA boundaries\n",
    "us = gpd.read_file('Resources/us-state-boundaries.geojson')\n",
    "ca = us[us['basename']=='California']\n",
    "ca['geometry'][54].bounds"
   ]
  },
  {
   "cell_type": "code",
   "execution_count": null,
   "id": "b438cf90-4b1c-47f7-9ab6-4958788dc341",
   "metadata": {},
   "outputs": [],
   "source": [
    "# NASA FIRMS API\n",
    "base_url='https://firms.modaps.eosdis.nasa.gov/api/area/csv/'\n",
    "# MODIS_SP (MODIS Standard Processing)\n",
    "# VIIRS_SNPP_SP (VIIRS Suomi-NPP Standard Processing)\n",
    "model = 'VIIRS_SNPP_SP'\n",
    "# California BoundingBox(W,S,E,N): -124.482003000119, 32.5288320002052, -114.131210999644, 42.0095030001829\n",
    "bbox = '-125,32,-114,43'\n",
    "# Range is 1-10 days\n",
    "day_range = 10\n",
    "date =\n",
    "csv_url=f'{base_url}{nasa_key}/{model}/{bbox}/{range}/{date}'"
   ]
  },
  {
   "cell_type": "code",
   "execution_count": 12,
   "id": "77f01efa-e503-4c27-a81e-cadddff9f7fd",
   "metadata": {},
   "outputs": [],
   "source": [
    "# Reading a single granule URL:\n",
    "ds = netCDF4.Dataset('resources/3B-DAY-E.MS.MRG.3IMERG.20231201-S000000-E235959.V06.nc4')"
   ]
  },
  {
   "cell_type": "code",
   "execution_count": 14,
   "id": "6ea57a73-c5b1-4612-8edc-f3a2648f9210",
   "metadata": {},
   "outputs": [
    {
     "data": {
      "text/plain": [
       "dict_keys(['precipitationCal', 'precipitationCal_cnt', 'precipitationCal_cnt_cond', 'HQprecipitation', 'HQprecipitation_cnt', 'HQprecipitation_cnt_cond', 'randomError', 'randomError_cnt', 'lon', 'lat', 'time', 'time_bnds'])"
      ]
     },
     "execution_count": 14,
     "metadata": {},
     "output_type": "execute_result"
    }
   ],
   "source": [
    "ds.variables.keys()"
   ]
  },
  {
   "cell_type": "code",
   "execution_count": 19,
   "id": "eb6f59fe-4e0c-4aa0-a305-4f13ded75dab",
   "metadata": {},
   "outputs": [
    {
     "data": {
      "text/plain": [
       "<class 'netCDF4._netCDF4.Variable'>\n",
       "float32 HQprecipitation(time, lon, lat)\n",
       "    units: mm\n",
       "    long_name: Daily accumulated High Quality precipitation from all available MW sources\n",
       "    coordinates: time lon lat\n",
       "    _FillValue: -9999.9\n",
       "unlimited dimensions: \n",
       "current shape = (1, 3600, 1800)\n",
       "filling on"
      ]
     },
     "execution_count": 19,
     "metadata": {},
     "output_type": "execute_result"
    }
   ],
   "source": [
    "ds.variables['HQprecipitation']"
   ]
  },
  {
   "cell_type": "code",
   "execution_count": 17,
   "id": "e953fd0b-f5e7-49b5-8d9c-64966f2f1c74",
   "metadata": {},
   "outputs": [
    {
     "data": {
      "text/plain": [
       "<class 'netCDF4._netCDF4.Variable'>\n",
       "float32 lon(lon)\n",
       "    units: degrees_east\n",
       "    long_name: Longitude\n",
       "unlimited dimensions: \n",
       "current shape = (3600,)\n",
       "filling on, default _FillValue of 9.969209968386869e+36 used"
      ]
     },
     "execution_count": 17,
     "metadata": {},
     "output_type": "execute_result"
    }
   ],
   "source": [
    "ds.variables['lon']"
   ]
  },
  {
   "cell_type": "code",
   "execution_count": null,
   "id": "27f13582-d0aa-4b4e-825b-8be87e154d76",
   "metadata": {},
   "outputs": [],
   "source": []
  }
 ],
 "metadata": {
  "kernelspec": {
   "display_name": "Python 3 (ipykernel)",
   "language": "python",
   "name": "python3"
  },
  "language_info": {
   "codemirror_mode": {
    "name": "ipython",
    "version": 3
   },
   "file_extension": ".py",
   "mimetype": "text/x-python",
   "name": "python",
   "nbconvert_exporter": "python",
   "pygments_lexer": "ipython3",
   "version": "3.10.14"
  }
 },
 "nbformat": 4,
 "nbformat_minor": 5
}
