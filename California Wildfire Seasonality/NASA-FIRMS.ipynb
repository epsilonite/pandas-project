{
 "cells": [
  {
   "cell_type": "code",
   "execution_count": 9,
   "id": "23bfe8f6-538d-4952-bcf1-511b79f435df",
   "metadata": {},
   "outputs": [],
   "source": [
    "# Dependencies\n",
    "import matplotlib.pyplot as plt\n",
    "import pandas as pd\n",
    "import hvplot.pandas\n",
    "import geopandas as gpd\n",
    "import xarray as xr\n",
    "from datetime import datetime\n",
    "from api_key import nasa_key\n",
    "import netCDF4"
   ]
  },
  {
   "cell_type": "code",
   "execution_count": 5,
   "id": "bce35d55-17bc-4109-be46-74816a7d6ea6",
   "metadata": {},
   "outputs": [
    {
     "data": {
      "text/plain": [
       "(-124.482003000119, 32.5288320002052, -114.131210999644, 42.0095030001829)"
      ]
     },
     "execution_count": 5,
     "metadata": {},
     "output_type": "execute_result"
    }
   ],
   "source": [
    "# get CA boundaries\n",
    "us = gpd.read_file('Resources/us-state-boundaries.geojson')\n",
    "ca = us[us['basename']=='California']\n",
    "ca['geometry'][54].bounds"
   ]
  },
  {
   "cell_type": "code",
   "execution_count": null,
   "id": "b438cf90-4b1c-47f7-9ab6-4958788dc341",
   "metadata": {},
   "outputs": [],
   "source": [
    "# NASA FIRMS API\n",
    "base_url='https://firms.modaps.eosdis.nasa.gov/api/area/csv/'\n",
    "# MODIS_SP (MODIS Standard Processing)\n",
    "# VIIRS_SNPP_SP (VIIRS Suomi-NPP Standard Processing)\n",
    "model = 'VIIRS_SNPP_SP'\n",
    "# California BoundingBox(W,S,E,N): -124.482003000119, 32.5288320002052, -114.131210999644, 42.0095030001829\n",
    "bbox = '-125,32,-114,43'\n",
    "# Range is 1-10 days\n",
    "day_range = 10\n",
    "date =\n",
    "csv_url=f'{base_url}{nasa_key}/{model}/{bbox}/{range}/{date}'"
   ]
  },
  {
   "cell_type": "code",
   "execution_count": null,
   "id": "27f13582-d0aa-4b4e-825b-8be87e154d76",
   "metadata": {},
   "outputs": [],
   "source": []
  }
 ],
 "metadata": {
  "kernelspec": {
   "display_name": "Python 3 (ipykernel)",
   "language": "python",
   "name": "python3"
  },
  "language_info": {
   "codemirror_mode": {
    "name": "ipython",
    "version": 3
   },
   "file_extension": ".py",
   "mimetype": "text/x-python",
   "name": "python",
   "nbconvert_exporter": "python",
   "pygments_lexer": "ipython3",
   "version": "3.10.14"
  }
 },
 "nbformat": 4,
 "nbformat_minor": 5
}
