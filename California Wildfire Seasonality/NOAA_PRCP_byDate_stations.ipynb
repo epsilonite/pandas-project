{
 "cells": [
  {
   "cell_type": "code",
   "execution_count": 1,
   "id": "8dd541b7-1d52-4660-b1ea-9ba032e70469",
   "metadata": {},
   "outputs": [],
   "source": [
    "# Dependencies\n",
    "import pandas as pd"
   ]
  },
  {
   "cell_type": "code",
   "execution_count": 39,
   "id": "93687392-264f-4cf4-b39b-61ac28f0f811",
   "metadata": {},
   "outputs": [
    {
     "data": {
      "text/plain": [
       "0"
      ]
     },
     "execution_count": 39,
     "metadata": {},
     "output_type": "execute_result"
    }
   ],
   "source": [
    "# check for station inclusion od prcp data by year\n",
    "year = 2023\n",
    "stns = pd.read_csv(f'outputs/prcp/{year}/CA_{year}_stns.csv')['station'].to_list()\n",
    "df = pd.read_csv('outputs/prcp/ghcnd-stations.csv')\n",
    "r = [x for x in stns if not x in df['station'].to_list()]\n",
    "len(r)"
   ]
  },
  {
   "cell_type": "code",
   "execution_count": 40,
   "id": "594a1750-813a-46b6-b2ba-97ca6c5bfbda",
   "metadata": {},
   "outputs": [
    {
     "data": {
      "text/html": [
       "<div>\n",
       "<style scoped>\n",
       "    .dataframe tbody tr th:only-of-type {\n",
       "        vertical-align: middle;\n",
       "    }\n",
       "\n",
       "    .dataframe tbody tr th {\n",
       "        vertical-align: top;\n",
       "    }\n",
       "\n",
       "    .dataframe thead th {\n",
       "        text-align: right;\n",
       "    }\n",
       "</style>\n",
       "<table border=\"1\" class=\"dataframe\">\n",
       "  <thead>\n",
       "    <tr style=\"text-align: right;\">\n",
       "      <th></th>\n",
       "      <th>station</th>\n",
       "      <th>lat</th>\n",
       "      <th>lon</th>\n",
       "      <th>elev</th>\n",
       "      <th>name</th>\n",
       "    </tr>\n",
       "  </thead>\n",
       "  <tbody>\n",
       "    <tr>\n",
       "      <th>0</th>\n",
       "      <td>US1CAAL0001</td>\n",
       "      <td>37.8123</td>\n",
       "      <td>-122.2160</td>\n",
       "      <td>113.4</td>\n",
       "      <td>CA PIEDMONT 1.0 SE</td>\n",
       "    </tr>\n",
       "    <tr>\n",
       "      <th>1</th>\n",
       "      <td>US1CAAL0003</td>\n",
       "      <td>37.7169</td>\n",
       "      <td>-122.0585</td>\n",
       "      <td>163.4</td>\n",
       "      <td>CA CASTRO VALLEY 0.4 NNE</td>\n",
       "    </tr>\n",
       "    <tr>\n",
       "      <th>2</th>\n",
       "      <td>US1CAAL0004</td>\n",
       "      <td>37.6483</td>\n",
       "      <td>-121.8745</td>\n",
       "      <td>107.0</td>\n",
       "      <td>CA PLEASANTON 1.8 SSE</td>\n",
       "    </tr>\n",
       "    <tr>\n",
       "      <th>3</th>\n",
       "      <td>US1CAAL0006</td>\n",
       "      <td>37.8319</td>\n",
       "      <td>-122.2503</td>\n",
       "      <td>58.2</td>\n",
       "      <td>CA OAKLAND 4.4 NNW</td>\n",
       "    </tr>\n",
       "    <tr>\n",
       "      <th>4</th>\n",
       "      <td>US1CAAL0011</td>\n",
       "      <td>37.6821</td>\n",
       "      <td>-122.1332</td>\n",
       "      <td>9.1</td>\n",
       "      <td>CA SAN LORENZO 0.5 NNW</td>\n",
       "    </tr>\n",
       "    <tr>\n",
       "      <th>...</th>\n",
       "      <td>...</td>\n",
       "      <td>...</td>\n",
       "      <td>...</td>\n",
       "      <td>...</td>\n",
       "      <td>...</td>\n",
       "    </tr>\n",
       "    <tr>\n",
       "      <th>1129</th>\n",
       "      <td>USW00093241</td>\n",
       "      <td>38.3775</td>\n",
       "      <td>-121.9586</td>\n",
       "      <td>31.7</td>\n",
       "      <td>CA VACAVILLE/NUT TREE AP ASOS</td>\n",
       "    </tr>\n",
       "    <tr>\n",
       "      <th>1130</th>\n",
       "      <td>USW00093242</td>\n",
       "      <td>36.9850</td>\n",
       "      <td>-120.1106</td>\n",
       "      <td>76.5</td>\n",
       "      <td>CA MADERA MUNI AP</td>\n",
       "    </tr>\n",
       "    <tr>\n",
       "      <th>1131</th>\n",
       "      <td>USW00093243</td>\n",
       "      <td>37.2381</td>\n",
       "      <td>-120.8825</td>\n",
       "      <td>23.8</td>\n",
       "      <td>CA MERCED 23 WSW                      CRN</td>\n",
       "    </tr>\n",
       "    <tr>\n",
       "      <th>1132</th>\n",
       "      <td>USW00093245</td>\n",
       "      <td>38.3208</td>\n",
       "      <td>-123.0747</td>\n",
       "      <td>19.2</td>\n",
       "      <td>CA BODEGA 6 WSW                       CRN</td>\n",
       "    </tr>\n",
       "    <tr>\n",
       "      <th>1133</th>\n",
       "      <td>USW00094299</td>\n",
       "      <td>41.4836</td>\n",
       "      <td>-120.5614</td>\n",
       "      <td>1335.9</td>\n",
       "      <td>CA ALTURAS MUNI AP</td>\n",
       "    </tr>\n",
       "  </tbody>\n",
       "</table>\n",
       "<p>1134 rows × 5 columns</p>\n",
       "</div>"
      ],
      "text/plain": [
       "          station      lat       lon    elev  \\\n",
       "0     US1CAAL0001  37.8123 -122.2160   113.4   \n",
       "1     US1CAAL0003  37.7169 -122.0585   163.4   \n",
       "2     US1CAAL0004  37.6483 -121.8745   107.0   \n",
       "3     US1CAAL0006  37.8319 -122.2503    58.2   \n",
       "4     US1CAAL0011  37.6821 -122.1332     9.1   \n",
       "...           ...      ...       ...     ...   \n",
       "1129  USW00093241  38.3775 -121.9586    31.7   \n",
       "1130  USW00093242  36.9850 -120.1106    76.5   \n",
       "1131  USW00093243  37.2381 -120.8825    23.8   \n",
       "1132  USW00093245  38.3208 -123.0747    19.2   \n",
       "1133  USW00094299  41.4836 -120.5614  1335.9   \n",
       "\n",
       "                                                 name  \n",
       "0     CA PIEDMONT 1.0 SE                               \n",
       "1     CA CASTRO VALLEY 0.4 NNE                         \n",
       "2     CA PLEASANTON 1.8 SSE                            \n",
       "3     CA OAKLAND 4.4 NNW                               \n",
       "4     CA SAN LORENZO 0.5 NNW                           \n",
       "...                                               ...  \n",
       "1129  CA VACAVILLE/NUT TREE AP ASOS                    \n",
       "1130  CA MADERA MUNI AP                                \n",
       "1131  CA MERCED 23 WSW                      CRN        \n",
       "1132  CA BODEGA 6 WSW                       CRN        \n",
       "1133  CA ALTURAS MUNI AP                               \n",
       "\n",
       "[1134 rows x 5 columns]"
      ]
     },
     "execution_count": 40,
     "metadata": {},
     "output_type": "execute_result"
    }
   ],
   "source": [
    "df_yr = df[df['station'].isin(stns)].reset_index(drop=True)\n",
    "df_yr"
   ]
  },
  {
   "cell_type": "code",
   "execution_count": 41,
   "id": "47a04b94-a801-495f-8233-b9e4dd7c955c",
   "metadata": {},
   "outputs": [],
   "source": [
    "df_yr.to_csv(f'outputs/prcp/{year}/CA_{year}_coords.csv',index=False)"
   ]
  },
  {
   "cell_type": "code",
   "execution_count": null,
   "id": "ec558ceb-4e90-4551-9926-243747f63879",
   "metadata": {},
   "outputs": [],
   "source": []
  }
 ],
 "metadata": {
  "kernelspec": {
   "display_name": "Python 3 (ipykernel)",
   "language": "python",
   "name": "python3"
  },
  "language_info": {
   "codemirror_mode": {
    "name": "ipython",
    "version": 3
   },
   "file_extension": ".py",
   "mimetype": "text/x-python",
   "name": "python",
   "nbconvert_exporter": "python",
   "pygments_lexer": "ipython3",
   "version": "3.10.14"
  }
 },
 "nbformat": 4,
 "nbformat_minor": 5
}
