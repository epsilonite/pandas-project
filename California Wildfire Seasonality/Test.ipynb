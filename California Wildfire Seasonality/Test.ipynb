{
 "cells": [
  {
   "cell_type": "code",
   "execution_count": 1,
   "id": "6ea9a9c0-49c2-4019-a174-8acf89d9b0b8",
   "metadata": {},
   "outputs": [],
   "source": [
    "# Dependencies\n",
    "import pandas as pd\n",
    "import geopandas as gpd\n",
    "import matplotlib.pyplot as plt"
   ]
  },
  {
   "cell_type": "code",
   "execution_count": 2,
   "id": "ba15b097-3156-4934-b0da-ab081dd48517",
   "metadata": {},
   "outputs": [
    {
     "data": {
      "text/html": [
       "<div>\n",
       "<style scoped>\n",
       "    .dataframe tbody tr th:only-of-type {\n",
       "        vertical-align: middle;\n",
       "    }\n",
       "\n",
       "    .dataframe tbody tr th {\n",
       "        vertical-align: top;\n",
       "    }\n",
       "\n",
       "    .dataframe thead th {\n",
       "        text-align: right;\n",
       "    }\n",
       "</style>\n",
       "<table border=\"1\" class=\"dataframe\">\n",
       "  <thead>\n",
       "    <tr style=\"text-align: right;\">\n",
       "      <th></th>\n",
       "      <th>ALARM_DATE</th>\n",
       "      <th>CONT_DATE</th>\n",
       "      <th>CAUSE_ID</th>\n",
       "      <th>CAUSE</th>\n",
       "      <th>GIS_ACRES</th>\n",
       "      <th>AGENCY</th>\n",
       "      <th>FIRE_NAME</th>\n",
       "      <th>geometry</th>\n",
       "    </tr>\n",
       "  </thead>\n",
       "  <tbody>\n",
       "    <tr>\n",
       "      <th>0</th>\n",
       "      <td>2023-06-17</td>\n",
       "      <td>2023-06-17</td>\n",
       "      <td>5</td>\n",
       "      <td>Debris</td>\n",
       "      <td>5.729125</td>\n",
       "      <td>CDF</td>\n",
       "      <td>WHITWORTH</td>\n",
       "      <td>POLYGON ((-122.91148 41.53201, -122.91150 41.5...</td>\n",
       "    </tr>\n",
       "  </tbody>\n",
       "</table>\n",
       "</div>"
      ],
      "text/plain": [
       "   ALARM_DATE   CONT_DATE  CAUSE_ID   CAUSE  GIS_ACRES AGENCY  FIRE_NAME  \\\n",
       "0  2023-06-17  2023-06-17         5  Debris   5.729125    CDF  WHITWORTH   \n",
       "\n",
       "                                            geometry  \n",
       "0  POLYGON ((-122.91148 41.53201, -122.91150 41.5...  "
      ]
     },
     "execution_count": 2,
     "metadata": {},
     "output_type": "execute_result"
    }
   ],
   "source": [
    "yr = 2023\n",
    "fire_gdf = gpd.read_file(f'outputs/geojson/clean/ca_fire_{yr}.geojson').set_crs(4326)\n",
    "fire_gdf.head(1)"
   ]
  },
  {
   "cell_type": "code",
   "execution_count": null,
   "id": "318483c4-7ec7-40a6-b27d-66d0cc958c61",
   "metadata": {},
   "outputs": [],
   "source": [
    "df = pd.read_csv(f'outputs/prcp/{yr}/CA_{yr}_coords.csv')\n",
    "stn_gdf = gpd.GeoDataFrame(df, geometry=gpd.points_from_xy(df.lon, df.lat), crs=4326)\n",
    "stn_gdf.head(1)"
   ]
  },
  {
   "cell_type": "code",
   "execution_count": null,
   "id": "93cfac37-ace2-42fa-bcff-d525c7a224df",
   "metadata": {},
   "outputs": [],
   "source": [
    "gdf = fire_gdf.to_crs(32610).sjoin_nearest(stn_gdf.to_crs(32610)).to_crs(4326)\n",
    "gdf.head(1)"
   ]
  },
  {
   "cell_type": "code",
   "execution_count": null,
   "id": "876f0ef6-ebd6-4939-b675-4e6910c88306",
   "metadata": {},
   "outputs": [],
   "source": [
    "gdf = gdf.drop(columns=['index_right','elev','name','lat','lon']).rename(columns={'station':f'STN{yr}'})"
   ]
  },
  {
   "cell_type": "code",
   "execution_count": null,
   "id": "f9e29bb6-8d2a-4123-b600-21d71ae6e9f1",
   "metadata": {},
   "outputs": [],
   "source": [
    "gdf.head(1)"
   ]
  },
  {
   "cell_type": "code",
   "execution_count": null,
   "id": "c1552e90-3fc8-4617-9c31-d886cdc0c5cd",
   "metadata": {},
   "outputs": [],
   "source": [
    "prcp_df = pd.read_csv(f'outputs/prcp/{yr}/CA_{yr}_prcp_data.csv')"
   ]
  },
  {
   "cell_type": "code",
   "execution_count": null,
   "id": "3e509130-4c05-438f-879c-e723dcb0295d",
   "metadata": {},
   "outputs": [],
   "source": [
    "prcp__df = pd.read_csv(f'outputs/prcp/{yr-1}/CA_{yr-1}_prcp_data.csv')"
   ]
  },
  {
   "cell_type": "code",
   "execution_count": null,
   "id": "fdf36fbb-9d44-408b-bacf-2fd850e2d432",
   "metadata": {},
   "outputs": [],
   "source": []
  },
  {
   "cell_type": "code",
   "execution_count": null,
   "id": "d1ed2f46-8f6f-4cb6-b1e6-aa2d75693ae1",
   "metadata": {},
   "outputs": [],
   "source": [
    "gdf = gdf.merge(prcp_df)\n",
    "gdf"
   ]
  },
  {
   "cell_type": "code",
   "execution_count": null,
   "id": "25929aa1-e545-431a-93c4-739a4a1d78c2",
   "metadata": {},
   "outputs": [],
   "source": [
    "o_prcp_df = prcp_df.drop(columns=['station','lat','lon','elev','name'])\n",
    "\n",
    "plt.bar(o_prcp_df.columns.to_list(),o_prcp_df.sum().to_list())\n",
    "plt.show()"
   ]
  },
  {
   "cell_type": "code",
   "execution_count": null,
   "id": "33b7c9ef-74db-4c56-9d23-b6c3fa6539bb",
   "metadata": {},
   "outputs": [],
   "source": [
    "prcp_gdf = gdf.loc[:, (gdf != 0.0).any(axis=0)]"
   ]
  },
  {
   "cell_type": "code",
   "execution_count": null,
   "id": "1b1af509-6f15-4862-888c-bc2eeb8932cc",
   "metadata": {},
   "outputs": [],
   "source": [
    "prcp_gdf.columns.to_list()"
   ]
  },
  {
   "cell_type": "code",
   "execution_count": null,
   "id": "7d020e18-0976-4ef1-8f9b-70b0a3e798a0",
   "metadata": {},
   "outputs": [],
   "source": []
  }
 ],
 "metadata": {
  "kernelspec": {
   "display_name": "Python 3 (ipykernel)",
   "language": "python",
   "name": "python3"
  },
  "language_info": {
   "codemirror_mode": {
    "name": "ipython",
    "version": 3
   },
   "file_extension": ".py",
   "mimetype": "text/x-python",
   "name": "python",
   "nbconvert_exporter": "python",
   "pygments_lexer": "ipython3",
   "version": "3.10.14"
  }
 },
 "nbformat": 4,
 "nbformat_minor": 5
}
