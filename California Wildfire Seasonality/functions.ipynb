{
 "cells": [
  {
   "cell_type": "code",
   "execution_count": 23,
   "id": "41350668-52e3-46f6-9c7a-010adadb3809",
   "metadata": {},
   "outputs": [],
   "source": [
    "# Dependencies\n",
    "import math as m\n",
    "import shapely as shp"
   ]
  },
  {
   "cell_type": "code",
   "execution_count": 20,
   "id": "3595dbac-5cdc-44fb-a89c-b06eece60d13",
   "metadata": {},
   "outputs": [],
   "source": [
    "# Haversine distance equation\n",
    "def haversine_distance(x1,y1,x2,y2):\n",
    "    r = 6371 # mean radius of earth in km\n",
    "    n = 1 - m.cos(m.radians(y2-y1)) + m.cos(m.radians(y1))*m.cos(m.radians(y2))*(1-m.cos(m.radians(x2-x1)))\n",
    "    return 2*r *m.asin(m.sqrt(n/2))"
   ]
  },
  {
   "cell_type": "code",
   "execution_count": 22,
   "id": "0687d178-6a93-473a-b69b-0c1bdf2c5baa",
   "metadata": {},
   "outputs": [],
   "source": [
    "def acre2km2(n):\n",
    "    return 0.00404685642*n"
   ]
  },
  {
   "cell_type": "code",
   "execution_count": 26,
   "id": "6e173c02-72ad-48ec-bca0-e23e52421b91",
   "metadata": {},
   "outputs": [],
   "source": [
    "def haversine_bearing(x,y,d,a):\n",
    "    R = 6371 # mean radius of earth in km\n",
    "    lat = m.asin( m.sin(m.radians(y))*m.cos(d/6371) + m.cos(m.radians(y))*m.sin(d/R)*m.cos(a) )\n",
    "    lon = m.radians(x) + m.atan2( m.sin(a)*m.sin(d/R)*m.cos(m.radians(y)), m.cos(d/R) - m.sin(m.radians(y))*m.sin(lat) )\n",
    "    return [(m.degrees(lon)+540)%360-180,m.degrees(lat)]"
   ]
  },
  {
   "cell_type": "code",
   "execution_count": 27,
   "id": "7fa1d025-aee1-4486-85f1-19d9660c9a46",
   "metadata": {},
   "outputs": [],
   "source": [
    "def polycircle(x,y,r):\n",
    "    coords = []\n",
    "    for i in range(0,16):\n",
    "        p = shapely.geometry.Point(haversine_bearing(x,y,r,i*m.pi/8))\n",
    "        coords.append((p.x, p.y))\n",
    "    return shapely.geometry.Polygon(coords)"
   ]
  },
  {
   "cell_type": "code",
   "execution_count": null,
   "id": "e6daf953-4f6d-40d4-8539-f9ae8bf35303",
   "metadata": {},
   "outputs": [],
   "source": []
  }
 ],
 "metadata": {
  "kernelspec": {
   "display_name": "Python 3 (ipykernel)",
   "language": "python",
   "name": "python3"
  },
  "language_info": {
   "codemirror_mode": {
    "name": "ipython",
    "version": 3
   },
   "file_extension": ".py",
   "mimetype": "text/x-python",
   "name": "python",
   "nbconvert_exporter": "python",
   "pygments_lexer": "ipython3",
   "version": "3.10.14"
  }
 },
 "nbformat": 4,
 "nbformat_minor": 5
}
