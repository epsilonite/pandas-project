{
 "cells": [
  {
   "cell_type": "code",
   "execution_count": 9,
   "id": "41350668-52e3-46f6-9c7a-010adadb3809",
   "metadata": {},
   "outputs": [],
   "source": [
    "# Dependencies\n",
    "import pandas as pd\n",
    "import math as m"
   ]
  },
  {
   "cell_type": "code",
   "execution_count": null,
   "id": "60c1b377-7c83-4063-95d5-848195274fda",
   "metadata": {},
   "outputs": [],
   "source": [
    "def get_prcp(lat,lon):\n",
    "    df = pd.read_csv('outputs/prcp/ghcnd-stations.csv')\n"
   ]
  },
  {
   "cell_type": "code",
   "execution_count": 20,
   "id": "3595dbac-5cdc-44fb-a89c-b06eece60d13",
   "metadata": {},
   "outputs": [],
   "source": [
    "# Haversine distance equation\n",
    "def haversine(x1,y1,x2,y2):\n",
    "    r = 6371 # mean radius of earth in km\n",
    "    n = 1 - m.cos(m.radians(y2-y1)) + m.cos(m.radians(y1))*m.cos(m.radians(y2))*(1-m.cos(m.radians(x2-x1)))\n",
    "    return 2*r *m.asin(m.sqrt(n/2))"
   ]
  },
  {
   "cell_type": "code",
   "execution_count": 22,
   "id": "0687d178-6a93-473a-b69b-0c1bdf2c5baa",
   "metadata": {},
   "outputs": [],
   "source": [
    "def acre2km2(n):\n",
    "    return 0.00404685642*n"
   ]
  },
  {
   "cell_type": "code",
   "execution_count": null,
   "id": "6e173c02-72ad-48ec-bca0-e23e52421b91",
   "metadata": {},
   "outputs": [],
   "source": []
  }
 ],
 "metadata": {
  "kernelspec": {
   "display_name": "Python 3 (ipykernel)",
   "language": "python",
   "name": "python3"
  },
  "language_info": {
   "codemirror_mode": {
    "name": "ipython",
    "version": 3
   },
   "file_extension": ".py",
   "mimetype": "text/x-python",
   "name": "python",
   "nbconvert_exporter": "python",
   "pygments_lexer": "ipython3",
   "version": "3.10.14"
  }
 },
 "nbformat": 4,
 "nbformat_minor": 5
}
